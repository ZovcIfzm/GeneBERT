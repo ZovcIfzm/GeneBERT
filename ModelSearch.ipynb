{
  "nbformat": 4,
  "nbformat_minor": 0,
  "metadata": {
    "colab": {
      "name": "ModelSearch",
      "provenance": [],
      "collapsed_sections": []
    },
    "kernelspec": {
      "name": "python3",
      "display_name": "Python 3"
    },
    "language_info": {
      "name": "python"
    },
    "accelerator": "GPU"
  },
  "cells": [
    {
      "cell_type": "code",
      "metadata": {
        "colab": {
          "base_uri": "https://localhost:8080/"
        },
        "id": "_jALT04R6vzz",
        "outputId": "c63fc7fe-8d93-4d9d-8a98-e68a3b66a97b"
      },
      "source": [
        "!git clone https://github.com/google/model_search.git"
      ],
      "execution_count": 2,
      "outputs": [
        {
          "output_type": "stream",
          "text": [
            "Cloning into 'model_search'...\n",
            "remote: Enumerating objects: 203, done.\u001b[K\n",
            "remote: Counting objects: 100% (33/33), done.\u001b[K\n",
            "remote: Compressing objects: 100% (29/29), done.\u001b[K\n",
            "remote: Total 203 (delta 6), reused 22 (delta 4), pack-reused 170\u001b[K\n",
            "Receiving objects: 100% (203/203), 252.61 KiB | 14.86 MiB/s, done.\n",
            "Resolving deltas: 100% (59/59), done.\n"
          ],
          "name": "stdout"
        }
      ]
    },
    {
      "cell_type": "code",
      "metadata": {
        "colab": {
          "base_uri": "https://localhost:8080/"
        },
        "id": "KoBAeo2i6-Ob",
        "outputId": "fa7645ee-649d-41da-825c-ac630161368b"
      },
      "source": [
        "%cd model_search\n",
        "!pwd"
      ],
      "execution_count": 3,
      "outputs": [
        {
          "output_type": "stream",
          "text": [
            "/content/model_search\n",
            "/content/model_search\n"
          ],
          "name": "stdout"
        }
      ]
    },
    {
      "cell_type": "code",
      "metadata": {
        "colab": {
          "base_uri": "https://localhost:8080/"
        },
        "id": "r1pzsSkI7BMA",
        "outputId": "e9a3b640-71a6-4c22-cbda-02309c436fa0"
      },
      "source": [
        "!ls"
      ],
      "execution_count": 4,
      "outputs": [
        {
          "output_type": "stream",
          "text": [
            "CONTRIBUTING.md  LICENSE  model_search\tREADME.md  requirements.txt  WORKSPACE\n"
          ],
          "name": "stdout"
        }
      ]
    },
    {
      "cell_type": "code",
      "metadata": {
        "colab": {
          "base_uri": "https://localhost:8080/"
        },
        "id": "3b_d8v0N7B-P",
        "outputId": "6c8edc3a-9deb-40da-b3c8-4bc5d996a2e4"
      },
      "source": [
        "!pip install -r requirements.txt"
      ],
      "execution_count": 5,
      "outputs": [
        {
          "output_type": "stream",
          "text": [
            "Requirement already satisfied: six==1.15.0 in /usr/local/lib/python3.7/dist-packages (from -r requirements.txt (line 1)) (1.15.0)\n",
            "Requirement already satisfied: sklearn==0.0 in /usr/local/lib/python3.7/dist-packages (from -r requirements.txt (line 2)) (0.0)\n",
            "Collecting tensorflow==2.2.0\n",
            "\u001b[?25l  Downloading https://files.pythonhosted.org/packages/4c/1a/0d79814736cfecc825ab8094b39648cc9c46af7af1bae839928acb73b4dd/tensorflow-2.2.0-cp37-cp37m-manylinux2010_x86_64.whl (516.2MB)\n",
            "\u001b[K     |████████████████████████████████| 516.2MB 33kB/s \n",
            "\u001b[?25hCollecting absl-py==0.10.0\n",
            "\u001b[?25l  Downloading https://files.pythonhosted.org/packages/b9/07/f69dd3367368ad69f174bfe426a973651412ec11d48ec05c000f19fe0561/absl_py-0.10.0-py3-none-any.whl (127kB)\n",
            "\u001b[K     |████████████████████████████████| 133kB 50.0MB/s \n",
            "\u001b[?25hCollecting tf-slim==1.1.0\n",
            "\u001b[?25l  Downloading https://files.pythonhosted.org/packages/02/97/b0f4a64df018ca018cc035d44f2ef08f91e2e8aa67271f6f19633a015ff7/tf_slim-1.1.0-py2.py3-none-any.whl (352kB)\n",
            "\u001b[K     |████████████████████████████████| 358kB 31.4MB/s \n",
            "\u001b[?25hCollecting ml-metadata==0.26.0\n",
            "\u001b[?25l  Downloading https://files.pythonhosted.org/packages/01/cb/e6321afca3126feb0d3d24344c5229ebaebd91e94fc9761f392342a0ac17/ml_metadata-0.26.0-cp37-cp37m-manylinux2010_x86_64.whl (2.8MB)\n",
            "\u001b[K     |████████████████████████████████| 2.8MB 47.3MB/s \n",
            "\u001b[?25hCollecting keras-tuner==1.0.2\n",
            "\u001b[?25l  Downloading https://files.pythonhosted.org/packages/20/ec/1ef246787174b1e2bb591c95f29d3c1310070cad877824f907faba3dade9/keras-tuner-1.0.2.tar.gz (62kB)\n",
            "\u001b[K     |████████████████████████████████| 71kB 8.3MB/s \n",
            "\u001b[?25hCollecting mock==4.0.3\n",
            "  Downloading https://files.pythonhosted.org/packages/5c/03/b7e605db4a57c0f6fba744b11ef3ddf4ddebcada35022927a2b5fc623fdf/mock-4.0.3-py3-none-any.whl\n",
            "Requirement already satisfied: scikit-learn in /usr/local/lib/python3.7/dist-packages (from sklearn==0.0->-r requirements.txt (line 2)) (0.22.2.post1)\n",
            "Requirement already satisfied: gast==0.3.3 in /usr/local/lib/python3.7/dist-packages (from tensorflow==2.2.0->-r requirements.txt (line 3)) (0.3.3)\n",
            "Requirement already satisfied: astunparse==1.6.3 in /usr/local/lib/python3.7/dist-packages (from tensorflow==2.2.0->-r requirements.txt (line 3)) (1.6.3)\n",
            "Collecting tensorflow-estimator<2.3.0,>=2.2.0\n",
            "\u001b[?25l  Downloading https://files.pythonhosted.org/packages/a4/f5/926ae53d6a226ec0fda5208e0e581cffed895ccc89e36ba76a8e60895b78/tensorflow_estimator-2.2.0-py2.py3-none-any.whl (454kB)\n",
            "\u001b[K     |████████████████████████████████| 460kB 55.4MB/s \n",
            "\u001b[?25hRequirement already satisfied: keras-preprocessing>=1.1.0 in /usr/local/lib/python3.7/dist-packages (from tensorflow==2.2.0->-r requirements.txt (line 3)) (1.1.2)\n",
            "Requirement already satisfied: protobuf>=3.8.0 in /usr/local/lib/python3.7/dist-packages (from tensorflow==2.2.0->-r requirements.txt (line 3)) (3.12.4)\n",
            "Collecting tensorboard<2.3.0,>=2.2.0\n",
            "\u001b[?25l  Downloading https://files.pythonhosted.org/packages/1d/74/0a6fcb206dcc72a6da9a62dd81784bfdbff5fedb099982861dc2219014fb/tensorboard-2.2.2-py3-none-any.whl (3.0MB)\n",
            "\u001b[K     |████████████████████████████████| 3.0MB 51.6MB/s \n",
            "\u001b[?25hRequirement already satisfied: wheel>=0.26; python_version >= \"3\" in /usr/local/lib/python3.7/dist-packages (from tensorflow==2.2.0->-r requirements.txt (line 3)) (0.36.2)\n",
            "Requirement already satisfied: scipy==1.4.1; python_version >= \"3\" in /usr/local/lib/python3.7/dist-packages (from tensorflow==2.2.0->-r requirements.txt (line 3)) (1.4.1)\n",
            "Requirement already satisfied: google-pasta>=0.1.8 in /usr/local/lib/python3.7/dist-packages (from tensorflow==2.2.0->-r requirements.txt (line 3)) (0.2.0)\n",
            "Requirement already satisfied: termcolor>=1.1.0 in /usr/local/lib/python3.7/dist-packages (from tensorflow==2.2.0->-r requirements.txt (line 3)) (1.1.0)\n",
            "Requirement already satisfied: h5py<2.11.0,>=2.10.0 in /usr/local/lib/python3.7/dist-packages (from tensorflow==2.2.0->-r requirements.txt (line 3)) (2.10.0)\n",
            "Requirement already satisfied: numpy<2.0,>=1.16.0 in /usr/local/lib/python3.7/dist-packages (from tensorflow==2.2.0->-r requirements.txt (line 3)) (1.19.5)\n",
            "Requirement already satisfied: wrapt>=1.11.1 in /usr/local/lib/python3.7/dist-packages (from tensorflow==2.2.0->-r requirements.txt (line 3)) (1.12.1)\n",
            "Requirement already satisfied: grpcio>=1.8.6 in /usr/local/lib/python3.7/dist-packages (from tensorflow==2.2.0->-r requirements.txt (line 3)) (1.32.0)\n",
            "Requirement already satisfied: opt-einsum>=2.3.2 in /usr/local/lib/python3.7/dist-packages (from tensorflow==2.2.0->-r requirements.txt (line 3)) (3.3.0)\n",
            "Requirement already satisfied: attrs<21,>=20.3 in /usr/local/lib/python3.7/dist-packages (from ml-metadata==0.26.0->-r requirements.txt (line 6)) (20.3.0)\n",
            "Requirement already satisfied: packaging in /usr/local/lib/python3.7/dist-packages (from keras-tuner==1.0.2->-r requirements.txt (line 7)) (20.9)\n",
            "Requirement already satisfied: future in /usr/local/lib/python3.7/dist-packages (from keras-tuner==1.0.2->-r requirements.txt (line 7)) (0.16.0)\n",
            "Requirement already satisfied: tabulate in /usr/local/lib/python3.7/dist-packages (from keras-tuner==1.0.2->-r requirements.txt (line 7)) (0.8.9)\n",
            "Collecting terminaltables\n",
            "  Downloading https://files.pythonhosted.org/packages/9b/c4/4a21174f32f8a7e1104798c445dacdc1d4df86f2f26722767034e4de4bff/terminaltables-3.1.0.tar.gz\n",
            "Collecting colorama\n",
            "  Downloading https://files.pythonhosted.org/packages/44/98/5b86278fbbf250d239ae0ecb724f8572af1c91f4a11edf4d36a206189440/colorama-0.4.4-py2.py3-none-any.whl\n",
            "Requirement already satisfied: tqdm in /usr/local/lib/python3.7/dist-packages (from keras-tuner==1.0.2->-r requirements.txt (line 7)) (4.41.1)\n",
            "Requirement already satisfied: requests in /usr/local/lib/python3.7/dist-packages (from keras-tuner==1.0.2->-r requirements.txt (line 7)) (2.23.0)\n",
            "Requirement already satisfied: joblib>=0.11 in /usr/local/lib/python3.7/dist-packages (from scikit-learn->sklearn==0.0->-r requirements.txt (line 2)) (1.0.1)\n",
            "Requirement already satisfied: setuptools in /usr/local/lib/python3.7/dist-packages (from protobuf>=3.8.0->tensorflow==2.2.0->-r requirements.txt (line 3)) (54.2.0)\n",
            "Requirement already satisfied: werkzeug>=0.11.15 in /usr/local/lib/python3.7/dist-packages (from tensorboard<2.3.0,>=2.2.0->tensorflow==2.2.0->-r requirements.txt (line 3)) (1.0.1)\n",
            "Requirement already satisfied: google-auth-oauthlib<0.5,>=0.4.1 in /usr/local/lib/python3.7/dist-packages (from tensorboard<2.3.0,>=2.2.0->tensorflow==2.2.0->-r requirements.txt (line 3)) (0.4.4)\n",
            "Requirement already satisfied: markdown>=2.6.8 in /usr/local/lib/python3.7/dist-packages (from tensorboard<2.3.0,>=2.2.0->tensorflow==2.2.0->-r requirements.txt (line 3)) (3.3.4)\n",
            "Requirement already satisfied: google-auth<2,>=1.6.3 in /usr/local/lib/python3.7/dist-packages (from tensorboard<2.3.0,>=2.2.0->tensorflow==2.2.0->-r requirements.txt (line 3)) (1.28.1)\n",
            "Requirement already satisfied: tensorboard-plugin-wit>=1.6.0 in /usr/local/lib/python3.7/dist-packages (from tensorboard<2.3.0,>=2.2.0->tensorflow==2.2.0->-r requirements.txt (line 3)) (1.8.0)\n",
            "Requirement already satisfied: pyparsing>=2.0.2 in /usr/local/lib/python3.7/dist-packages (from packaging->keras-tuner==1.0.2->-r requirements.txt (line 7)) (2.4.7)\n",
            "Requirement already satisfied: urllib3!=1.25.0,!=1.25.1,<1.26,>=1.21.1 in /usr/local/lib/python3.7/dist-packages (from requests->keras-tuner==1.0.2->-r requirements.txt (line 7)) (1.24.3)\n",
            "Requirement already satisfied: certifi>=2017.4.17 in /usr/local/lib/python3.7/dist-packages (from requests->keras-tuner==1.0.2->-r requirements.txt (line 7)) (2020.12.5)\n",
            "Requirement already satisfied: idna<3,>=2.5 in /usr/local/lib/python3.7/dist-packages (from requests->keras-tuner==1.0.2->-r requirements.txt (line 7)) (2.10)\n",
            "Requirement already satisfied: chardet<4,>=3.0.2 in /usr/local/lib/python3.7/dist-packages (from requests->keras-tuner==1.0.2->-r requirements.txt (line 7)) (3.0.4)\n",
            "Requirement already satisfied: requests-oauthlib>=0.7.0 in /usr/local/lib/python3.7/dist-packages (from google-auth-oauthlib<0.5,>=0.4.1->tensorboard<2.3.0,>=2.2.0->tensorflow==2.2.0->-r requirements.txt (line 3)) (1.3.0)\n",
            "Requirement already satisfied: importlib-metadata; python_version < \"3.8\" in /usr/local/lib/python3.7/dist-packages (from markdown>=2.6.8->tensorboard<2.3.0,>=2.2.0->tensorflow==2.2.0->-r requirements.txt (line 3)) (3.10.0)\n",
            "Requirement already satisfied: cachetools<5.0,>=2.0.0 in /usr/local/lib/python3.7/dist-packages (from google-auth<2,>=1.6.3->tensorboard<2.3.0,>=2.2.0->tensorflow==2.2.0->-r requirements.txt (line 3)) (4.2.1)\n",
            "Requirement already satisfied: rsa<5,>=3.1.4; python_version >= \"3.6\" in /usr/local/lib/python3.7/dist-packages (from google-auth<2,>=1.6.3->tensorboard<2.3.0,>=2.2.0->tensorflow==2.2.0->-r requirements.txt (line 3)) (4.7.2)\n",
            "Requirement already satisfied: pyasn1-modules>=0.2.1 in /usr/local/lib/python3.7/dist-packages (from google-auth<2,>=1.6.3->tensorboard<2.3.0,>=2.2.0->tensorflow==2.2.0->-r requirements.txt (line 3)) (0.2.8)\n",
            "Requirement already satisfied: oauthlib>=3.0.0 in /usr/local/lib/python3.7/dist-packages (from requests-oauthlib>=0.7.0->google-auth-oauthlib<0.5,>=0.4.1->tensorboard<2.3.0,>=2.2.0->tensorflow==2.2.0->-r requirements.txt (line 3)) (3.1.0)\n",
            "Requirement already satisfied: zipp>=0.5 in /usr/local/lib/python3.7/dist-packages (from importlib-metadata; python_version < \"3.8\"->markdown>=2.6.8->tensorboard<2.3.0,>=2.2.0->tensorflow==2.2.0->-r requirements.txt (line 3)) (3.4.1)\n",
            "Requirement already satisfied: typing-extensions>=3.6.4; python_version < \"3.8\" in /usr/local/lib/python3.7/dist-packages (from importlib-metadata; python_version < \"3.8\"->markdown>=2.6.8->tensorboard<2.3.0,>=2.2.0->tensorflow==2.2.0->-r requirements.txt (line 3)) (3.7.4.3)\n",
            "Requirement already satisfied: pyasn1>=0.1.3 in /usr/local/lib/python3.7/dist-packages (from rsa<5,>=3.1.4; python_version >= \"3.6\"->google-auth<2,>=1.6.3->tensorboard<2.3.0,>=2.2.0->tensorflow==2.2.0->-r requirements.txt (line 3)) (0.4.8)\n",
            "Building wheels for collected packages: keras-tuner, terminaltables\n",
            "  Building wheel for keras-tuner (setup.py) ... \u001b[?25l\u001b[?25hdone\n",
            "  Created wheel for keras-tuner: filename=keras_tuner-1.0.2-cp37-none-any.whl size=78938 sha256=c3b309cf8d87fc6f1a015b6f72594ab50cff7dd58effdd55d2dfad098b8361a4\n",
            "  Stored in directory: /root/.cache/pip/wheels/bb/a1/8a/7c3de0efb3707a1701b36ebbfdbc4e67aedf6d4943a1f463d6\n",
            "  Building wheel for terminaltables (setup.py) ... \u001b[?25l\u001b[?25hdone\n",
            "  Created wheel for terminaltables: filename=terminaltables-3.1.0-cp37-none-any.whl size=15356 sha256=6f14d5c210ed76209ae01ea1ad22d1a7fdbcc3fd7f033ec0344e3a45fb9f4902\n",
            "  Stored in directory: /root/.cache/pip/wheels/30/6b/50/6c75775b681fb36cdfac7f19799888ef9d8813aff9e379663e\n",
            "Successfully built keras-tuner terminaltables\n",
            "Installing collected packages: tensorflow-estimator, absl-py, tensorboard, tensorflow, tf-slim, ml-metadata, terminaltables, colorama, keras-tuner, mock\n",
            "  Found existing installation: tensorflow-estimator 2.4.0\n",
            "    Uninstalling tensorflow-estimator-2.4.0:\n",
            "      Successfully uninstalled tensorflow-estimator-2.4.0\n",
            "  Found existing installation: absl-py 0.12.0\n",
            "    Uninstalling absl-py-0.12.0:\n",
            "      Successfully uninstalled absl-py-0.12.0\n",
            "  Found existing installation: tensorboard 2.4.1\n",
            "    Uninstalling tensorboard-2.4.1:\n",
            "      Successfully uninstalled tensorboard-2.4.1\n",
            "  Found existing installation: tensorflow 2.4.1\n",
            "    Uninstalling tensorflow-2.4.1:\n",
            "      Successfully uninstalled tensorflow-2.4.1\n",
            "Successfully installed absl-py-0.10.0 colorama-0.4.4 keras-tuner-1.0.2 ml-metadata-0.26.0 mock-4.0.3 tensorboard-2.2.2 tensorflow-2.2.0 tensorflow-estimator-2.2.0 terminaltables-3.1.0 tf-slim-1.1.0\n"
          ],
          "name": "stdout"
        }
      ]
    },
    {
      "cell_type": "code",
      "metadata": {
        "id": "ijZVshiq7TVg"
      },
      "source": [
        "!protoc --python_out=./ model_search/proto/phoenix_spec.proto\n",
        "!protoc --python_out=./ model_search/proto/hparam.proto\n",
        "!protoc --python_out=./ model_search/proto/distillation_spec.proto\n",
        "!protoc --python_out=./ model_search/proto/ensembling_spec.proto\n",
        "!protoc --python_out=./ model_search/proto/transfer_learning_spec.proto\n"
      ],
      "execution_count": 7,
      "outputs": []
    },
    {
      "cell_type": "code",
      "metadata": {
        "colab": {
          "base_uri": "https://localhost:8080/"
        },
        "id": "T37NBpqs7Ec4",
        "outputId": "886ac9dc-9b48-462d-e38a-9b5452c751bc"
      },
      "source": [
        "# change data path to conatin the processed data\n",
        "data_path = \"/content/drive/MyDrive/model_search/data/ProcessedData/\"\n",
        "!ls \"/content/drive/MyDrive/model_search/data/ProcessedData/\""
      ],
      "execution_count": 22,
      "outputs": [
        {
          "output_type": "stream",
          "text": [
            "E003.expr.csv\tE005.train.csv\tE037.expr.csv\tE116.train.csv\n",
            "E003.test.csv\tE005.valid.csv\tE037.test.csv\tE116.valid.csv\n",
            "E003.train.csv\tE006.expr.csv\tE037.train.csv\tE123.expr.csv\n",
            "E003.valid.csv\tE006.test.csv\tE037.valid.csv\tE123.test.csv\n",
            "E004.expr.csv\tE006.train.csv\tE038.expr.csv\tE123.train.csv\n",
            "E004.test.csv\tE006.valid.csv\tE038.test.csv\tE123.valid.csv\n",
            "E004.train.csv\tE007.expr.csv\tE038.train.csv\tGeneFile.windows.bed.zip\n",
            "E004.valid.csv\tE007.test.csv\tE038.valid.csv\n",
            "E005.expr.csv\tE007.train.csv\tE116.expr.csv\n",
            "E005.test.csv\tE007.valid.csv\tE116.test.csv\n"
          ],
          "name": "stdout"
        }
      ]
    },
    {
      "cell_type": "code",
      "metadata": {
        "colab": {
          "base_uri": "https://localhost:8080/"
        },
        "id": "yicVIxzxHjwK",
        "outputId": "ceb3b42f-1dc1-4112-a243-10d8cce64e99"
      },
      "source": [
        "# Concatenate and label data\n",
        "import pandas as pd\n",
        "REMC_ids = [\"E003\",\"E004\",\"E005\",\"E006\",\"E007\",\"E123\",\"E116\",\"E037\",\"E038\"]\n",
        "df = pd.DataFrame()\n",
        "\n",
        "# Not sure if label should go with id\n",
        "label = 0;\n",
        "for id in REMC_ids:\n",
        "  file = data_path+id+\".train.csv\"\n",
        "  temp = pd.read_csv(file,header=None)\n",
        "  temp[0].values[:] = label\n",
        "  df = df.append(temp)\n",
        "  label = label + 1\n",
        "\n",
        "# # Or if label should go with gene\n",
        "# for id in REMC_ids:\n",
        "#   file = data_path+id+\".train.csv\"\n",
        "#   df = df.append(pd.read_csv(file,header=None))\n",
        "# df[df.columns[0]] = df[df.columns[0]].str.extract(r'([_]{1}[^_]+[_]{1})')\n",
        "# df[0] = pd.factorize(df[0])[0]\n",
        "\n",
        "print(df)"
      ],
      "execution_count": 49,
      "outputs": [
        {
          "output_type": "stream",
          "text": [
            "         0  1  2  3  4  5\n",
            "0        0  2  0  0  1  1\n",
            "1        0  3  1  0  1  1\n",
            "2        0  4  0  0  1  0\n",
            "3        0  0  1  0  0  0\n",
            "4        0  0  0  0  0  0\n",
            "...     .. .. .. .. .. ..\n",
            "1999995  8  0  0  0  1  0\n",
            "1999996  8  1  0  1  1  0\n",
            "1999997  8  1  0  3  1  1\n",
            "1999998  8  1  0  1  0  0\n",
            "1999999  8  2  0  0  0  1\n",
            "\n",
            "[18000000 rows x 6 columns]\n"
          ],
          "name": "stdout"
        }
      ]
    },
    {
      "cell_type": "code",
      "metadata": {
        "id": "fZaIS2lOQ9ae"
      },
      "source": [
        "# Save dataframe as temporary csv\n",
        "df.to_csv('tmp.csv',header=False,index=False)"
      ],
      "execution_count": 50,
      "outputs": []
    },
    {
      "cell_type": "code",
      "metadata": {
        "id": "3hH99Qr_9ExB"
      },
      "source": [
        "# Use google model search to create trainer\n",
        "import model_search\n",
        "from model_search import constants\n",
        "from model_search import single_trainer\n",
        "from model_search.data import csv_data\n",
        "\n",
        "trainer = single_trainer.SingleTrainer(\n",
        "    data=csv_data.Provider(\n",
        "        label_index=0,\n",
        "        logits_dimension=2,\n",
        "        record_defaults=[0,0,0,0,0,0],\n",
        "        filename=\"tmp.csv\"),\n",
        "    spec='model_search/configs/dnn_config.pbtxt')"
      ],
      "execution_count": 51,
      "outputs": []
    },
    {
      "cell_type": "code",
      "metadata": {
        "colab": {
          "base_uri": "https://localhost:8080/"
        },
        "id": "rlaKZqAeBGc1",
        "outputId": "07852584-7193-411f-dfd3-9abf957f7c3c"
      },
      "source": [
        "!mkdir /tmp/run_example"
      ],
      "execution_count": 52,
      "outputs": [
        {
          "output_type": "stream",
          "text": [
            "mkdir: cannot create directory ‘/tmp/run_example’: File exists\n"
          ],
          "name": "stdout"
        }
      ]
    },
    {
      "cell_type": "code",
      "metadata": {
        "id": "kDi9VFnZFE0-"
      },
      "source": [
        "!rm -r /tmp/run_example/"
      ],
      "execution_count": 53,
      "outputs": []
    },
    {
      "cell_type": "code",
      "metadata": {
        "id": "xU1w4AZqFIIa"
      },
      "source": [
        "import sys\n",
        "from absl import app\n",
        "sys.argv = sys.argv[:1]\n",
        "\n",
        "try:\n",
        "  app.run(lambda argv: None)\n",
        "except:\n",
        "  pass"
      ],
      "execution_count": 54,
      "outputs": []
    },
    {
      "cell_type": "code",
      "metadata": {
        "colab": {
          "base_uri": "https://localhost:8080/"
        },
        "id": "w_npv2ceFXf9",
        "outputId": "72dffed3-4b6f-4a9a-b732-4fc093a2552b"
      },
      "source": [
        "# Use google model search with any number of trials\n",
        "trainer.try_models(\n",
        "    number_models=200,\n",
        "    train_steps=5,\n",
        "    eval_steps=1,\n",
        "    root_dir=\"/tmp/run_example\",\n",
        "    batch_size=512,\n",
        "    experiment_name=\"example\",\n",
        "    experiment_owner=\"model_search_user\")"
      ],
      "execution_count": 55,
      "outputs": [
        {
          "output_type": "stream",
          "text": [
            "I0415 21:06:35.402992 139697096087424 metadata_store.py:93] MetadataStore with DB connection initialized\n",
            "I0415 21:06:35.425943 139697096087424 oss_trainer_lib.py:290] creating directory: /tmp/run_example/tuner-1/1\n",
            "I0415 21:06:35.427061 139697096087424 oss_trainer_lib.py:337] Tuner id: tuner-1\n",
            "I0415 21:06:35.430899 139697096087424 oss_trainer_lib.py:338] Training with the following hyperparameters: \n",
            "I0415 21:06:35.434275 139697096087424 oss_trainer_lib.py:339] {'learning_rate': 8.7941194222574e-06, 'new_block_type': 'FULLY_CONNECTED_RESIDUAL_PROJECT_BATCHNORM', 'optimizer': 'rmsprop', 'initial_architecture_0': 'FULLY_CONNECTED_RESIDUAL_FORCE_MATCH_SHAPES_BATCHNORM', 'exponential_decay_rate': 0.7953411691736654, 'exponential_decay_steps': 2, 'gradient_max_norm': 4, 'dropout_rate': 0.40000001490116116, 'initial_architecture': ['FULLY_CONNECTED_RESIDUAL_FORCE_MATCH_SHAPES_BATCHNORM']}\n"
          ],
          "name": "stderr"
        },
        {
          "output_type": "stream",
          "text": [
            "INFO:tensorflow:TF_CONFIG environment variable: {'model_dir': '/tmp/run_example/tuner-1/1', 'session_master': ''}\n"
          ],
          "name": "stdout"
        },
        {
          "output_type": "stream",
          "text": [
            "I0415 21:06:35.435672 139697096087424 run_config.py:550] TF_CONFIG environment variable: {'model_dir': '/tmp/run_example/tuner-1/1', 'session_master': ''}\n"
          ],
          "name": "stderr"
        },
        {
          "output_type": "stream",
          "text": [
            "INFO:tensorflow:Using model_dir in TF_CONFIG: /tmp/run_example/tuner-1/1\n"
          ],
          "name": "stdout"
        },
        {
          "output_type": "stream",
          "text": [
            "I0415 21:06:35.440939 139697096087424 run_config.py:973] Using model_dir in TF_CONFIG: /tmp/run_example/tuner-1/1\n"
          ],
          "name": "stderr"
        },
        {
          "output_type": "stream",
          "text": [
            "INFO:tensorflow:Using config: {'_model_dir': '/tmp/run_example/tuner-1/1', '_tf_random_seed': None, '_save_summary_steps': 2000, '_save_checkpoints_steps': None, '_save_checkpoints_secs': 120, '_session_config': allow_soft_placement: true\n",
            "graph_options {\n",
            "  rewrite_options {\n",
            "    meta_optimizer_iterations: ONE\n",
            "  }\n",
            "}\n",
            ", '_keep_checkpoint_max': 5, '_keep_checkpoint_every_n_hours': 10000, '_log_step_count_steps': 100, '_train_distribute': None, '_device_fn': None, '_protocol': None, '_eval_distribute': None, '_experimental_distribute': None, '_experimental_max_worker_delay_secs': None, '_session_creation_timeout_secs': 7200, '_service': None, '_cluster_spec': ClusterSpec({}), '_task_type': 'worker', '_task_id': 0, '_global_id_in_cluster': 0, '_master': '', '_evaluation_master': '', '_is_chief': True, '_num_ps_replicas': 0, '_num_worker_replicas': 1}\n"
          ],
          "name": "stdout"
        },
        {
          "output_type": "stream",
          "text": [
            "I0415 21:06:35.443708 139697096087424 estimator.py:191] Using config: {'_model_dir': '/tmp/run_example/tuner-1/1', '_tf_random_seed': None, '_save_summary_steps': 2000, '_save_checkpoints_steps': None, '_save_checkpoints_secs': 120, '_session_config': allow_soft_placement: true\n",
            "graph_options {\n",
            "  rewrite_options {\n",
            "    meta_optimizer_iterations: ONE\n",
            "  }\n",
            "}\n",
            ", '_keep_checkpoint_max': 5, '_keep_checkpoint_every_n_hours': 10000, '_log_step_count_steps': 100, '_train_distribute': None, '_device_fn': None, '_protocol': None, '_eval_distribute': None, '_experimental_distribute': None, '_experimental_max_worker_delay_secs': None, '_session_creation_timeout_secs': 7200, '_service': None, '_cluster_spec': ClusterSpec({}), '_task_type': 'worker', '_task_id': 0, '_global_id_in_cluster': 0, '_master': '', '_evaluation_master': '', '_is_chief': True, '_num_ps_replicas': 0, '_num_worker_replicas': 1}\n"
          ],
          "name": "stderr"
        },
        {
          "output_type": "stream",
          "text": [
            "INFO:tensorflow:Calling model_fn.\n"
          ],
          "name": "stdout"
        },
        {
          "output_type": "stream",
          "text": [
            "I0415 21:06:35.498227 139697096087424 estimator.py:1169] Calling model_fn.\n",
            "I0415 21:06:35.512411 139697096087424 controller.py:160] trial id: 1\n",
            "I0415 21:06:35.514085 139697096087424 controller.py:239] intermix ensemble search mode\n",
            "I0415 21:06:35.525103 139697096087424 phoenix.py:371] {'search_generator': GeneratorWithTrials(instance=<model_search.generators.search_candidate_generator.SearchCandidateGenerator object at 0x7f0d20e67810>, relevant_trials=[]), 'prior_generator': GeneratorWithTrials(instance=<model_search.generators.prior_generator.PriorGenerator object at 0x7f0c59293bd0>, relevant_trials=[])}\n",
            "I0415 21:06:35.526393 139697096087424 search_candidate_generator.py:77] Creating new architecture: \n",
            "I0415 21:06:35.529434 139697096087424 search_candidate_generator.py:78] [80]\n",
            "I0415 21:06:35.647186 139697096087424 phoenix.py:371] {'search_generator': GeneratorWithTrials(instance=<model_search.generators.search_candidate_generator.SearchCandidateGenerator object at 0x7f0d20e67810>, relevant_trials=[]), 'prior_generator': GeneratorWithTrials(instance=<model_search.generators.prior_generator.PriorGenerator object at 0x7f0c59293bd0>, relevant_trials=[])}\n"
          ],
          "name": "stderr"
        },
        {
          "output_type": "stream",
          "text": [
            "INFO:tensorflow:Done calling model_fn.\n"
          ],
          "name": "stdout"
        },
        {
          "output_type": "stream",
          "text": [
            "I0415 21:06:36.061264 139697096087424 estimator.py:1171] Done calling model_fn.\n"
          ],
          "name": "stderr"
        },
        {
          "output_type": "stream",
          "text": [
            "INFO:tensorflow:Create CheckpointSaverHook.\n"
          ],
          "name": "stdout"
        },
        {
          "output_type": "stream",
          "text": [
            "I0415 21:06:36.064738 139697096087424 basic_session_run_hooks.py:546] Create CheckpointSaverHook.\n"
          ],
          "name": "stderr"
        },
        {
          "output_type": "stream",
          "text": [
            "INFO:tensorflow:Graph was finalized.\n"
          ],
          "name": "stdout"
        },
        {
          "output_type": "stream",
          "text": [
            "I0415 21:06:36.150404 139697096087424 monitored_session.py:246] Graph was finalized.\n"
          ],
          "name": "stderr"
        },
        {
          "output_type": "stream",
          "text": [
            "INFO:tensorflow:Running local_init_op.\n"
          ],
          "name": "stdout"
        },
        {
          "output_type": "stream",
          "text": [
            "I0415 21:06:36.239091 139697096087424 session_manager.py:505] Running local_init_op.\n"
          ],
          "name": "stderr"
        },
        {
          "output_type": "stream",
          "text": [
            "INFO:tensorflow:Done running local_init_op.\n"
          ],
          "name": "stdout"
        },
        {
          "output_type": "stream",
          "text": [
            "I0415 21:06:36.256869 139697096087424 session_manager.py:508] Done running local_init_op.\n"
          ],
          "name": "stderr"
        },
        {
          "output_type": "stream",
          "text": [
            "INFO:tensorflow:Calling checkpoint listeners before saving checkpoint 0...\n"
          ],
          "name": "stdout"
        },
        {
          "output_type": "stream",
          "text": [
            "I0415 21:06:36.675981 139697096087424 basic_session_run_hooks.py:614] Calling checkpoint listeners before saving checkpoint 0...\n"
          ],
          "name": "stderr"
        },
        {
          "output_type": "stream",
          "text": [
            "INFO:tensorflow:Saving checkpoints for 0 into /tmp/run_example/tuner-1/1/model.ckpt.\n"
          ],
          "name": "stdout"
        },
        {
          "output_type": "stream",
          "text": [
            "I0415 21:06:36.688357 139697096087424 basic_session_run_hooks.py:618] Saving checkpoints for 0 into /tmp/run_example/tuner-1/1/model.ckpt.\n"
          ],
          "name": "stderr"
        },
        {
          "output_type": "stream",
          "text": [
            "INFO:tensorflow:Calling checkpoint listeners after saving checkpoint 0...\n"
          ],
          "name": "stdout"
        },
        {
          "output_type": "stream",
          "text": [
            "I0415 21:06:36.781590 139697096087424 basic_session_run_hooks.py:626] Calling checkpoint listeners after saving checkpoint 0...\n"
          ],
          "name": "stderr"
        },
        {
          "output_type": "stream",
          "text": [
            "INFO:tensorflow:loss = 0.0, step = 0\n"
          ],
          "name": "stdout"
        },
        {
          "output_type": "stream",
          "text": [
            "I0415 21:07:46.059925 139697096087424 basic_session_run_hooks.py:262] loss = 0.0, step = 0\n"
          ],
          "name": "stderr"
        },
        {
          "output_type": "stream",
          "text": [
            "INFO:tensorflow:Calling checkpoint listeners before saving checkpoint 5...\n"
          ],
          "name": "stdout"
        },
        {
          "output_type": "stream",
          "text": [
            "I0415 21:07:46.178306 139697096087424 basic_session_run_hooks.py:614] Calling checkpoint listeners before saving checkpoint 5...\n"
          ],
          "name": "stderr"
        },
        {
          "output_type": "stream",
          "text": [
            "INFO:tensorflow:Saving checkpoints for 5 into /tmp/run_example/tuner-1/1/model.ckpt.\n"
          ],
          "name": "stdout"
        },
        {
          "output_type": "stream",
          "text": [
            "I0415 21:07:46.183721 139697096087424 basic_session_run_hooks.py:618] Saving checkpoints for 5 into /tmp/run_example/tuner-1/1/model.ckpt.\n"
          ],
          "name": "stderr"
        },
        {
          "output_type": "stream",
          "text": [
            "INFO:tensorflow:Calling checkpoint listeners after saving checkpoint 5...\n"
          ],
          "name": "stdout"
        },
        {
          "output_type": "stream",
          "text": [
            "I0415 21:07:46.259093 139697096087424 basic_session_run_hooks.py:626] Calling checkpoint listeners after saving checkpoint 5...\n"
          ],
          "name": "stderr"
        },
        {
          "output_type": "stream",
          "text": [
            "INFO:tensorflow:Loss for final step: 0.0.\n"
          ],
          "name": "stdout"
        },
        {
          "output_type": "stream",
          "text": [
            "I0415 21:07:46.536421 139697096087424 estimator.py:350] Loss for final step: 0.0.\n"
          ],
          "name": "stderr"
        },
        {
          "output_type": "stream",
          "text": [
            "INFO:tensorflow:Calling model_fn.\n"
          ],
          "name": "stdout"
        },
        {
          "output_type": "stream",
          "text": [
            "I0415 21:07:46.572810 139697096087424 estimator.py:1169] Calling model_fn.\n",
            "I0415 21:07:46.588978 139697096087424 controller.py:160] trial id: 1\n",
            "I0415 21:07:46.589864 139697096087424 controller.py:239] intermix ensemble search mode\n",
            "I0415 21:07:46.596997 139697096087424 phoenix.py:371] {'search_generator': GeneratorWithTrials(instance=<model_search.generators.search_candidate_generator.SearchCandidateGenerator object at 0x7f0d20e67810>, relevant_trials=[]), 'prior_generator': GeneratorWithTrials(instance=<model_search.generators.prior_generator.PriorGenerator object at 0x7f0c59293bd0>, relevant_trials=[])}\n",
            "I0415 21:07:46.600235 139697096087424 base_tower_generator.py:112] Building from existing checkpoint.\n",
            "I0415 21:07:46.706832 139697096087424 phoenix.py:371] {'search_generator': GeneratorWithTrials(instance=<model_search.generators.search_candidate_generator.SearchCandidateGenerator object at 0x7f0d20e67810>, relevant_trials=[]), 'prior_generator': GeneratorWithTrials(instance=<model_search.generators.prior_generator.PriorGenerator object at 0x7f0c59293bd0>, relevant_trials=[])}\n"
          ],
          "name": "stderr"
        },
        {
          "output_type": "stream",
          "text": [
            "INFO:tensorflow:Done calling model_fn.\n"
          ],
          "name": "stdout"
        },
        {
          "output_type": "stream",
          "text": [
            "I0415 21:07:46.937671 139697096087424 estimator.py:1171] Done calling model_fn.\n"
          ],
          "name": "stderr"
        },
        {
          "output_type": "stream",
          "text": [
            "INFO:tensorflow:Starting evaluation at 2021-04-15T21:07:46Z\n"
          ],
          "name": "stdout"
        },
        {
          "output_type": "stream",
          "text": [
            "I0415 21:07:46.960550 139697096087424 evaluation.py:255] Starting evaluation at 2021-04-15T21:07:46Z\n"
          ],
          "name": "stderr"
        },
        {
          "output_type": "stream",
          "text": [
            "INFO:tensorflow:Graph was finalized.\n"
          ],
          "name": "stdout"
        },
        {
          "output_type": "stream",
          "text": [
            "I0415 21:07:47.020979 139697096087424 monitored_session.py:246] Graph was finalized.\n"
          ],
          "name": "stderr"
        },
        {
          "output_type": "stream",
          "text": [
            "INFO:tensorflow:Restoring parameters from /tmp/run_example/tuner-1/1/model.ckpt-5\n"
          ],
          "name": "stdout"
        },
        {
          "output_type": "stream",
          "text": [
            "I0415 21:07:47.033466 139697096087424 saver.py:1293] Restoring parameters from /tmp/run_example/tuner-1/1/model.ckpt-5\n"
          ],
          "name": "stderr"
        },
        {
          "output_type": "stream",
          "text": [
            "INFO:tensorflow:Running local_init_op.\n"
          ],
          "name": "stdout"
        },
        {
          "output_type": "stream",
          "text": [
            "I0415 21:07:47.090595 139697096087424 session_manager.py:505] Running local_init_op.\n"
          ],
          "name": "stderr"
        },
        {
          "output_type": "stream",
          "text": [
            "INFO:tensorflow:Done running local_init_op.\n"
          ],
          "name": "stdout"
        },
        {
          "output_type": "stream",
          "text": [
            "I0415 21:07:47.111880 139697096087424 session_manager.py:508] Done running local_init_op.\n"
          ],
          "name": "stderr"
        },
        {
          "output_type": "stream",
          "text": [
            "INFO:tensorflow:Evaluation [1/1]\n"
          ],
          "name": "stdout"
        },
        {
          "output_type": "stream",
          "text": [
            "I0415 21:07:47.231637 139697096087424 evaluation.py:167] Evaluation [1/1]\n"
          ],
          "name": "stderr"
        },
        {
          "output_type": "stream",
          "text": [
            "INFO:tensorflow:Inference Time : 0.30778s\n"
          ],
          "name": "stdout"
        },
        {
          "output_type": "stream",
          "text": [
            "I0415 21:07:47.272633 139697096087424 evaluation.py:273] Inference Time : 0.30778s\n"
          ],
          "name": "stderr"
        },
        {
          "output_type": "stream",
          "text": [
            "INFO:tensorflow:Finished evaluation at 2021-04-15-21:07:47\n"
          ],
          "name": "stdout"
        },
        {
          "output_type": "stream",
          "text": [
            "I0415 21:07:47.275242 139697096087424 evaluation.py:276] Finished evaluation at 2021-04-15-21:07:47\n"
          ],
          "name": "stderr"
        },
        {
          "output_type": "stream",
          "text": [
            "INFO:tensorflow:Saving dict for global step 5: accuracy = 0.033203125, auc_pr = 0.0, auc_roc = 1.0, global_step = 5, loss = 10.003473, num_parameters = 52\n"
          ],
          "name": "stdout"
        },
        {
          "output_type": "stream",
          "text": [
            "I0415 21:07:47.281090 139697096087424 estimator.py:2066] Saving dict for global step 5: accuracy = 0.033203125, auc_pr = 0.0, auc_roc = 1.0, global_step = 5, loss = 10.003473, num_parameters = 52\n"
          ],
          "name": "stderr"
        },
        {
          "output_type": "stream",
          "text": [
            "INFO:tensorflow:Saving 'checkpoint_path' summary for global step 5: /tmp/run_example/tuner-1/1/model.ckpt-5\n"
          ],
          "name": "stdout"
        },
        {
          "output_type": "stream",
          "text": [
            "I0415 21:07:47.288467 139697096087424 estimator.py:2127] Saving 'checkpoint_path' summary for global step 5: /tmp/run_example/tuner-1/1/model.ckpt-5\n",
            "I0415 21:07:47.296632 139697096087424 phoenix.py:123] Saving the following evaluation dictionary.\n",
            "I0415 21:07:47.297868 139697096087424 phoenix.py:124] {'accuracy': 0.033203125, 'auc_pr': 0.0, 'auc_roc': 1.0, 'loss': 10.003473281860352, 'num_parameters': 52, 'global_step': 5}\n",
            "I0415 21:07:47.299288 139697096087424 ml_metadata_db.py:161] Storing the following evaluation dictionary,\n",
            "I0415 21:07:47.301383 139697096087424 ml_metadata_db.py:162] {'accuracy': 0.033203125, 'auc_pr': 0.0, 'auc_roc': 1.0, 'loss': 10.003473281860352, 'num_parameters': 52, 'global_step': 5}\n",
            "I0415 21:07:47.302337 139697096087424 ml_metadata_db.py:163] For the model in the following model dictionary,\n",
            "I0415 21:07:47.303825 139697096087424 ml_metadata_db.py:164] /tmp/run_example/tuner-1/1\n"
          ],
          "name": "stderr"
        },
        {
          "output_type": "stream",
          "text": [
            "INFO:tensorflow:Calling model_fn.\n"
          ],
          "name": "stdout"
        },
        {
          "output_type": "stream",
          "text": [
            "I0415 21:07:47.334832 139697096087424 estimator.py:1169] Calling model_fn.\n",
            "I0415 21:07:47.350171 139697096087424 controller.py:160] trial id: 1\n",
            "I0415 21:07:47.351102 139697096087424 controller.py:239] intermix ensemble search mode\n",
            "I0415 21:07:47.360946 139697096087424 phoenix.py:371] {'search_generator': GeneratorWithTrials(instance=<model_search.generators.search_candidate_generator.SearchCandidateGenerator object at 0x7f0d20e67810>, relevant_trials=[<model_search.metadata.trial.Trial object at 0x7f0c0ad16f10>]), 'prior_generator': GeneratorWithTrials(instance=<model_search.generators.prior_generator.PriorGenerator object at 0x7f0c59293bd0>, relevant_trials=[<model_search.metadata.trial.Trial object at 0x7f0c0ad16f10>])}\n",
            "I0415 21:07:47.365012 139697096087424 base_tower_generator.py:112] Building from existing checkpoint.\n",
            "I0415 21:07:47.474094 139697096087424 phoenix.py:371] {'search_generator': GeneratorWithTrials(instance=<model_search.generators.search_candidate_generator.SearchCandidateGenerator object at 0x7f0d20e67810>, relevant_trials=[<model_search.metadata.trial.Trial object at 0x7f0c0ad16f10>]), 'prior_generator': GeneratorWithTrials(instance=<model_search.generators.prior_generator.PriorGenerator object at 0x7f0c59293bd0>, relevant_trials=[<model_search.metadata.trial.Trial object at 0x7f0c0ad16f10>])}\n"
          ],
          "name": "stderr"
        },
        {
          "output_type": "stream",
          "text": [
            "INFO:tensorflow:Done calling model_fn.\n"
          ],
          "name": "stdout"
        },
        {
          "output_type": "stream",
          "text": [
            "I0415 21:07:47.482915 139697096087424 estimator.py:1171] Done calling model_fn.\n"
          ],
          "name": "stderr"
        },
        {
          "output_type": "stream",
          "text": [
            "INFO:tensorflow:Signatures INCLUDED in export for Classify: None\n"
          ],
          "name": "stdout"
        },
        {
          "output_type": "stream",
          "text": [
            "I0415 21:07:47.487480 139697096087424 export_utils.py:170] Signatures INCLUDED in export for Classify: None\n"
          ],
          "name": "stderr"
        },
        {
          "output_type": "stream",
          "text": [
            "INFO:tensorflow:Signatures INCLUDED in export for Regress: None\n"
          ],
          "name": "stdout"
        },
        {
          "output_type": "stream",
          "text": [
            "I0415 21:07:47.494652 139697096087424 export_utils.py:170] Signatures INCLUDED in export for Regress: None\n"
          ],
          "name": "stderr"
        },
        {
          "output_type": "stream",
          "text": [
            "INFO:tensorflow:Signatures INCLUDED in export for Predict: ['serving_default']\n"
          ],
          "name": "stdout"
        },
        {
          "output_type": "stream",
          "text": [
            "I0415 21:07:47.499552 139697096087424 export_utils.py:170] Signatures INCLUDED in export for Predict: ['serving_default']\n"
          ],
          "name": "stderr"
        },
        {
          "output_type": "stream",
          "text": [
            "INFO:tensorflow:Signatures INCLUDED in export for Train: None\n"
          ],
          "name": "stdout"
        },
        {
          "output_type": "stream",
          "text": [
            "I0415 21:07:47.505319 139697096087424 export_utils.py:170] Signatures INCLUDED in export for Train: None\n"
          ],
          "name": "stderr"
        },
        {
          "output_type": "stream",
          "text": [
            "INFO:tensorflow:Signatures INCLUDED in export for Eval: None\n"
          ],
          "name": "stdout"
        },
        {
          "output_type": "stream",
          "text": [
            "I0415 21:07:47.507594 139697096087424 export_utils.py:170] Signatures INCLUDED in export for Eval: None\n"
          ],
          "name": "stderr"
        },
        {
          "output_type": "stream",
          "text": [
            "INFO:tensorflow:Restoring parameters from /tmp/run_example/tuner-1/1/model.ckpt-5\n"
          ],
          "name": "stdout"
        },
        {
          "output_type": "stream",
          "text": [
            "I0415 21:07:47.545809 139697096087424 saver.py:1293] Restoring parameters from /tmp/run_example/tuner-1/1/model.ckpt-5\n"
          ],
          "name": "stderr"
        },
        {
          "output_type": "stream",
          "text": [
            "INFO:tensorflow:Assets added to graph.\n"
          ],
          "name": "stdout"
        },
        {
          "output_type": "stream",
          "text": [
            "I0415 21:07:47.566957 139697096087424 builder_impl.py:666] Assets added to graph.\n"
          ],
          "name": "stderr"
        },
        {
          "output_type": "stream",
          "text": [
            "INFO:tensorflow:No assets to write.\n"
          ],
          "name": "stdout"
        },
        {
          "output_type": "stream",
          "text": [
            "I0415 21:07:47.572356 139697096087424 builder_impl.py:461] No assets to write.\n"
          ],
          "name": "stderr"
        },
        {
          "output_type": "stream",
          "text": [
            "INFO:tensorflow:SavedModel written to: /tmp/run_example/tuner-1/1/saved_model/temp-1618520867/saved_model.pb\n"
          ],
          "name": "stdout"
        },
        {
          "output_type": "stream",
          "text": [
            "I0415 21:07:47.607835 139697096087424 builder_impl.py:426] SavedModel written to: /tmp/run_example/tuner-1/1/saved_model/temp-1618520867/saved_model.pb\n",
            "I0415 21:07:47.616151 139697096087424 oss_trainer_lib.py:265] Evaluation results: {'accuracy': 0.033203125, 'auc_pr': 0.0, 'auc_roc': 1.0, 'loss': 10.003473, 'num_parameters': 52, 'global_step': 5}\n",
            "I0415 21:07:47.624173 139697096087424 oss_trainer_lib.py:290] creating directory: /tmp/run_example/tuner-1/2\n",
            "I0415 21:07:47.625082 139697096087424 oss_trainer_lib.py:337] Tuner id: tuner-1\n",
            "I0415 21:07:47.627925 139697096087424 oss_trainer_lib.py:338] Training with the following hyperparameters: \n",
            "I0415 21:07:47.630589 139697096087424 oss_trainer_lib.py:339] {'learning_rate': 7.91193507413183e-05, 'new_block_type': 'FULLY_CONNECTED_RESIDUAL_FORCE_MATCH_SHAPES', 'optimizer': 'momentum', 'initial_architecture_0': 'FIXED_OUTPUT_FULLY_CONNECTED_1024', 'exponential_decay_rate': 0.8223045506731277, 'exponential_decay_steps': 1, 'gradient_max_norm': 3, 'dropout_rate': 0.5500000216066837, 'initial_architecture': ['FIXED_OUTPUT_FULLY_CONNECTED_1024']}\n"
          ],
          "name": "stderr"
        },
        {
          "output_type": "stream",
          "text": [
            "INFO:tensorflow:TF_CONFIG environment variable: {'model_dir': '/tmp/run_example/tuner-1/2', 'session_master': ''}\n"
          ],
          "name": "stdout"
        },
        {
          "output_type": "stream",
          "text": [
            "I0415 21:07:47.633472 139697096087424 run_config.py:550] TF_CONFIG environment variable: {'model_dir': '/tmp/run_example/tuner-1/2', 'session_master': ''}\n"
          ],
          "name": "stderr"
        },
        {
          "output_type": "stream",
          "text": [
            "INFO:tensorflow:Using model_dir in TF_CONFIG: /tmp/run_example/tuner-1/2\n"
          ],
          "name": "stdout"
        },
        {
          "output_type": "stream",
          "text": [
            "I0415 21:07:47.643911 139697096087424 run_config.py:973] Using model_dir in TF_CONFIG: /tmp/run_example/tuner-1/2\n"
          ],
          "name": "stderr"
        },
        {
          "output_type": "stream",
          "text": [
            "INFO:tensorflow:Using config: {'_model_dir': '/tmp/run_example/tuner-1/2', '_tf_random_seed': None, '_save_summary_steps': 2000, '_save_checkpoints_steps': None, '_save_checkpoints_secs': 120, '_session_config': allow_soft_placement: true\n",
            "graph_options {\n",
            "  rewrite_options {\n",
            "    meta_optimizer_iterations: ONE\n",
            "  }\n",
            "}\n",
            ", '_keep_checkpoint_max': 5, '_keep_checkpoint_every_n_hours': 10000, '_log_step_count_steps': 100, '_train_distribute': None, '_device_fn': None, '_protocol': None, '_eval_distribute': None, '_experimental_distribute': None, '_experimental_max_worker_delay_secs': None, '_session_creation_timeout_secs': 7200, '_service': None, '_cluster_spec': ClusterSpec({}), '_task_type': 'worker', '_task_id': 0, '_global_id_in_cluster': 0, '_master': '', '_evaluation_master': '', '_is_chief': True, '_num_ps_replicas': 0, '_num_worker_replicas': 1}\n"
          ],
          "name": "stdout"
        },
        {
          "output_type": "stream",
          "text": [
            "I0415 21:07:47.651425 139697096087424 estimator.py:191] Using config: {'_model_dir': '/tmp/run_example/tuner-1/2', '_tf_random_seed': None, '_save_summary_steps': 2000, '_save_checkpoints_steps': None, '_save_checkpoints_secs': 120, '_session_config': allow_soft_placement: true\n",
            "graph_options {\n",
            "  rewrite_options {\n",
            "    meta_optimizer_iterations: ONE\n",
            "  }\n",
            "}\n",
            ", '_keep_checkpoint_max': 5, '_keep_checkpoint_every_n_hours': 10000, '_log_step_count_steps': 100, '_train_distribute': None, '_device_fn': None, '_protocol': None, '_eval_distribute': None, '_experimental_distribute': None, '_experimental_max_worker_delay_secs': None, '_session_creation_timeout_secs': 7200, '_service': None, '_cluster_spec': ClusterSpec({}), '_task_type': 'worker', '_task_id': 0, '_global_id_in_cluster': 0, '_master': '', '_evaluation_master': '', '_is_chief': True, '_num_ps_replicas': 0, '_num_worker_replicas': 1}\n"
          ],
          "name": "stderr"
        },
        {
          "output_type": "stream",
          "text": [
            "INFO:tensorflow:Calling model_fn.\n"
          ],
          "name": "stdout"
        },
        {
          "output_type": "stream",
          "text": [
            "I0415 21:07:47.693205 139697096087424 estimator.py:1169] Calling model_fn.\n",
            "I0415 21:07:47.708654 139697096087424 controller.py:160] trial id: 2\n",
            "I0415 21:07:47.710479 139697096087424 controller.py:239] intermix ensemble search mode\n",
            "I0415 21:07:47.721998 139697096087424 phoenix.py:371] {'search_generator': GeneratorWithTrials(instance=<model_search.generators.search_candidate_generator.SearchCandidateGenerator object at 0x7f0d20e67810>, relevant_trials=[<model_search.metadata.trial.Trial object at 0x7f0c0f35d590>])}\n",
            "I0415 21:07:47.725435 139697096087424 coordinate_descent.py:58] Maximal depth allowed: 1\n",
            "I0415 21:07:47.726588 139697096087424 coordinate_descent.py:70] using evolution\n",
            "I0415 21:07:47.731719 139697096087424 search_candidate_generator.py:77] Creating new architecture: \n",
            "I0415 21:07:47.732884 139697096087424 search_candidate_generator.py:78] [79]\n"
          ],
          "name": "stderr"
        },
        {
          "output_type": "stream",
          "text": [
            "INFO:tensorflow:Done calling model_fn.\n"
          ],
          "name": "stdout"
        },
        {
          "output_type": "stream",
          "text": [
            "I0415 21:07:48.147150 139697096087424 estimator.py:1171] Done calling model_fn.\n"
          ],
          "name": "stderr"
        },
        {
          "output_type": "stream",
          "text": [
            "INFO:tensorflow:Create CheckpointSaverHook.\n"
          ],
          "name": "stdout"
        },
        {
          "output_type": "stream",
          "text": [
            "I0415 21:07:48.155991 139697096087424 basic_session_run_hooks.py:546] Create CheckpointSaverHook.\n"
          ],
          "name": "stderr"
        },
        {
          "output_type": "stream",
          "text": [
            "INFO:tensorflow:Graph was finalized.\n"
          ],
          "name": "stdout"
        },
        {
          "output_type": "stream",
          "text": [
            "I0415 21:07:48.219887 139697096087424 monitored_session.py:246] Graph was finalized.\n"
          ],
          "name": "stderr"
        },
        {
          "output_type": "stream",
          "text": [
            "INFO:tensorflow:Running local_init_op.\n"
          ],
          "name": "stdout"
        },
        {
          "output_type": "stream",
          "text": [
            "I0415 21:07:48.289872 139697096087424 session_manager.py:505] Running local_init_op.\n"
          ],
          "name": "stderr"
        },
        {
          "output_type": "stream",
          "text": [
            "INFO:tensorflow:Done running local_init_op.\n"
          ],
          "name": "stdout"
        },
        {
          "output_type": "stream",
          "text": [
            "I0415 21:07:48.309327 139697096087424 session_manager.py:508] Done running local_init_op.\n"
          ],
          "name": "stderr"
        },
        {
          "output_type": "stream",
          "text": [
            "INFO:tensorflow:Calling checkpoint listeners before saving checkpoint 0...\n"
          ],
          "name": "stdout"
        },
        {
          "output_type": "stream",
          "text": [
            "I0415 21:07:48.670354 139697096087424 basic_session_run_hooks.py:614] Calling checkpoint listeners before saving checkpoint 0...\n"
          ],
          "name": "stderr"
        },
        {
          "output_type": "stream",
          "text": [
            "INFO:tensorflow:Saving checkpoints for 0 into /tmp/run_example/tuner-1/2/model.ckpt.\n"
          ],
          "name": "stdout"
        },
        {
          "output_type": "stream",
          "text": [
            "I0415 21:07:48.675078 139697096087424 basic_session_run_hooks.py:618] Saving checkpoints for 0 into /tmp/run_example/tuner-1/2/model.ckpt.\n"
          ],
          "name": "stderr"
        },
        {
          "output_type": "stream",
          "text": [
            "INFO:tensorflow:Calling checkpoint listeners after saving checkpoint 0...\n"
          ],
          "name": "stdout"
        },
        {
          "output_type": "stream",
          "text": [
            "I0415 21:07:48.754436 139697096087424 basic_session_run_hooks.py:626] Calling checkpoint listeners after saving checkpoint 0...\n"
          ],
          "name": "stderr"
        },
        {
          "output_type": "stream",
          "text": [
            "INFO:tensorflow:loss = 9.232059, step = 0\n"
          ],
          "name": "stdout"
        },
        {
          "output_type": "stream",
          "text": [
            "I0415 21:08:56.972835 139697096087424 basic_session_run_hooks.py:262] loss = 9.232059, step = 0\n"
          ],
          "name": "stderr"
        },
        {
          "output_type": "stream",
          "text": [
            "INFO:tensorflow:Calling checkpoint listeners before saving checkpoint 5...\n"
          ],
          "name": "stdout"
        },
        {
          "output_type": "stream",
          "text": [
            "I0415 21:08:57.063060 139697096087424 basic_session_run_hooks.py:614] Calling checkpoint listeners before saving checkpoint 5...\n"
          ],
          "name": "stderr"
        },
        {
          "output_type": "stream",
          "text": [
            "INFO:tensorflow:Saving checkpoints for 5 into /tmp/run_example/tuner-1/2/model.ckpt.\n"
          ],
          "name": "stdout"
        },
        {
          "output_type": "stream",
          "text": [
            "I0415 21:08:57.069656 139697096087424 basic_session_run_hooks.py:618] Saving checkpoints for 5 into /tmp/run_example/tuner-1/2/model.ckpt.\n"
          ],
          "name": "stderr"
        },
        {
          "output_type": "stream",
          "text": [
            "INFO:tensorflow:Calling checkpoint listeners after saving checkpoint 5...\n"
          ],
          "name": "stdout"
        },
        {
          "output_type": "stream",
          "text": [
            "I0415 21:08:57.133391 139697096087424 basic_session_run_hooks.py:626] Calling checkpoint listeners after saving checkpoint 5...\n"
          ],
          "name": "stderr"
        },
        {
          "output_type": "stream",
          "text": [
            "INFO:tensorflow:Loss for final step: 5.5895414.\n"
          ],
          "name": "stdout"
        },
        {
          "output_type": "stream",
          "text": [
            "I0415 21:08:57.396759 139697096087424 estimator.py:350] Loss for final step: 5.5895414.\n"
          ],
          "name": "stderr"
        },
        {
          "output_type": "stream",
          "text": [
            "INFO:tensorflow:Calling model_fn.\n"
          ],
          "name": "stdout"
        },
        {
          "output_type": "stream",
          "text": [
            "I0415 21:08:57.441584 139697096087424 estimator.py:1169] Calling model_fn.\n",
            "I0415 21:08:57.460857 139697096087424 controller.py:160] trial id: 2\n",
            "I0415 21:08:57.463876 139697096087424 controller.py:239] intermix ensemble search mode\n",
            "I0415 21:08:57.478505 139697096087424 phoenix.py:371] {'search_generator': GeneratorWithTrials(instance=<model_search.generators.search_candidate_generator.SearchCandidateGenerator object at 0x7f0d20e67810>, relevant_trials=[<model_search.metadata.trial.Trial object at 0x7f0c1df5e290>])}\n",
            "I0415 21:08:57.486077 139697096087424 base_tower_generator.py:112] Building from existing checkpoint.\n"
          ],
          "name": "stderr"
        },
        {
          "output_type": "stream",
          "text": [
            "INFO:tensorflow:Done calling model_fn.\n"
          ],
          "name": "stdout"
        },
        {
          "output_type": "stream",
          "text": [
            "I0415 21:08:57.812446 139697096087424 estimator.py:1171] Done calling model_fn.\n"
          ],
          "name": "stderr"
        },
        {
          "output_type": "stream",
          "text": [
            "INFO:tensorflow:Starting evaluation at 2021-04-15T21:08:57Z\n"
          ],
          "name": "stdout"
        },
        {
          "output_type": "stream",
          "text": [
            "I0415 21:08:57.837656 139697096087424 evaluation.py:255] Starting evaluation at 2021-04-15T21:08:57Z\n"
          ],
          "name": "stderr"
        },
        {
          "output_type": "stream",
          "text": [
            "INFO:tensorflow:Graph was finalized.\n"
          ],
          "name": "stdout"
        },
        {
          "output_type": "stream",
          "text": [
            "I0415 21:08:57.898158 139697096087424 monitored_session.py:246] Graph was finalized.\n"
          ],
          "name": "stderr"
        },
        {
          "output_type": "stream",
          "text": [
            "INFO:tensorflow:Restoring parameters from /tmp/run_example/tuner-1/2/model.ckpt-5\n"
          ],
          "name": "stdout"
        },
        {
          "output_type": "stream",
          "text": [
            "I0415 21:08:57.912323 139697096087424 saver.py:1293] Restoring parameters from /tmp/run_example/tuner-1/2/model.ckpt-5\n"
          ],
          "name": "stderr"
        },
        {
          "output_type": "stream",
          "text": [
            "INFO:tensorflow:Running local_init_op.\n"
          ],
          "name": "stdout"
        },
        {
          "output_type": "stream",
          "text": [
            "I0415 21:08:57.967649 139697096087424 session_manager.py:505] Running local_init_op.\n"
          ],
          "name": "stderr"
        },
        {
          "output_type": "stream",
          "text": [
            "INFO:tensorflow:Done running local_init_op.\n"
          ],
          "name": "stdout"
        },
        {
          "output_type": "stream",
          "text": [
            "I0415 21:08:57.987439 139697096087424 session_manager.py:508] Done running local_init_op.\n"
          ],
          "name": "stderr"
        },
        {
          "output_type": "stream",
          "text": [
            "INFO:tensorflow:Evaluation [1/1]\n"
          ],
          "name": "stdout"
        },
        {
          "output_type": "stream",
          "text": [
            "I0415 21:08:58.113932 139697096087424 evaluation.py:167] Evaluation [1/1]\n"
          ],
          "name": "stderr"
        },
        {
          "output_type": "stream",
          "text": [
            "INFO:tensorflow:Inference Time : 0.31548s\n"
          ],
          "name": "stdout"
        },
        {
          "output_type": "stream",
          "text": [
            "I0415 21:08:58.158767 139697096087424 evaluation.py:273] Inference Time : 0.31548s\n"
          ],
          "name": "stderr"
        },
        {
          "output_type": "stream",
          "text": [
            "INFO:tensorflow:Finished evaluation at 2021-04-15-21:08:58\n"
          ],
          "name": "stdout"
        },
        {
          "output_type": "stream",
          "text": [
            "I0415 21:08:58.168705 139697096087424 evaluation.py:276] Finished evaluation at 2021-04-15-21:08:58\n"
          ],
          "name": "stderr"
        },
        {
          "output_type": "stream",
          "text": [
            "INFO:tensorflow:Saving dict for global step 5: accuracy = 0.6777344, auc_pr = 0.0, auc_roc = 1.0, global_step = 5, loss = 5.202884, num_parameters = 42\n"
          ],
          "name": "stdout"
        },
        {
          "output_type": "stream",
          "text": [
            "I0415 21:08:58.171995 139697096087424 estimator.py:2066] Saving dict for global step 5: accuracy = 0.6777344, auc_pr = 0.0, auc_roc = 1.0, global_step = 5, loss = 5.202884, num_parameters = 42\n"
          ],
          "name": "stderr"
        },
        {
          "output_type": "stream",
          "text": [
            "INFO:tensorflow:Saving 'checkpoint_path' summary for global step 5: /tmp/run_example/tuner-1/2/model.ckpt-5\n"
          ],
          "name": "stdout"
        },
        {
          "output_type": "stream",
          "text": [
            "I0415 21:08:58.174497 139697096087424 estimator.py:2127] Saving 'checkpoint_path' summary for global step 5: /tmp/run_example/tuner-1/2/model.ckpt-5\n",
            "I0415 21:08:58.176833 139697096087424 phoenix.py:123] Saving the following evaluation dictionary.\n",
            "I0415 21:08:58.177737 139697096087424 phoenix.py:124] {'accuracy': 0.677734375, 'auc_pr': 0.0, 'auc_roc': 1.0, 'loss': 5.202884197235107, 'num_parameters': 42, 'global_step': 5}\n",
            "I0415 21:08:58.178597 139697096087424 ml_metadata_db.py:161] Storing the following evaluation dictionary,\n",
            "I0415 21:08:58.179419 139697096087424 ml_metadata_db.py:162] {'accuracy': 0.677734375, 'auc_pr': 0.0, 'auc_roc': 1.0, 'loss': 5.202884197235107, 'num_parameters': 42, 'global_step': 5}\n",
            "I0415 21:08:58.180475 139697096087424 ml_metadata_db.py:163] For the model in the following model dictionary,\n",
            "I0415 21:08:58.181559 139697096087424 ml_metadata_db.py:164] /tmp/run_example/tuner-1/2\n"
          ],
          "name": "stderr"
        },
        {
          "output_type": "stream",
          "text": [
            "INFO:tensorflow:Calling model_fn.\n"
          ],
          "name": "stdout"
        },
        {
          "output_type": "stream",
          "text": [
            "I0415 21:08:58.225829 139697096087424 estimator.py:1169] Calling model_fn.\n",
            "I0415 21:08:58.239874 139697096087424 controller.py:160] trial id: 2\n",
            "I0415 21:08:58.240903 139697096087424 controller.py:239] intermix ensemble search mode\n",
            "I0415 21:08:58.253328 139697096087424 phoenix.py:371] {'search_generator': GeneratorWithTrials(instance=<model_search.generators.search_candidate_generator.SearchCandidateGenerator object at 0x7f0d20e67810>, relevant_trials=[<model_search.metadata.trial.Trial object at 0x7f0c17fcd2d0>, <model_search.metadata.trial.Trial object at 0x7f0c17fcde10>])}\n",
            "I0415 21:08:58.256962 139697096087424 base_tower_generator.py:112] Building from existing checkpoint.\n"
          ],
          "name": "stderr"
        },
        {
          "output_type": "stream",
          "text": [
            "INFO:tensorflow:Done calling model_fn.\n"
          ],
          "name": "stdout"
        },
        {
          "output_type": "stream",
          "text": [
            "I0415 21:08:58.349510 139697096087424 estimator.py:1171] Done calling model_fn.\n"
          ],
          "name": "stderr"
        },
        {
          "output_type": "stream",
          "text": [
            "INFO:tensorflow:Signatures INCLUDED in export for Classify: None\n"
          ],
          "name": "stdout"
        },
        {
          "output_type": "stream",
          "text": [
            "I0415 21:08:58.352046 139697096087424 export_utils.py:170] Signatures INCLUDED in export for Classify: None\n"
          ],
          "name": "stderr"
        },
        {
          "output_type": "stream",
          "text": [
            "INFO:tensorflow:Signatures INCLUDED in export for Regress: None\n"
          ],
          "name": "stdout"
        },
        {
          "output_type": "stream",
          "text": [
            "I0415 21:08:58.360225 139697096087424 export_utils.py:170] Signatures INCLUDED in export for Regress: None\n"
          ],
          "name": "stderr"
        },
        {
          "output_type": "stream",
          "text": [
            "INFO:tensorflow:Signatures INCLUDED in export for Predict: ['serving_default']\n"
          ],
          "name": "stdout"
        },
        {
          "output_type": "stream",
          "text": [
            "I0415 21:08:58.365999 139697096087424 export_utils.py:170] Signatures INCLUDED in export for Predict: ['serving_default']\n"
          ],
          "name": "stderr"
        },
        {
          "output_type": "stream",
          "text": [
            "INFO:tensorflow:Signatures INCLUDED in export for Train: None\n"
          ],
          "name": "stdout"
        },
        {
          "output_type": "stream",
          "text": [
            "I0415 21:08:58.367933 139697096087424 export_utils.py:170] Signatures INCLUDED in export for Train: None\n"
          ],
          "name": "stderr"
        },
        {
          "output_type": "stream",
          "text": [
            "INFO:tensorflow:Signatures INCLUDED in export for Eval: None\n"
          ],
          "name": "stdout"
        },
        {
          "output_type": "stream",
          "text": [
            "I0415 21:08:58.376760 139697096087424 export_utils.py:170] Signatures INCLUDED in export for Eval: None\n"
          ],
          "name": "stderr"
        },
        {
          "output_type": "stream",
          "text": [
            "INFO:tensorflow:Restoring parameters from /tmp/run_example/tuner-1/2/model.ckpt-5\n"
          ],
          "name": "stdout"
        },
        {
          "output_type": "stream",
          "text": [
            "I0415 21:08:58.415797 139697096087424 saver.py:1293] Restoring parameters from /tmp/run_example/tuner-1/2/model.ckpt-5\n"
          ],
          "name": "stderr"
        },
        {
          "output_type": "stream",
          "text": [
            "INFO:tensorflow:Assets added to graph.\n"
          ],
          "name": "stdout"
        },
        {
          "output_type": "stream",
          "text": [
            "I0415 21:08:58.440601 139697096087424 builder_impl.py:666] Assets added to graph.\n"
          ],
          "name": "stderr"
        },
        {
          "output_type": "stream",
          "text": [
            "INFO:tensorflow:No assets to write.\n"
          ],
          "name": "stdout"
        },
        {
          "output_type": "stream",
          "text": [
            "I0415 21:08:58.445534 139697096087424 builder_impl.py:461] No assets to write.\n"
          ],
          "name": "stderr"
        },
        {
          "output_type": "stream",
          "text": [
            "INFO:tensorflow:SavedModel written to: /tmp/run_example/tuner-1/2/saved_model/temp-1618520938/saved_model.pb\n"
          ],
          "name": "stdout"
        },
        {
          "output_type": "stream",
          "text": [
            "I0415 21:08:58.481784 139697096087424 builder_impl.py:426] SavedModel written to: /tmp/run_example/tuner-1/2/saved_model/temp-1618520938/saved_model.pb\n",
            "I0415 21:08:58.489761 139697096087424 oss_trainer_lib.py:265] Evaluation results: {'accuracy': 0.6777344, 'auc_pr': 0.0, 'auc_roc': 1.0, 'loss': 5.202884, 'num_parameters': 42, 'global_step': 5}\n",
            "I0415 21:08:58.497177 139697096087424 oss_trainer_lib.py:290] creating directory: /tmp/run_example/tuner-1/3\n",
            "I0415 21:08:58.498548 139697096087424 oss_trainer_lib.py:337] Tuner id: tuner-1\n",
            "I0415 21:08:58.504125 139697096087424 oss_trainer_lib.py:338] Training with the following hyperparameters: \n",
            "I0415 21:08:58.506067 139697096087424 oss_trainer_lib.py:339] {'learning_rate': 0.004193326751261521, 'new_block_type': 'FIXED_OUTPUT_FULLY_CONNECTED_512', 'optimizer': 'sgd', 'initial_architecture_0': 'FULLY_CONNECTED_RESIDUAL_FORCE_MATCH_SHAPES', 'exponential_decay_rate': 0.8924685890735935, 'exponential_decay_steps': 2, 'gradient_max_norm': 4, 'dropout_rate': 0.5500000216066837, 'initial_architecture': ['FULLY_CONNECTED_RESIDUAL_FORCE_MATCH_SHAPES']}\n"
          ],
          "name": "stderr"
        },
        {
          "output_type": "stream",
          "text": [
            "INFO:tensorflow:TF_CONFIG environment variable: {'model_dir': '/tmp/run_example/tuner-1/3', 'session_master': ''}\n"
          ],
          "name": "stdout"
        },
        {
          "output_type": "stream",
          "text": [
            "I0415 21:08:58.508359 139697096087424 run_config.py:550] TF_CONFIG environment variable: {'model_dir': '/tmp/run_example/tuner-1/3', 'session_master': ''}\n"
          ],
          "name": "stderr"
        },
        {
          "output_type": "stream",
          "text": [
            "INFO:tensorflow:Using model_dir in TF_CONFIG: /tmp/run_example/tuner-1/3\n"
          ],
          "name": "stdout"
        },
        {
          "output_type": "stream",
          "text": [
            "I0415 21:08:58.510785 139697096087424 run_config.py:973] Using model_dir in TF_CONFIG: /tmp/run_example/tuner-1/3\n"
          ],
          "name": "stderr"
        },
        {
          "output_type": "stream",
          "text": [
            "INFO:tensorflow:Using config: {'_model_dir': '/tmp/run_example/tuner-1/3', '_tf_random_seed': None, '_save_summary_steps': 2000, '_save_checkpoints_steps': None, '_save_checkpoints_secs': 120, '_session_config': allow_soft_placement: true\n",
            "graph_options {\n",
            "  rewrite_options {\n",
            "    meta_optimizer_iterations: ONE\n",
            "  }\n",
            "}\n",
            ", '_keep_checkpoint_max': 5, '_keep_checkpoint_every_n_hours': 10000, '_log_step_count_steps': 100, '_train_distribute': None, '_device_fn': None, '_protocol': None, '_eval_distribute': None, '_experimental_distribute': None, '_experimental_max_worker_delay_secs': None, '_session_creation_timeout_secs': 7200, '_service': None, '_cluster_spec': ClusterSpec({}), '_task_type': 'worker', '_task_id': 0, '_global_id_in_cluster': 0, '_master': '', '_evaluation_master': '', '_is_chief': True, '_num_ps_replicas': 0, '_num_worker_replicas': 1}\n"
          ],
          "name": "stdout"
        },
        {
          "output_type": "stream",
          "text": [
            "I0415 21:08:58.514191 139697096087424 estimator.py:191] Using config: {'_model_dir': '/tmp/run_example/tuner-1/3', '_tf_random_seed': None, '_save_summary_steps': 2000, '_save_checkpoints_steps': None, '_save_checkpoints_secs': 120, '_session_config': allow_soft_placement: true\n",
            "graph_options {\n",
            "  rewrite_options {\n",
            "    meta_optimizer_iterations: ONE\n",
            "  }\n",
            "}\n",
            ", '_keep_checkpoint_max': 5, '_keep_checkpoint_every_n_hours': 10000, '_log_step_count_steps': 100, '_train_distribute': None, '_device_fn': None, '_protocol': None, '_eval_distribute': None, '_experimental_distribute': None, '_experimental_max_worker_delay_secs': None, '_session_creation_timeout_secs': 7200, '_service': None, '_cluster_spec': ClusterSpec({}), '_task_type': 'worker', '_task_id': 0, '_global_id_in_cluster': 0, '_master': '', '_evaluation_master': '', '_is_chief': True, '_num_ps_replicas': 0, '_num_worker_replicas': 1}\n"
          ],
          "name": "stderr"
        },
        {
          "output_type": "stream",
          "text": [
            "INFO:tensorflow:Calling model_fn.\n"
          ],
          "name": "stdout"
        },
        {
          "output_type": "stream",
          "text": [
            "I0415 21:08:58.567691 139697096087424 estimator.py:1169] Calling model_fn.\n",
            "I0415 21:08:58.583073 139697096087424 controller.py:160] trial id: 3\n",
            "I0415 21:08:58.584941 139697096087424 controller.py:239] intermix ensemble search mode\n",
            "I0415 21:08:58.599984 139697096087424 phoenix.py:371] {'search_generator': GeneratorWithTrials(instance=<model_search.generators.search_candidate_generator.SearchCandidateGenerator object at 0x7f0d20e67810>, relevant_trials=[<model_search.metadata.trial.Trial object at 0x7f0c52ec8a50>, <model_search.metadata.trial.Trial object at 0x7f0c52ec8d50>])}\n",
            "I0415 21:08:58.605452 139697096087424 coordinate_descent.py:58] Maximal depth allowed: 1\n",
            "I0415 21:08:58.606370 139697096087424 coordinate_descent.py:70] using evolution\n",
            "I0415 21:08:58.612156 139697096087424 search_candidate_generator.py:77] Creating new architecture: \n",
            "I0415 21:08:58.618998 139697096087424 search_candidate_generator.py:78] [24]\n"
          ],
          "name": "stderr"
        },
        {
          "output_type": "stream",
          "text": [
            "INFO:tensorflow:Done calling model_fn.\n"
          ],
          "name": "stdout"
        },
        {
          "output_type": "stream",
          "text": [
            "I0415 21:08:59.023123 139697096087424 estimator.py:1171] Done calling model_fn.\n"
          ],
          "name": "stderr"
        },
        {
          "output_type": "stream",
          "text": [
            "INFO:tensorflow:Create CheckpointSaverHook.\n"
          ],
          "name": "stdout"
        },
        {
          "output_type": "stream",
          "text": [
            "I0415 21:08:59.031818 139697096087424 basic_session_run_hooks.py:546] Create CheckpointSaverHook.\n"
          ],
          "name": "stderr"
        },
        {
          "output_type": "stream",
          "text": [
            "INFO:tensorflow:Graph was finalized.\n"
          ],
          "name": "stdout"
        },
        {
          "output_type": "stream",
          "text": [
            "I0415 21:08:59.095492 139697096087424 monitored_session.py:246] Graph was finalized.\n"
          ],
          "name": "stderr"
        },
        {
          "output_type": "stream",
          "text": [
            "INFO:tensorflow:Running local_init_op.\n"
          ],
          "name": "stdout"
        },
        {
          "output_type": "stream",
          "text": [
            "I0415 21:08:59.157312 139697096087424 session_manager.py:505] Running local_init_op.\n"
          ],
          "name": "stderr"
        },
        {
          "output_type": "stream",
          "text": [
            "INFO:tensorflow:Done running local_init_op.\n"
          ],
          "name": "stdout"
        },
        {
          "output_type": "stream",
          "text": [
            "I0415 21:08:59.176787 139697096087424 session_manager.py:508] Done running local_init_op.\n"
          ],
          "name": "stderr"
        },
        {
          "output_type": "stream",
          "text": [
            "INFO:tensorflow:Calling checkpoint listeners before saving checkpoint 0...\n"
          ],
          "name": "stdout"
        },
        {
          "output_type": "stream",
          "text": [
            "I0415 21:08:59.515064 139697096087424 basic_session_run_hooks.py:614] Calling checkpoint listeners before saving checkpoint 0...\n"
          ],
          "name": "stderr"
        },
        {
          "output_type": "stream",
          "text": [
            "INFO:tensorflow:Saving checkpoints for 0 into /tmp/run_example/tuner-1/3/model.ckpt.\n"
          ],
          "name": "stdout"
        },
        {
          "output_type": "stream",
          "text": [
            "I0415 21:08:59.517761 139697096087424 basic_session_run_hooks.py:618] Saving checkpoints for 0 into /tmp/run_example/tuner-1/3/model.ckpt.\n"
          ],
          "name": "stderr"
        },
        {
          "output_type": "stream",
          "text": [
            "INFO:tensorflow:Calling checkpoint listeners after saving checkpoint 0...\n"
          ],
          "name": "stdout"
        },
        {
          "output_type": "stream",
          "text": [
            "I0415 21:08:59.603325 139697096087424 basic_session_run_hooks.py:626] Calling checkpoint listeners after saving checkpoint 0...\n"
          ],
          "name": "stderr"
        },
        {
          "output_type": "stream",
          "text": [
            "INFO:tensorflow:loss = 0.0, step = 0\n"
          ],
          "name": "stdout"
        },
        {
          "output_type": "stream",
          "text": [
            "I0415 21:10:07.706618 139697096087424 basic_session_run_hooks.py:262] loss = 0.0, step = 0\n"
          ],
          "name": "stderr"
        },
        {
          "output_type": "stream",
          "text": [
            "INFO:tensorflow:Calling checkpoint listeners before saving checkpoint 5...\n"
          ],
          "name": "stdout"
        },
        {
          "output_type": "stream",
          "text": [
            "I0415 21:10:07.785550 139697096087424 basic_session_run_hooks.py:614] Calling checkpoint listeners before saving checkpoint 5...\n"
          ],
          "name": "stderr"
        },
        {
          "output_type": "stream",
          "text": [
            "INFO:tensorflow:Saving checkpoints for 5 into /tmp/run_example/tuner-1/3/model.ckpt.\n"
          ],
          "name": "stdout"
        },
        {
          "output_type": "stream",
          "text": [
            "I0415 21:10:07.791001 139697096087424 basic_session_run_hooks.py:618] Saving checkpoints for 5 into /tmp/run_example/tuner-1/3/model.ckpt.\n"
          ],
          "name": "stderr"
        },
        {
          "output_type": "stream",
          "text": [
            "INFO:tensorflow:Calling checkpoint listeners after saving checkpoint 5...\n"
          ],
          "name": "stdout"
        },
        {
          "output_type": "stream",
          "text": [
            "I0415 21:10:07.855371 139697096087424 basic_session_run_hooks.py:626] Calling checkpoint listeners after saving checkpoint 5...\n"
          ],
          "name": "stderr"
        },
        {
          "output_type": "stream",
          "text": [
            "INFO:tensorflow:Loss for final step: 0.0.\n"
          ],
          "name": "stdout"
        },
        {
          "output_type": "stream",
          "text": [
            "I0415 21:10:08.116840 139697096087424 estimator.py:350] Loss for final step: 0.0.\n"
          ],
          "name": "stderr"
        },
        {
          "output_type": "stream",
          "text": [
            "INFO:tensorflow:Calling model_fn.\n"
          ],
          "name": "stdout"
        },
        {
          "output_type": "stream",
          "text": [
            "I0415 21:10:08.154510 139697096087424 estimator.py:1169] Calling model_fn.\n",
            "I0415 21:10:08.173387 139697096087424 controller.py:160] trial id: 3\n",
            "I0415 21:10:08.175945 139697096087424 controller.py:239] intermix ensemble search mode\n",
            "I0415 21:10:08.189289 139697096087424 phoenix.py:371] {'search_generator': GeneratorWithTrials(instance=<model_search.generators.search_candidate_generator.SearchCandidateGenerator object at 0x7f0d20e67810>, relevant_trials=[<model_search.metadata.trial.Trial object at 0x7f0c588794d0>, <model_search.metadata.trial.Trial object at 0x7f0c588798d0>])}\n",
            "I0415 21:10:08.197768 139697096087424 base_tower_generator.py:112] Building from existing checkpoint.\n"
          ],
          "name": "stderr"
        },
        {
          "output_type": "stream",
          "text": [
            "INFO:tensorflow:Done calling model_fn.\n"
          ],
          "name": "stdout"
        },
        {
          "output_type": "stream",
          "text": [
            "I0415 21:10:08.535026 139697096087424 estimator.py:1171] Done calling model_fn.\n"
          ],
          "name": "stderr"
        },
        {
          "output_type": "stream",
          "text": [
            "INFO:tensorflow:Starting evaluation at 2021-04-15T21:10:08Z\n"
          ],
          "name": "stdout"
        },
        {
          "output_type": "stream",
          "text": [
            "I0415 21:10:08.561617 139697096087424 evaluation.py:255] Starting evaluation at 2021-04-15T21:10:08Z\n"
          ],
          "name": "stderr"
        },
        {
          "output_type": "stream",
          "text": [
            "INFO:tensorflow:Graph was finalized.\n"
          ],
          "name": "stdout"
        },
        {
          "output_type": "stream",
          "text": [
            "I0415 21:10:08.626264 139697096087424 monitored_session.py:246] Graph was finalized.\n"
          ],
          "name": "stderr"
        },
        {
          "output_type": "stream",
          "text": [
            "INFO:tensorflow:Restoring parameters from /tmp/run_example/tuner-1/3/model.ckpt-5\n"
          ],
          "name": "stdout"
        },
        {
          "output_type": "stream",
          "text": [
            "I0415 21:10:08.642889 139697096087424 saver.py:1293] Restoring parameters from /tmp/run_example/tuner-1/3/model.ckpt-5\n"
          ],
          "name": "stderr"
        },
        {
          "output_type": "stream",
          "text": [
            "INFO:tensorflow:Running local_init_op.\n"
          ],
          "name": "stdout"
        },
        {
          "output_type": "stream",
          "text": [
            "I0415 21:10:08.698290 139697096087424 session_manager.py:505] Running local_init_op.\n"
          ],
          "name": "stderr"
        },
        {
          "output_type": "stream",
          "text": [
            "INFO:tensorflow:Done running local_init_op.\n"
          ],
          "name": "stdout"
        },
        {
          "output_type": "stream",
          "text": [
            "I0415 21:10:08.718872 139697096087424 session_manager.py:508] Done running local_init_op.\n"
          ],
          "name": "stderr"
        },
        {
          "output_type": "stream",
          "text": [
            "INFO:tensorflow:Evaluation [1/1]\n"
          ],
          "name": "stdout"
        },
        {
          "output_type": "stream",
          "text": [
            "I0415 21:10:08.840686 139697096087424 evaluation.py:167] Evaluation [1/1]\n"
          ],
          "name": "stderr"
        },
        {
          "output_type": "stream",
          "text": [
            "INFO:tensorflow:Inference Time : 0.31955s\n"
          ],
          "name": "stdout"
        },
        {
          "output_type": "stream",
          "text": [
            "I0415 21:10:08.885447 139697096087424 evaluation.py:273] Inference Time : 0.31955s\n"
          ],
          "name": "stderr"
        },
        {
          "output_type": "stream",
          "text": [
            "INFO:tensorflow:Finished evaluation at 2021-04-15-21:10:08\n"
          ],
          "name": "stdout"
        },
        {
          "output_type": "stream",
          "text": [
            "I0415 21:10:08.892397 139697096087424 evaluation.py:276] Finished evaluation at 2021-04-15-21:10:08\n"
          ],
          "name": "stderr"
        },
        {
          "output_type": "stream",
          "text": [
            "INFO:tensorflow:Saving dict for global step 5: accuracy = 0.9863281, auc_pr = 0.0, auc_roc = 1.0, global_step = 5, loss = 0.43481988, num_parameters = 4098\n"
          ],
          "name": "stdout"
        },
        {
          "output_type": "stream",
          "text": [
            "I0415 21:10:08.899545 139697096087424 estimator.py:2066] Saving dict for global step 5: accuracy = 0.9863281, auc_pr = 0.0, auc_roc = 1.0, global_step = 5, loss = 0.43481988, num_parameters = 4098\n"
          ],
          "name": "stderr"
        },
        {
          "output_type": "stream",
          "text": [
            "INFO:tensorflow:Saving 'checkpoint_path' summary for global step 5: /tmp/run_example/tuner-1/3/model.ckpt-5\n"
          ],
          "name": "stdout"
        },
        {
          "output_type": "stream",
          "text": [
            "I0415 21:10:08.902161 139697096087424 estimator.py:2127] Saving 'checkpoint_path' summary for global step 5: /tmp/run_example/tuner-1/3/model.ckpt-5\n",
            "I0415 21:10:08.911848 139697096087424 phoenix.py:123] Saving the following evaluation dictionary.\n",
            "I0415 21:10:08.914370 139697096087424 phoenix.py:124] {'accuracy': 0.986328125, 'auc_pr': 0.0, 'auc_roc': 1.0, 'loss': 0.43481987714767456, 'num_parameters': 4098, 'global_step': 5}\n",
            "I0415 21:10:08.915968 139697096087424 ml_metadata_db.py:161] Storing the following evaluation dictionary,\n",
            "I0415 21:10:08.920658 139697096087424 ml_metadata_db.py:162] {'accuracy': 0.986328125, 'auc_pr': 0.0, 'auc_roc': 1.0, 'loss': 0.43481987714767456, 'num_parameters': 4098, 'global_step': 5}\n",
            "I0415 21:10:08.922288 139697096087424 ml_metadata_db.py:163] For the model in the following model dictionary,\n",
            "I0415 21:10:08.923555 139697096087424 ml_metadata_db.py:164] /tmp/run_example/tuner-1/3\n"
          ],
          "name": "stderr"
        },
        {
          "output_type": "stream",
          "text": [
            "INFO:tensorflow:Calling model_fn.\n"
          ],
          "name": "stdout"
        },
        {
          "output_type": "stream",
          "text": [
            "I0415 21:10:08.955858 139697096087424 estimator.py:1169] Calling model_fn.\n",
            "I0415 21:10:08.973589 139697096087424 controller.py:160] trial id: 3\n",
            "I0415 21:10:08.976716 139697096087424 controller.py:239] intermix ensemble search mode\n",
            "I0415 21:10:08.986406 139697096087424 phoenix.py:371] {'search_generator': GeneratorWithTrials(instance=<model_search.generators.search_candidate_generator.SearchCandidateGenerator object at 0x7f0d20e67810>, relevant_trials=[<model_search.metadata.trial.Trial object at 0x7f0c589a2c90>, <model_search.metadata.trial.Trial object at 0x7f0c5888a890>, <model_search.metadata.trial.Trial object at 0x7f0c5899e090>])}\n",
            "I0415 21:10:08.991262 139697096087424 base_tower_generator.py:112] Building from existing checkpoint.\n"
          ],
          "name": "stderr"
        },
        {
          "output_type": "stream",
          "text": [
            "INFO:tensorflow:Done calling model_fn.\n"
          ],
          "name": "stdout"
        },
        {
          "output_type": "stream",
          "text": [
            "I0415 21:10:09.080035 139697096087424 estimator.py:1171] Done calling model_fn.\n"
          ],
          "name": "stderr"
        },
        {
          "output_type": "stream",
          "text": [
            "INFO:tensorflow:Signatures INCLUDED in export for Classify: None\n"
          ],
          "name": "stdout"
        },
        {
          "output_type": "stream",
          "text": [
            "I0415 21:10:09.088370 139697096087424 export_utils.py:170] Signatures INCLUDED in export for Classify: None\n"
          ],
          "name": "stderr"
        },
        {
          "output_type": "stream",
          "text": [
            "INFO:tensorflow:Signatures INCLUDED in export for Regress: None\n"
          ],
          "name": "stdout"
        },
        {
          "output_type": "stream",
          "text": [
            "I0415 21:10:09.097442 139697096087424 export_utils.py:170] Signatures INCLUDED in export for Regress: None\n"
          ],
          "name": "stderr"
        },
        {
          "output_type": "stream",
          "text": [
            "INFO:tensorflow:Signatures INCLUDED in export for Predict: ['serving_default']\n"
          ],
          "name": "stdout"
        },
        {
          "output_type": "stream",
          "text": [
            "I0415 21:10:09.104794 139697096087424 export_utils.py:170] Signatures INCLUDED in export for Predict: ['serving_default']\n"
          ],
          "name": "stderr"
        },
        {
          "output_type": "stream",
          "text": [
            "INFO:tensorflow:Signatures INCLUDED in export for Train: None\n"
          ],
          "name": "stdout"
        },
        {
          "output_type": "stream",
          "text": [
            "I0415 21:10:09.108070 139697096087424 export_utils.py:170] Signatures INCLUDED in export for Train: None\n"
          ],
          "name": "stderr"
        },
        {
          "output_type": "stream",
          "text": [
            "INFO:tensorflow:Signatures INCLUDED in export for Eval: None\n"
          ],
          "name": "stdout"
        },
        {
          "output_type": "stream",
          "text": [
            "I0415 21:10:09.113645 139697096087424 export_utils.py:170] Signatures INCLUDED in export for Eval: None\n"
          ],
          "name": "stderr"
        },
        {
          "output_type": "stream",
          "text": [
            "INFO:tensorflow:Restoring parameters from /tmp/run_example/tuner-1/3/model.ckpt-5\n"
          ],
          "name": "stdout"
        },
        {
          "output_type": "stream",
          "text": [
            "I0415 21:10:09.161437 139697096087424 saver.py:1293] Restoring parameters from /tmp/run_example/tuner-1/3/model.ckpt-5\n"
          ],
          "name": "stderr"
        },
        {
          "output_type": "stream",
          "text": [
            "INFO:tensorflow:Assets added to graph.\n"
          ],
          "name": "stdout"
        },
        {
          "output_type": "stream",
          "text": [
            "I0415 21:10:09.184448 139697096087424 builder_impl.py:666] Assets added to graph.\n"
          ],
          "name": "stderr"
        },
        {
          "output_type": "stream",
          "text": [
            "INFO:tensorflow:No assets to write.\n"
          ],
          "name": "stdout"
        },
        {
          "output_type": "stream",
          "text": [
            "I0415 21:10:09.189968 139697096087424 builder_impl.py:461] No assets to write.\n"
          ],
          "name": "stderr"
        },
        {
          "output_type": "stream",
          "text": [
            "INFO:tensorflow:SavedModel written to: /tmp/run_example/tuner-1/3/saved_model/temp-1618521008/saved_model.pb\n"
          ],
          "name": "stdout"
        },
        {
          "output_type": "stream",
          "text": [
            "I0415 21:10:09.232139 139697096087424 builder_impl.py:426] SavedModel written to: /tmp/run_example/tuner-1/3/saved_model/temp-1618521008/saved_model.pb\n",
            "I0415 21:10:09.242604 139697096087424 oss_trainer_lib.py:265] Evaluation results: {'accuracy': 0.9863281, 'auc_pr': 0.0, 'auc_roc': 1.0, 'loss': 0.43481988, 'num_parameters': 4098, 'global_step': 5}\n",
            "I0415 21:10:09.250914 139697096087424 oss_trainer_lib.py:290] creating directory: /tmp/run_example/tuner-1/4\n",
            "I0415 21:10:09.251855 139697096087424 oss_trainer_lib.py:337] Tuner id: tuner-1\n",
            "I0415 21:10:09.256288 139697096087424 oss_trainer_lib.py:338] Training with the following hyperparameters: \n",
            "I0415 21:10:09.262151 139697096087424 oss_trainer_lib.py:339] {'learning_rate': 2.8302752963260717e-06, 'new_block_type': 'FULLY_CONNECTED_RESIDUAL_PROJECT', 'optimizer': 'rmsprop', 'initial_architecture_0': 'FIXED_OUTPUT_FULLY_CONNECTED_128', 'exponential_decay_rate': 0.7654843558477212, 'exponential_decay_steps': 1, 'gradient_max_norm': 4, 'dropout_rate': 0.4500000171363353, 'initial_architecture': ['FIXED_OUTPUT_FULLY_CONNECTED_128']}\n"
          ],
          "name": "stderr"
        },
        {
          "output_type": "stream",
          "text": [
            "INFO:tensorflow:TF_CONFIG environment variable: {'model_dir': '/tmp/run_example/tuner-1/4', 'session_master': ''}\n"
          ],
          "name": "stdout"
        },
        {
          "output_type": "stream",
          "text": [
            "I0415 21:10:09.266219 139697096087424 run_config.py:550] TF_CONFIG environment variable: {'model_dir': '/tmp/run_example/tuner-1/4', 'session_master': ''}\n"
          ],
          "name": "stderr"
        },
        {
          "output_type": "stream",
          "text": [
            "INFO:tensorflow:Using model_dir in TF_CONFIG: /tmp/run_example/tuner-1/4\n"
          ],
          "name": "stdout"
        },
        {
          "output_type": "stream",
          "text": [
            "I0415 21:10:09.270775 139697096087424 run_config.py:973] Using model_dir in TF_CONFIG: /tmp/run_example/tuner-1/4\n"
          ],
          "name": "stderr"
        },
        {
          "output_type": "stream",
          "text": [
            "INFO:tensorflow:Using config: {'_model_dir': '/tmp/run_example/tuner-1/4', '_tf_random_seed': None, '_save_summary_steps': 2000, '_save_checkpoints_steps': None, '_save_checkpoints_secs': 120, '_session_config': allow_soft_placement: true\n",
            "graph_options {\n",
            "  rewrite_options {\n",
            "    meta_optimizer_iterations: ONE\n",
            "  }\n",
            "}\n",
            ", '_keep_checkpoint_max': 5, '_keep_checkpoint_every_n_hours': 10000, '_log_step_count_steps': 100, '_train_distribute': None, '_device_fn': None, '_protocol': None, '_eval_distribute': None, '_experimental_distribute': None, '_experimental_max_worker_delay_secs': None, '_session_creation_timeout_secs': 7200, '_service': None, '_cluster_spec': ClusterSpec({}), '_task_type': 'worker', '_task_id': 0, '_global_id_in_cluster': 0, '_master': '', '_evaluation_master': '', '_is_chief': True, '_num_ps_replicas': 0, '_num_worker_replicas': 1}\n"
          ],
          "name": "stdout"
        },
        {
          "output_type": "stream",
          "text": [
            "I0415 21:10:09.274946 139697096087424 estimator.py:191] Using config: {'_model_dir': '/tmp/run_example/tuner-1/4', '_tf_random_seed': None, '_save_summary_steps': 2000, '_save_checkpoints_steps': None, '_save_checkpoints_secs': 120, '_session_config': allow_soft_placement: true\n",
            "graph_options {\n",
            "  rewrite_options {\n",
            "    meta_optimizer_iterations: ONE\n",
            "  }\n",
            "}\n",
            ", '_keep_checkpoint_max': 5, '_keep_checkpoint_every_n_hours': 10000, '_log_step_count_steps': 100, '_train_distribute': None, '_device_fn': None, '_protocol': None, '_eval_distribute': None, '_experimental_distribute': None, '_experimental_max_worker_delay_secs': None, '_session_creation_timeout_secs': 7200, '_service': None, '_cluster_spec': ClusterSpec({}), '_task_type': 'worker', '_task_id': 0, '_global_id_in_cluster': 0, '_master': '', '_evaluation_master': '', '_is_chief': True, '_num_ps_replicas': 0, '_num_worker_replicas': 1}\n"
          ],
          "name": "stderr"
        },
        {
          "output_type": "stream",
          "text": [
            "INFO:tensorflow:Calling model_fn.\n"
          ],
          "name": "stdout"
        },
        {
          "output_type": "stream",
          "text": [
            "I0415 21:10:09.327120 139697096087424 estimator.py:1169] Calling model_fn.\n",
            "I0415 21:10:09.345072 139697096087424 controller.py:160] trial id: 4\n",
            "I0415 21:10:09.345989 139697096087424 controller.py:239] intermix ensemble search mode\n",
            "I0415 21:10:09.358102 139697096087424 phoenix.py:371] {'search_generator': GeneratorWithTrials(instance=<model_search.generators.search_candidate_generator.SearchCandidateGenerator object at 0x7f0d20e67810>, relevant_trials=[<model_search.metadata.trial.Trial object at 0x7f0c2ff8e5d0>, <model_search.metadata.trial.Trial object at 0x7f0c17fb7f50>, <model_search.metadata.trial.Trial object at 0x7f0c2ff93f10>])}\n",
            "I0415 21:10:09.361339 139697096087424 coordinate_descent.py:58] Maximal depth allowed: 1\n",
            "I0415 21:10:09.362359 139697096087424 coordinate_descent.py:70] using evolution\n",
            "I0415 21:10:09.367027 139697096087424 search_candidate_generator.py:77] Creating new architecture: \n",
            "I0415 21:10:09.371988 139697096087424 search_candidate_generator.py:78] [83]\n"
          ],
          "name": "stderr"
        },
        {
          "output_type": "stream",
          "text": [
            "INFO:tensorflow:Done calling model_fn.\n"
          ],
          "name": "stdout"
        },
        {
          "output_type": "stream",
          "text": [
            "I0415 21:10:09.809833 139697096087424 estimator.py:1171] Done calling model_fn.\n"
          ],
          "name": "stderr"
        },
        {
          "output_type": "stream",
          "text": [
            "INFO:tensorflow:Create CheckpointSaverHook.\n"
          ],
          "name": "stdout"
        },
        {
          "output_type": "stream",
          "text": [
            "I0415 21:10:09.819494 139697096087424 basic_session_run_hooks.py:546] Create CheckpointSaverHook.\n"
          ],
          "name": "stderr"
        },
        {
          "output_type": "stream",
          "text": [
            "INFO:tensorflow:Graph was finalized.\n"
          ],
          "name": "stdout"
        },
        {
          "output_type": "stream",
          "text": [
            "I0415 21:10:09.892951 139697096087424 monitored_session.py:246] Graph was finalized.\n"
          ],
          "name": "stderr"
        },
        {
          "output_type": "stream",
          "text": [
            "INFO:tensorflow:Running local_init_op.\n"
          ],
          "name": "stdout"
        },
        {
          "output_type": "stream",
          "text": [
            "I0415 21:10:09.969754 139697096087424 session_manager.py:505] Running local_init_op.\n"
          ],
          "name": "stderr"
        },
        {
          "output_type": "stream",
          "text": [
            "INFO:tensorflow:Done running local_init_op.\n"
          ],
          "name": "stdout"
        },
        {
          "output_type": "stream",
          "text": [
            "I0415 21:10:09.988826 139697096087424 session_manager.py:508] Done running local_init_op.\n"
          ],
          "name": "stderr"
        },
        {
          "output_type": "stream",
          "text": [
            "INFO:tensorflow:Calling checkpoint listeners before saving checkpoint 0...\n"
          ],
          "name": "stdout"
        },
        {
          "output_type": "stream",
          "text": [
            "I0415 21:10:10.357429 139697096087424 basic_session_run_hooks.py:614] Calling checkpoint listeners before saving checkpoint 0...\n"
          ],
          "name": "stderr"
        },
        {
          "output_type": "stream",
          "text": [
            "INFO:tensorflow:Saving checkpoints for 0 into /tmp/run_example/tuner-1/4/model.ckpt.\n"
          ],
          "name": "stdout"
        },
        {
          "output_type": "stream",
          "text": [
            "I0415 21:10:10.366218 139697096087424 basic_session_run_hooks.py:618] Saving checkpoints for 0 into /tmp/run_example/tuner-1/4/model.ckpt.\n"
          ],
          "name": "stderr"
        },
        {
          "output_type": "stream",
          "text": [
            "INFO:tensorflow:Calling checkpoint listeners after saving checkpoint 0...\n"
          ],
          "name": "stdout"
        },
        {
          "output_type": "stream",
          "text": [
            "I0415 21:10:10.468276 139697096087424 basic_session_run_hooks.py:626] Calling checkpoint listeners after saving checkpoint 0...\n"
          ],
          "name": "stderr"
        },
        {
          "output_type": "stream",
          "text": [
            "INFO:tensorflow:loss = 0.0, step = 0\n"
          ],
          "name": "stdout"
        },
        {
          "output_type": "stream",
          "text": [
            "I0415 21:11:19.735997 139697096087424 basic_session_run_hooks.py:262] loss = 0.0, step = 0\n"
          ],
          "name": "stderr"
        },
        {
          "output_type": "stream",
          "text": [
            "INFO:tensorflow:Calling checkpoint listeners before saving checkpoint 5...\n"
          ],
          "name": "stdout"
        },
        {
          "output_type": "stream",
          "text": [
            "I0415 21:11:19.824849 139697096087424 basic_session_run_hooks.py:614] Calling checkpoint listeners before saving checkpoint 5...\n"
          ],
          "name": "stderr"
        },
        {
          "output_type": "stream",
          "text": [
            "INFO:tensorflow:Saving checkpoints for 5 into /tmp/run_example/tuner-1/4/model.ckpt.\n"
          ],
          "name": "stdout"
        },
        {
          "output_type": "stream",
          "text": [
            "I0415 21:11:19.830758 139697096087424 basic_session_run_hooks.py:618] Saving checkpoints for 5 into /tmp/run_example/tuner-1/4/model.ckpt.\n"
          ],
          "name": "stderr"
        },
        {
          "output_type": "stream",
          "text": [
            "INFO:tensorflow:Calling checkpoint listeners after saving checkpoint 5...\n"
          ],
          "name": "stdout"
        },
        {
          "output_type": "stream",
          "text": [
            "I0415 21:11:19.904010 139697096087424 basic_session_run_hooks.py:626] Calling checkpoint listeners after saving checkpoint 5...\n"
          ],
          "name": "stderr"
        },
        {
          "output_type": "stream",
          "text": [
            "INFO:tensorflow:Loss for final step: 0.0.\n"
          ],
          "name": "stdout"
        },
        {
          "output_type": "stream",
          "text": [
            "I0415 21:11:20.180794 139697096087424 estimator.py:350] Loss for final step: 0.0.\n"
          ],
          "name": "stderr"
        },
        {
          "output_type": "stream",
          "text": [
            "INFO:tensorflow:Calling model_fn.\n"
          ],
          "name": "stdout"
        },
        {
          "output_type": "stream",
          "text": [
            "I0415 21:11:20.222635 139697096087424 estimator.py:1169] Calling model_fn.\n",
            "I0415 21:11:20.239792 139697096087424 controller.py:160] trial id: 4\n",
            "I0415 21:11:20.244076 139697096087424 controller.py:239] intermix ensemble search mode\n",
            "I0415 21:11:20.259063 139697096087424 phoenix.py:371] {'search_generator': GeneratorWithTrials(instance=<model_search.generators.search_candidate_generator.SearchCandidateGenerator object at 0x7f0d20e67810>, relevant_trials=[<model_search.metadata.trial.Trial object at 0x7f0c579a28d0>, <model_search.metadata.trial.Trial object at 0x7f0c579a21d0>, <model_search.metadata.trial.Trial object at 0x7f0c579a2f90>])}\n",
            "I0415 21:11:20.265033 139697096087424 base_tower_generator.py:112] Building from existing checkpoint.\n"
          ],
          "name": "stderr"
        },
        {
          "output_type": "stream",
          "text": [
            "INFO:tensorflow:Done calling model_fn.\n"
          ],
          "name": "stdout"
        },
        {
          "output_type": "stream",
          "text": [
            "I0415 21:11:20.636172 139697096087424 estimator.py:1171] Done calling model_fn.\n"
          ],
          "name": "stderr"
        },
        {
          "output_type": "stream",
          "text": [
            "INFO:tensorflow:Starting evaluation at 2021-04-15T21:11:20Z\n"
          ],
          "name": "stdout"
        },
        {
          "output_type": "stream",
          "text": [
            "I0415 21:11:20.665217 139697096087424 evaluation.py:255] Starting evaluation at 2021-04-15T21:11:20Z\n"
          ],
          "name": "stderr"
        },
        {
          "output_type": "stream",
          "text": [
            "INFO:tensorflow:Graph was finalized.\n"
          ],
          "name": "stdout"
        },
        {
          "output_type": "stream",
          "text": [
            "I0415 21:11:20.729137 139697096087424 monitored_session.py:246] Graph was finalized.\n"
          ],
          "name": "stderr"
        },
        {
          "output_type": "stream",
          "text": [
            "INFO:tensorflow:Restoring parameters from /tmp/run_example/tuner-1/4/model.ckpt-5\n"
          ],
          "name": "stdout"
        },
        {
          "output_type": "stream",
          "text": [
            "I0415 21:11:20.744675 139697096087424 saver.py:1293] Restoring parameters from /tmp/run_example/tuner-1/4/model.ckpt-5\n"
          ],
          "name": "stderr"
        },
        {
          "output_type": "stream",
          "text": [
            "INFO:tensorflow:Running local_init_op.\n"
          ],
          "name": "stdout"
        },
        {
          "output_type": "stream",
          "text": [
            "I0415 21:11:20.806414 139697096087424 session_manager.py:505] Running local_init_op.\n"
          ],
          "name": "stderr"
        },
        {
          "output_type": "stream",
          "text": [
            "INFO:tensorflow:Done running local_init_op.\n"
          ],
          "name": "stdout"
        },
        {
          "output_type": "stream",
          "text": [
            "I0415 21:11:20.831070 139697096087424 session_manager.py:508] Done running local_init_op.\n"
          ],
          "name": "stderr"
        },
        {
          "output_type": "stream",
          "text": [
            "INFO:tensorflow:Evaluation [1/1]\n"
          ],
          "name": "stdout"
        },
        {
          "output_type": "stream",
          "text": [
            "I0415 21:11:20.970777 139697096087424 evaluation.py:167] Evaluation [1/1]\n"
          ],
          "name": "stderr"
        },
        {
          "output_type": "stream",
          "text": [
            "INFO:tensorflow:Inference Time : 0.34226s\n"
          ],
          "name": "stdout"
        },
        {
          "output_type": "stream",
          "text": [
            "I0415 21:11:21.015280 139697096087424 evaluation.py:273] Inference Time : 0.34226s\n"
          ],
          "name": "stderr"
        },
        {
          "output_type": "stream",
          "text": [
            "INFO:tensorflow:Finished evaluation at 2021-04-15-21:11:21\n"
          ],
          "name": "stdout"
        },
        {
          "output_type": "stream",
          "text": [
            "I0415 21:11:21.020182 139697096087424 evaluation.py:276] Finished evaluation at 2021-04-15-21:11:21\n"
          ],
          "name": "stderr"
        },
        {
          "output_type": "stream",
          "text": [
            "INFO:tensorflow:Saving dict for global step 5: accuracy = 0.033203125, auc_pr = 0.0, auc_roc = 1.0, global_step = 5, loss = 18.716541, num_parameters = 42\n"
          ],
          "name": "stdout"
        },
        {
          "output_type": "stream",
          "text": [
            "I0415 21:11:21.034454 139697096087424 estimator.py:2066] Saving dict for global step 5: accuracy = 0.033203125, auc_pr = 0.0, auc_roc = 1.0, global_step = 5, loss = 18.716541, num_parameters = 42\n"
          ],
          "name": "stderr"
        },
        {
          "output_type": "stream",
          "text": [
            "INFO:tensorflow:Saving 'checkpoint_path' summary for global step 5: /tmp/run_example/tuner-1/4/model.ckpt-5\n"
          ],
          "name": "stdout"
        },
        {
          "output_type": "stream",
          "text": [
            "I0415 21:11:21.038989 139697096087424 estimator.py:2127] Saving 'checkpoint_path' summary for global step 5: /tmp/run_example/tuner-1/4/model.ckpt-5\n",
            "I0415 21:11:21.042129 139697096087424 phoenix.py:123] Saving the following evaluation dictionary.\n",
            "I0415 21:11:21.043435 139697096087424 phoenix.py:124] {'accuracy': 0.033203125, 'auc_pr': 0.0, 'auc_roc': 1.0, 'loss': 18.716541290283203, 'num_parameters': 42, 'global_step': 5}\n",
            "I0415 21:11:21.044526 139697096087424 ml_metadata_db.py:161] Storing the following evaluation dictionary,\n",
            "I0415 21:11:21.045518 139697096087424 ml_metadata_db.py:162] {'accuracy': 0.033203125, 'auc_pr': 0.0, 'auc_roc': 1.0, 'loss': 18.716541290283203, 'num_parameters': 42, 'global_step': 5}\n",
            "I0415 21:11:21.046511 139697096087424 ml_metadata_db.py:163] For the model in the following model dictionary,\n",
            "I0415 21:11:21.047500 139697096087424 ml_metadata_db.py:164] /tmp/run_example/tuner-1/4\n"
          ],
          "name": "stderr"
        },
        {
          "output_type": "stream",
          "text": [
            "INFO:tensorflow:Calling model_fn.\n"
          ],
          "name": "stdout"
        },
        {
          "output_type": "stream",
          "text": [
            "I0415 21:11:21.092851 139697096087424 estimator.py:1169] Calling model_fn.\n",
            "I0415 21:11:21.110773 139697096087424 controller.py:160] trial id: 4\n",
            "I0415 21:11:21.111636 139697096087424 controller.py:239] intermix ensemble search mode\n",
            "I0415 21:11:21.125072 139697096087424 phoenix.py:371] {'search_generator': GeneratorWithTrials(instance=<model_search.generators.search_candidate_generator.SearchCandidateGenerator object at 0x7f0d20e67810>, relevant_trials=[<model_search.metadata.trial.Trial object at 0x7f0c55145610>, <model_search.metadata.trial.Trial object at 0x7f0c55145390>, <model_search.metadata.trial.Trial object at 0x7f0c551458d0>, <model_search.metadata.trial.Trial object at 0x7f0c55145cd0>])}\n",
            "I0415 21:11:21.127211 139697096087424 base_tower_generator.py:112] Building from existing checkpoint.\n"
          ],
          "name": "stderr"
        },
        {
          "output_type": "stream",
          "text": [
            "INFO:tensorflow:Done calling model_fn.\n"
          ],
          "name": "stdout"
        },
        {
          "output_type": "stream",
          "text": [
            "I0415 21:11:21.211058 139697096087424 estimator.py:1171] Done calling model_fn.\n"
          ],
          "name": "stderr"
        },
        {
          "output_type": "stream",
          "text": [
            "INFO:tensorflow:Signatures INCLUDED in export for Classify: None\n"
          ],
          "name": "stdout"
        },
        {
          "output_type": "stream",
          "text": [
            "I0415 21:11:21.221085 139697096087424 export_utils.py:170] Signatures INCLUDED in export for Classify: None\n"
          ],
          "name": "stderr"
        },
        {
          "output_type": "stream",
          "text": [
            "INFO:tensorflow:Signatures INCLUDED in export for Regress: None\n"
          ],
          "name": "stdout"
        },
        {
          "output_type": "stream",
          "text": [
            "I0415 21:11:21.225644 139697096087424 export_utils.py:170] Signatures INCLUDED in export for Regress: None\n"
          ],
          "name": "stderr"
        },
        {
          "output_type": "stream",
          "text": [
            "INFO:tensorflow:Signatures INCLUDED in export for Predict: ['serving_default']\n"
          ],
          "name": "stdout"
        },
        {
          "output_type": "stream",
          "text": [
            "I0415 21:11:21.228939 139697096087424 export_utils.py:170] Signatures INCLUDED in export for Predict: ['serving_default']\n"
          ],
          "name": "stderr"
        },
        {
          "output_type": "stream",
          "text": [
            "INFO:tensorflow:Signatures INCLUDED in export for Train: None\n"
          ],
          "name": "stdout"
        },
        {
          "output_type": "stream",
          "text": [
            "I0415 21:11:21.230507 139697096087424 export_utils.py:170] Signatures INCLUDED in export for Train: None\n"
          ],
          "name": "stderr"
        },
        {
          "output_type": "stream",
          "text": [
            "INFO:tensorflow:Signatures INCLUDED in export for Eval: None\n"
          ],
          "name": "stdout"
        },
        {
          "output_type": "stream",
          "text": [
            "I0415 21:11:21.232239 139697096087424 export_utils.py:170] Signatures INCLUDED in export for Eval: None\n"
          ],
          "name": "stderr"
        },
        {
          "output_type": "stream",
          "text": [
            "INFO:tensorflow:Restoring parameters from /tmp/run_example/tuner-1/4/model.ckpt-5\n"
          ],
          "name": "stdout"
        },
        {
          "output_type": "stream",
          "text": [
            "I0415 21:11:21.290106 139697096087424 saver.py:1293] Restoring parameters from /tmp/run_example/tuner-1/4/model.ckpt-5\n"
          ],
          "name": "stderr"
        },
        {
          "output_type": "stream",
          "text": [
            "INFO:tensorflow:Assets added to graph.\n"
          ],
          "name": "stdout"
        },
        {
          "output_type": "stream",
          "text": [
            "I0415 21:11:21.311536 139697096087424 builder_impl.py:666] Assets added to graph.\n"
          ],
          "name": "stderr"
        },
        {
          "output_type": "stream",
          "text": [
            "INFO:tensorflow:No assets to write.\n"
          ],
          "name": "stdout"
        },
        {
          "output_type": "stream",
          "text": [
            "I0415 21:11:21.318658 139697096087424 builder_impl.py:461] No assets to write.\n"
          ],
          "name": "stderr"
        },
        {
          "output_type": "stream",
          "text": [
            "INFO:tensorflow:SavedModel written to: /tmp/run_example/tuner-1/4/saved_model/temp-1618521081/saved_model.pb\n"
          ],
          "name": "stdout"
        },
        {
          "output_type": "stream",
          "text": [
            "I0415 21:11:21.356238 139697096087424 builder_impl.py:426] SavedModel written to: /tmp/run_example/tuner-1/4/saved_model/temp-1618521081/saved_model.pb\n",
            "I0415 21:11:21.363997 139697096087424 oss_trainer_lib.py:265] Evaluation results: {'accuracy': 0.033203125, 'auc_pr': 0.0, 'auc_roc': 1.0, 'loss': 18.716541, 'num_parameters': 42, 'global_step': 5}\n",
            "I0415 21:11:21.377012 139697096087424 oss_trainer_lib.py:290] creating directory: /tmp/run_example/tuner-1/5\n",
            "I0415 21:11:21.378063 139697096087424 oss_trainer_lib.py:337] Tuner id: tuner-1\n",
            "I0415 21:11:21.379112 139697096087424 oss_trainer_lib.py:338] Training with the following hyperparameters: \n",
            "I0415 21:11:21.380259 139697096087424 oss_trainer_lib.py:339] {'learning_rate': 2.06443912956396e-05, 'new_block_type': 'FULLY_CONNECTED_PYRAMID', 'optimizer': 'adam', 'initial_architecture_0': 'FIXED_OUTPUT_FULLY_CONNECTED_1024', 'exponential_decay_rate': 0.8417213364103943, 'exponential_decay_steps': 2, 'gradient_max_norm': 4, 'dropout_rate': -1.0, 'initial_architecture': ['FIXED_OUTPUT_FULLY_CONNECTED_1024']}\n"
          ],
          "name": "stderr"
        },
        {
          "output_type": "stream",
          "text": [
            "INFO:tensorflow:TF_CONFIG environment variable: {'model_dir': '/tmp/run_example/tuner-1/5', 'session_master': ''}\n"
          ],
          "name": "stdout"
        },
        {
          "output_type": "stream",
          "text": [
            "I0415 21:11:21.383265 139697096087424 run_config.py:550] TF_CONFIG environment variable: {'model_dir': '/tmp/run_example/tuner-1/5', 'session_master': ''}\n"
          ],
          "name": "stderr"
        },
        {
          "output_type": "stream",
          "text": [
            "INFO:tensorflow:Using model_dir in TF_CONFIG: /tmp/run_example/tuner-1/5\n"
          ],
          "name": "stdout"
        },
        {
          "output_type": "stream",
          "text": [
            "I0415 21:11:21.386230 139697096087424 run_config.py:973] Using model_dir in TF_CONFIG: /tmp/run_example/tuner-1/5\n"
          ],
          "name": "stderr"
        },
        {
          "output_type": "stream",
          "text": [
            "INFO:tensorflow:Using config: {'_model_dir': '/tmp/run_example/tuner-1/5', '_tf_random_seed': None, '_save_summary_steps': 2000, '_save_checkpoints_steps': None, '_save_checkpoints_secs': 120, '_session_config': allow_soft_placement: true\n",
            "graph_options {\n",
            "  rewrite_options {\n",
            "    meta_optimizer_iterations: ONE\n",
            "  }\n",
            "}\n",
            ", '_keep_checkpoint_max': 5, '_keep_checkpoint_every_n_hours': 10000, '_log_step_count_steps': 100, '_train_distribute': None, '_device_fn': None, '_protocol': None, '_eval_distribute': None, '_experimental_distribute': None, '_experimental_max_worker_delay_secs': None, '_session_creation_timeout_secs': 7200, '_service': None, '_cluster_spec': ClusterSpec({}), '_task_type': 'worker', '_task_id': 0, '_global_id_in_cluster': 0, '_master': '', '_evaluation_master': '', '_is_chief': True, '_num_ps_replicas': 0, '_num_worker_replicas': 1}\n"
          ],
          "name": "stdout"
        },
        {
          "output_type": "stream",
          "text": [
            "I0415 21:11:21.388978 139697096087424 estimator.py:191] Using config: {'_model_dir': '/tmp/run_example/tuner-1/5', '_tf_random_seed': None, '_save_summary_steps': 2000, '_save_checkpoints_steps': None, '_save_checkpoints_secs': 120, '_session_config': allow_soft_placement: true\n",
            "graph_options {\n",
            "  rewrite_options {\n",
            "    meta_optimizer_iterations: ONE\n",
            "  }\n",
            "}\n",
            ", '_keep_checkpoint_max': 5, '_keep_checkpoint_every_n_hours': 10000, '_log_step_count_steps': 100, '_train_distribute': None, '_device_fn': None, '_protocol': None, '_eval_distribute': None, '_experimental_distribute': None, '_experimental_max_worker_delay_secs': None, '_session_creation_timeout_secs': 7200, '_service': None, '_cluster_spec': ClusterSpec({}), '_task_type': 'worker', '_task_id': 0, '_global_id_in_cluster': 0, '_master': '', '_evaluation_master': '', '_is_chief': True, '_num_ps_replicas': 0, '_num_worker_replicas': 1}\n"
          ],
          "name": "stderr"
        },
        {
          "output_type": "stream",
          "text": [
            "INFO:tensorflow:Calling model_fn.\n"
          ],
          "name": "stdout"
        },
        {
          "output_type": "stream",
          "text": [
            "I0415 21:11:21.465502 139697096087424 estimator.py:1169] Calling model_fn.\n",
            "I0415 21:11:21.483898 139697096087424 controller.py:160] trial id: 5\n",
            "I0415 21:11:21.488378 139697096087424 controller.py:239] intermix ensemble search mode\n",
            "I0415 21:11:21.503300 139697096087424 phoenix.py:371] {'prior_generator': GeneratorWithTrials(instance=<model_search.generators.prior_generator.PriorGenerator object at 0x7f0c59293bd0>, relevant_trials=[<model_search.metadata.trial.Trial object at 0x7f0c093b5450>, <model_search.metadata.trial.Trial object at 0x7f0c5697f750>, <model_search.metadata.trial.Trial object at 0x7f0c5698a650>, <model_search.metadata.trial.Trial object at 0x7f0c093cbdd0>])}\n",
            "I0415 21:11:21.627216 139697096087424 architecture_utils.py:382] warm starting the following tensors\n",
            "I0415 21:11:21.628510 139697096087424 architecture_utils.py:383] {'Phoenix/search_generator_0/1_FULLY_CONNECTED_RESIDUAL_FORCE_MATCH_SHAPES_BATCHNORM_80/dense/kernel': <tf.Variable 'Phoenix/prior_generator_0/1_FULLY_CONNECTED_RESIDUAL_FORCE_MATCH_SHAPES_BATCHNORM_80/dense/kernel:0' shape=(5, 5) dtype=float32>, 'Phoenix/search_generator_0/1_FULLY_CONNECTED_RESIDUAL_FORCE_MATCH_SHAPES_BATCHNORM_80/dense/bias': <tf.Variable 'Phoenix/prior_generator_0/1_FULLY_CONNECTED_RESIDUAL_FORCE_MATCH_SHAPES_BATCHNORM_80/dense/bias:0' shape=(5,) dtype=float32>, 'Phoenix/search_generator_0/1_FULLY_CONNECTED_RESIDUAL_FORCE_MATCH_SHAPES_BATCHNORM_80/batch_normalization/gamma': <tf.Variable 'Phoenix/prior_generator_0/1_FULLY_CONNECTED_RESIDUAL_FORCE_MATCH_SHAPES_BATCHNORM_80/batch_normalization/gamma:0' shape=(5,) dtype=float32>, 'Phoenix/search_generator_0/1_FULLY_CONNECTED_RESIDUAL_FORCE_MATCH_SHAPES_BATCHNORM_80/batch_normalization/beta': <tf.Variable 'Phoenix/prior_generator_0/1_FULLY_CONNECTED_RESIDUAL_FORCE_MATCH_SHAPES_BATCHNORM_80/batch_normalization/beta:0' shape=(5,) dtype=float32>, 'Phoenix/search_generator_0/1_FULLY_CONNECTED_RESIDUAL_FORCE_MATCH_SHAPES_BATCHNORM_80/batch_normalization/moving_mean': <tf.Variable 'Phoenix/prior_generator_0/1_FULLY_CONNECTED_RESIDUAL_FORCE_MATCH_SHAPES_BATCHNORM_80/batch_normalization/moving_mean:0' shape=(5,) dtype=float32>, 'Phoenix/search_generator_0/1_FULLY_CONNECTED_RESIDUAL_FORCE_MATCH_SHAPES_BATCHNORM_80/batch_normalization/moving_variance': <tf.Variable 'Phoenix/prior_generator_0/1_FULLY_CONNECTED_RESIDUAL_FORCE_MATCH_SHAPES_BATCHNORM_80/batch_normalization/moving_variance:0' shape=(5,) dtype=float32>, 'Phoenix/search_generator_0/last_dense_80/dense/kernel': <tf.Variable 'Phoenix/prior_generator_0/last_dense_80/dense/kernel:0' shape=(5, 2) dtype=float32>, 'Phoenix/search_generator_0/last_dense_80/dense/bias': <tf.Variable 'Phoenix/prior_generator_0/last_dense_80/dense/bias:0' shape=(2,) dtype=float32>}\n",
            "I0415 21:11:21.747969 139697096087424 architecture_utils.py:382] warm starting the following tensors\n",
            "I0415 21:11:21.749535 139697096087424 architecture_utils.py:383] {'Phoenix/search_generator_0/1_FULLY_CONNECTED_RESIDUAL_FORCE_MATCH_SHAPES_79/dense/kernel': <tf.Variable 'Phoenix/prior_generator_1/1_FULLY_CONNECTED_RESIDUAL_FORCE_MATCH_SHAPES_79/dense/kernel:0' shape=(5, 5) dtype=float32>, 'Phoenix/search_generator_0/1_FULLY_CONNECTED_RESIDUAL_FORCE_MATCH_SHAPES_79/dense/bias': <tf.Variable 'Phoenix/prior_generator_1/1_FULLY_CONNECTED_RESIDUAL_FORCE_MATCH_SHAPES_79/dense/bias:0' shape=(5,) dtype=float32>, 'Phoenix/search_generator_0/last_dense_79/dense/kernel': <tf.Variable 'Phoenix/prior_generator_1/last_dense_79/dense/kernel:0' shape=(5, 2) dtype=float32>, 'Phoenix/search_generator_0/last_dense_79/dense/bias': <tf.Variable 'Phoenix/prior_generator_1/last_dense_79/dense/bias:0' shape=(2,) dtype=float32>}\n",
            "I0415 21:11:21.857593 139697096087424 architecture_utils.py:382] warm starting the following tensors\n",
            "I0415 21:11:21.858805 139697096087424 architecture_utils.py:383] {'Phoenix/search_generator_0/1_FIXED_OUTPUT_FULLY_CONNECTED_512_24/dense/kernel': <tf.Variable 'Phoenix/prior_generator_2/1_FIXED_OUTPUT_FULLY_CONNECTED_512_24/dense/kernel:0' shape=(5, 512) dtype=float32>, 'Phoenix/search_generator_0/1_FIXED_OUTPUT_FULLY_CONNECTED_512_24/dense/bias': <tf.Variable 'Phoenix/prior_generator_2/1_FIXED_OUTPUT_FULLY_CONNECTED_512_24/dense/bias:0' shape=(512,) dtype=float32>, 'Phoenix/search_generator_0/last_dense_24/dense/kernel': <tf.Variable 'Phoenix/prior_generator_2/last_dense_24/dense/kernel:0' shape=(512, 2) dtype=float32>, 'Phoenix/search_generator_0/last_dense_24/dense/bias': <tf.Variable 'Phoenix/prior_generator_2/last_dense_24/dense/bias:0' shape=(2,) dtype=float32>}\n"
          ],
          "name": "stderr"
        },
        {
          "output_type": "stream",
          "text": [
            "INFO:tensorflow:Done calling model_fn.\n"
          ],
          "name": "stdout"
        },
        {
          "output_type": "stream",
          "text": [
            "I0415 21:11:22.169158 139697096087424 estimator.py:1171] Done calling model_fn.\n"
          ],
          "name": "stderr"
        },
        {
          "output_type": "stream",
          "text": [
            "INFO:tensorflow:Create CheckpointSaverHook.\n"
          ],
          "name": "stdout"
        },
        {
          "output_type": "stream",
          "text": [
            "I0415 21:11:22.175652 139697096087424 basic_session_run_hooks.py:546] Create CheckpointSaverHook.\n"
          ],
          "name": "stderr"
        },
        {
          "output_type": "stream",
          "text": [
            "INFO:tensorflow:Graph was finalized.\n"
          ],
          "name": "stdout"
        },
        {
          "output_type": "stream",
          "text": [
            "I0415 21:11:22.271289 139697096087424 monitored_session.py:246] Graph was finalized.\n"
          ],
          "name": "stderr"
        },
        {
          "output_type": "stream",
          "text": [
            "INFO:tensorflow:Running local_init_op.\n"
          ],
          "name": "stdout"
        },
        {
          "output_type": "stream",
          "text": [
            "I0415 21:11:22.378353 139697096087424 session_manager.py:505] Running local_init_op.\n"
          ],
          "name": "stderr"
        },
        {
          "output_type": "stream",
          "text": [
            "INFO:tensorflow:Done running local_init_op.\n"
          ],
          "name": "stdout"
        },
        {
          "output_type": "stream",
          "text": [
            "I0415 21:11:22.401177 139697096087424 session_manager.py:508] Done running local_init_op.\n"
          ],
          "name": "stderr"
        },
        {
          "output_type": "stream",
          "text": [
            "INFO:tensorflow:Calling checkpoint listeners before saving checkpoint 0...\n"
          ],
          "name": "stdout"
        },
        {
          "output_type": "stream",
          "text": [
            "I0415 21:11:22.848115 139697096087424 basic_session_run_hooks.py:614] Calling checkpoint listeners before saving checkpoint 0...\n"
          ],
          "name": "stderr"
        },
        {
          "output_type": "stream",
          "text": [
            "INFO:tensorflow:Saving checkpoints for 0 into /tmp/run_example/tuner-1/5/model.ckpt.\n"
          ],
          "name": "stdout"
        },
        {
          "output_type": "stream",
          "text": [
            "I0415 21:11:22.855314 139697096087424 basic_session_run_hooks.py:618] Saving checkpoints for 0 into /tmp/run_example/tuner-1/5/model.ckpt.\n"
          ],
          "name": "stderr"
        },
        {
          "output_type": "stream",
          "text": [
            "INFO:tensorflow:Calling checkpoint listeners after saving checkpoint 0...\n"
          ],
          "name": "stdout"
        },
        {
          "output_type": "stream",
          "text": [
            "I0415 21:11:22.964463 139697096087424 basic_session_run_hooks.py:626] Calling checkpoint listeners after saving checkpoint 0...\n"
          ],
          "name": "stderr"
        },
        {
          "output_type": "stream",
          "text": [
            "INFO:tensorflow:loss = 0.0, step = 0\n"
          ],
          "name": "stdout"
        },
        {
          "output_type": "stream",
          "text": [
            "I0415 21:12:31.669414 139697096087424 basic_session_run_hooks.py:262] loss = 0.0, step = 0\n"
          ],
          "name": "stderr"
        },
        {
          "output_type": "stream",
          "text": [
            "INFO:tensorflow:Calling checkpoint listeners before saving checkpoint 101...\n"
          ],
          "name": "stdout"
        },
        {
          "output_type": "stream",
          "text": [
            "I0415 21:12:31.678641 139697096087424 basic_session_run_hooks.py:614] Calling checkpoint listeners before saving checkpoint 101...\n"
          ],
          "name": "stderr"
        },
        {
          "output_type": "stream",
          "text": [
            "INFO:tensorflow:Saving checkpoints for 101 into /tmp/run_example/tuner-1/5/model.ckpt.\n"
          ],
          "name": "stdout"
        },
        {
          "output_type": "stream",
          "text": [
            "I0415 21:12:31.680753 139697096087424 basic_session_run_hooks.py:618] Saving checkpoints for 101 into /tmp/run_example/tuner-1/5/model.ckpt.\n"
          ],
          "name": "stderr"
        },
        {
          "output_type": "stream",
          "text": [
            "INFO:tensorflow:Calling checkpoint listeners after saving checkpoint 101...\n"
          ],
          "name": "stdout"
        },
        {
          "output_type": "stream",
          "text": [
            "I0415 21:12:31.765732 139697096087424 basic_session_run_hooks.py:626] Calling checkpoint listeners after saving checkpoint 101...\n"
          ],
          "name": "stderr"
        },
        {
          "output_type": "stream",
          "text": [
            "INFO:tensorflow:Loss for final step: 0.0.\n"
          ],
          "name": "stdout"
        },
        {
          "output_type": "stream",
          "text": [
            "I0415 21:12:32.043005 139697096087424 estimator.py:350] Loss for final step: 0.0.\n"
          ],
          "name": "stderr"
        },
        {
          "output_type": "stream",
          "text": [
            "INFO:tensorflow:Calling model_fn.\n"
          ],
          "name": "stdout"
        },
        {
          "output_type": "stream",
          "text": [
            "I0415 21:12:32.078108 139697096087424 estimator.py:1169] Calling model_fn.\n",
            "I0415 21:12:32.097015 139697096087424 controller.py:160] trial id: 5\n",
            "I0415 21:12:32.098068 139697096087424 controller.py:239] intermix ensemble search mode\n",
            "I0415 21:12:32.110410 139697096087424 phoenix.py:371] {'prior_generator': GeneratorWithTrials(instance=<model_search.generators.prior_generator.PriorGenerator object at 0x7f0c59293bd0>, relevant_trials=[<model_search.metadata.trial.Trial object at 0x7f0c5393cf50>, <model_search.metadata.trial.Trial object at 0x7f0c5393c750>, <model_search.metadata.trial.Trial object at 0x7f0c53947650>, <model_search.metadata.trial.Trial object at 0x7f0c53950510>])}\n",
            "I0415 21:12:32.117418 139697096087424 base_tower_generator.py:112] Building from existing checkpoint.\n"
          ],
          "name": "stderr"
        },
        {
          "output_type": "stream",
          "text": [
            "INFO:tensorflow:Done calling model_fn.\n"
          ],
          "name": "stdout"
        },
        {
          "output_type": "stream",
          "text": [
            "I0415 21:12:32.644677 139697096087424 estimator.py:1171] Done calling model_fn.\n"
          ],
          "name": "stderr"
        },
        {
          "output_type": "stream",
          "text": [
            "INFO:tensorflow:Starting evaluation at 2021-04-15T21:12:32Z\n"
          ],
          "name": "stdout"
        },
        {
          "output_type": "stream",
          "text": [
            "I0415 21:12:32.670093 139697096087424 evaluation.py:255] Starting evaluation at 2021-04-15T21:12:32Z\n"
          ],
          "name": "stderr"
        },
        {
          "output_type": "stream",
          "text": [
            "INFO:tensorflow:Graph was finalized.\n"
          ],
          "name": "stdout"
        },
        {
          "output_type": "stream",
          "text": [
            "I0415 21:12:32.758496 139697096087424 monitored_session.py:246] Graph was finalized.\n"
          ],
          "name": "stderr"
        },
        {
          "output_type": "stream",
          "text": [
            "INFO:tensorflow:Restoring parameters from /tmp/run_example/tuner-1/5/model.ckpt-101\n"
          ],
          "name": "stdout"
        },
        {
          "output_type": "stream",
          "text": [
            "I0415 21:12:32.769742 139697096087424 saver.py:1293] Restoring parameters from /tmp/run_example/tuner-1/5/model.ckpt-101\n"
          ],
          "name": "stderr"
        },
        {
          "output_type": "stream",
          "text": [
            "INFO:tensorflow:Running local_init_op.\n"
          ],
          "name": "stdout"
        },
        {
          "output_type": "stream",
          "text": [
            "I0415 21:12:32.849518 139697096087424 session_manager.py:505] Running local_init_op.\n"
          ],
          "name": "stderr"
        },
        {
          "output_type": "stream",
          "text": [
            "INFO:tensorflow:Done running local_init_op.\n"
          ],
          "name": "stdout"
        },
        {
          "output_type": "stream",
          "text": [
            "I0415 21:12:32.873409 139697096087424 session_manager.py:508] Done running local_init_op.\n"
          ],
          "name": "stderr"
        },
        {
          "output_type": "stream",
          "text": [
            "INFO:tensorflow:Evaluation [1/1]\n"
          ],
          "name": "stdout"
        },
        {
          "output_type": "stream",
          "text": [
            "I0415 21:12:33.029228 139697096087424 evaluation.py:167] Evaluation [1/1]\n"
          ],
          "name": "stderr"
        },
        {
          "output_type": "stream",
          "text": [
            "INFO:tensorflow:Inference Time : 0.39826s\n"
          ],
          "name": "stdout"
        },
        {
          "output_type": "stream",
          "text": [
            "I0415 21:12:33.073906 139697096087424 evaluation.py:273] Inference Time : 0.39826s\n"
          ],
          "name": "stderr"
        },
        {
          "output_type": "stream",
          "text": [
            "INFO:tensorflow:Finished evaluation at 2021-04-15-21:12:33\n"
          ],
          "name": "stdout"
        },
        {
          "output_type": "stream",
          "text": [
            "I0415 21:12:33.079411 139697096087424 evaluation.py:276] Finished evaluation at 2021-04-15-21:12:33\n"
          ],
          "name": "stderr"
        },
        {
          "output_type": "stream",
          "text": [
            "INFO:tensorflow:Saving dict for global step 101: accuracy = 0.46484375, auc_pr = 0.0, auc_roc = 1.0, global_step = 101, loss = 3.2725117, num_parameters = 4192\n"
          ],
          "name": "stdout"
        },
        {
          "output_type": "stream",
          "text": [
            "I0415 21:12:33.089726 139697096087424 estimator.py:2066] Saving dict for global step 101: accuracy = 0.46484375, auc_pr = 0.0, auc_roc = 1.0, global_step = 101, loss = 3.2725117, num_parameters = 4192\n"
          ],
          "name": "stderr"
        },
        {
          "output_type": "stream",
          "text": [
            "INFO:tensorflow:Saving 'checkpoint_path' summary for global step 101: /tmp/run_example/tuner-1/5/model.ckpt-101\n"
          ],
          "name": "stdout"
        },
        {
          "output_type": "stream",
          "text": [
            "I0415 21:12:33.093516 139697096087424 estimator.py:2127] Saving 'checkpoint_path' summary for global step 101: /tmp/run_example/tuner-1/5/model.ckpt-101\n",
            "I0415 21:12:33.097978 139697096087424 phoenix.py:123] Saving the following evaluation dictionary.\n",
            "I0415 21:12:33.100262 139697096087424 phoenix.py:124] {'accuracy': 0.46484375, 'auc_pr': 0.0, 'auc_roc': 1.0, 'loss': 3.2725117206573486, 'num_parameters': 4192, 'global_step': 101}\n",
            "I0415 21:12:33.107530 139697096087424 ml_metadata_db.py:161] Storing the following evaluation dictionary,\n",
            "I0415 21:12:33.111867 139697096087424 ml_metadata_db.py:162] {'accuracy': 0.46484375, 'auc_pr': 0.0, 'auc_roc': 1.0, 'loss': 3.2725117206573486, 'num_parameters': 4192, 'global_step': 101}\n",
            "I0415 21:12:33.116375 139697096087424 ml_metadata_db.py:163] For the model in the following model dictionary,\n",
            "I0415 21:12:33.117273 139697096087424 ml_metadata_db.py:164] /tmp/run_example/tuner-1/5\n"
          ],
          "name": "stderr"
        },
        {
          "output_type": "stream",
          "text": [
            "INFO:tensorflow:Calling model_fn.\n"
          ],
          "name": "stdout"
        },
        {
          "output_type": "stream",
          "text": [
            "I0415 21:12:33.146481 139697096087424 estimator.py:1169] Calling model_fn.\n",
            "I0415 21:12:33.166334 139697096087424 controller.py:160] trial id: 5\n",
            "I0415 21:12:33.167206 139697096087424 controller.py:239] intermix ensemble search mode\n",
            "I0415 21:12:33.177315 139697096087424 phoenix.py:371] {'prior_generator': GeneratorWithTrials(instance=<model_search.generators.prior_generator.PriorGenerator object at 0x7f0c59293bd0>, relevant_trials=[<model_search.metadata.trial.Trial object at 0x7f0c528ef290>, <model_search.metadata.trial.Trial object at 0x7f0c528ef750>, <model_search.metadata.trial.Trial object at 0x7f0c528ef990>, <model_search.metadata.trial.Trial object at 0x7f0c528ef4d0>])}\n",
            "I0415 21:12:33.186722 139697096087424 base_tower_generator.py:112] Building from existing checkpoint.\n"
          ],
          "name": "stderr"
        },
        {
          "output_type": "stream",
          "text": [
            "INFO:tensorflow:Done calling model_fn.\n"
          ],
          "name": "stdout"
        },
        {
          "output_type": "stream",
          "text": [
            "I0415 21:12:33.447345 139697096087424 estimator.py:1171] Done calling model_fn.\n"
          ],
          "name": "stderr"
        },
        {
          "output_type": "stream",
          "text": [
            "INFO:tensorflow:Signatures INCLUDED in export for Classify: None\n"
          ],
          "name": "stdout"
        },
        {
          "output_type": "stream",
          "text": [
            "I0415 21:12:33.453861 139697096087424 export_utils.py:170] Signatures INCLUDED in export for Classify: None\n"
          ],
          "name": "stderr"
        },
        {
          "output_type": "stream",
          "text": [
            "INFO:tensorflow:Signatures INCLUDED in export for Regress: None\n"
          ],
          "name": "stdout"
        },
        {
          "output_type": "stream",
          "text": [
            "I0415 21:12:33.461829 139697096087424 export_utils.py:170] Signatures INCLUDED in export for Regress: None\n"
          ],
          "name": "stderr"
        },
        {
          "output_type": "stream",
          "text": [
            "INFO:tensorflow:Signatures INCLUDED in export for Predict: ['serving_default']\n"
          ],
          "name": "stdout"
        },
        {
          "output_type": "stream",
          "text": [
            "I0415 21:12:33.464729 139697096087424 export_utils.py:170] Signatures INCLUDED in export for Predict: ['serving_default']\n"
          ],
          "name": "stderr"
        },
        {
          "output_type": "stream",
          "text": [
            "INFO:tensorflow:Signatures INCLUDED in export for Train: None\n"
          ],
          "name": "stdout"
        },
        {
          "output_type": "stream",
          "text": [
            "I0415 21:12:33.466248 139697096087424 export_utils.py:170] Signatures INCLUDED in export for Train: None\n"
          ],
          "name": "stderr"
        },
        {
          "output_type": "stream",
          "text": [
            "INFO:tensorflow:Signatures INCLUDED in export for Eval: None\n"
          ],
          "name": "stdout"
        },
        {
          "output_type": "stream",
          "text": [
            "I0415 21:12:33.467870 139697096087424 export_utils.py:170] Signatures INCLUDED in export for Eval: None\n"
          ],
          "name": "stderr"
        },
        {
          "output_type": "stream",
          "text": [
            "INFO:tensorflow:Restoring parameters from /tmp/run_example/tuner-1/5/model.ckpt-101\n"
          ],
          "name": "stdout"
        },
        {
          "output_type": "stream",
          "text": [
            "I0415 21:12:33.535443 139697096087424 saver.py:1293] Restoring parameters from /tmp/run_example/tuner-1/5/model.ckpt-101\n"
          ],
          "name": "stderr"
        },
        {
          "output_type": "stream",
          "text": [
            "INFO:tensorflow:Assets added to graph.\n"
          ],
          "name": "stdout"
        },
        {
          "output_type": "stream",
          "text": [
            "I0415 21:12:33.577648 139697096087424 builder_impl.py:666] Assets added to graph.\n"
          ],
          "name": "stderr"
        },
        {
          "output_type": "stream",
          "text": [
            "INFO:tensorflow:No assets to write.\n"
          ],
          "name": "stdout"
        },
        {
          "output_type": "stream",
          "text": [
            "I0415 21:12:33.579406 139697096087424 builder_impl.py:461] No assets to write.\n"
          ],
          "name": "stderr"
        },
        {
          "output_type": "stream",
          "text": [
            "INFO:tensorflow:SavedModel written to: /tmp/run_example/tuner-1/5/saved_model/temp-1618521153/saved_model.pb\n"
          ],
          "name": "stdout"
        },
        {
          "output_type": "stream",
          "text": [
            "I0415 21:12:33.649114 139697096087424 builder_impl.py:426] SavedModel written to: /tmp/run_example/tuner-1/5/saved_model/temp-1618521153/saved_model.pb\n",
            "I0415 21:12:33.658096 139697096087424 oss_trainer_lib.py:265] Evaluation results: {'accuracy': 0.46484375, 'auc_pr': 0.0, 'auc_roc': 1.0, 'loss': 3.2725117, 'num_parameters': 4192, 'global_step': 101}\n",
            "I0415 21:12:33.669518 139697096087424 oss_trainer_lib.py:290] creating directory: /tmp/run_example/tuner-1/6\n"
          ],
          "name": "stderr"
        }
      ]
    },
    {
      "cell_type": "code",
      "metadata": {
        "colab": {
          "base_uri": "https://localhost:8080/"
        },
        "id": "Jor7AbRhFpgI",
        "outputId": "7290a96e-e770-4916-f30a-1c3f924d2ab5"
      },
      "source": [
        "# Modify this cell to retrieve model data with the best accuracy\n",
        "!ls /tmp/run_example/tuner-1/3"
      ],
      "execution_count": 58,
      "outputs": [
        {
          "output_type": "stream",
          "text": [
            "3.arch.txt\t\t\t  model.ckpt-5.data-00000-of-00001\n",
            "3.search_edge.txt\t\t  model.ckpt-5.index\n",
            "checkpoint\t\t\t  model.ckpt-5.meta\n",
            "graph.pbtxt\t\t\t  replay_config.pbtxt\n",
            "model.ckpt-0.data-00000-of-00001  saved_model\n",
            "model.ckpt-0.index\t\t  search_generator_0\n",
            "model.ckpt-0.meta\n"
          ],
          "name": "stdout"
        }
      ]
    },
    {
      "cell_type": "code",
      "metadata": {
        "id": "XbitFWUBOQMi",
        "colab": {
          "base_uri": "https://localhost:8080/"
        },
        "outputId": "52858186-a675-4243-a488-2c7eca73893c"
      },
      "source": [
        "# Show model summary\n",
        "!cat /tmp/run_example/tuner-1/3/graph.pbtxt"
      ],
      "execution_count": 60,
      "outputs": [
        {
          "output_type": "stream",
          "text": [
            "\u001b[1;30;43mStreaming output truncated to the last 5000 lines.\u001b[0m\n",
            "      type: DT_STRING\n",
            "    }\n",
            "  }\n",
            "  attr {\n",
            "    key: \"Tshape\"\n",
            "    value {\n",
            "      type: DT_INT32\n",
            "    }\n",
            "  }\n",
            "  attr {\n",
            "    key: \"_output_shapes\"\n",
            "    value {\n",
            "      list {\n",
            "        shape {\n",
            "          dim {\n",
            "            size: 21\n",
            "          }\n",
            "        }\n",
            "      }\n",
            "    }\n",
            "  }\n",
            "}\n",
            "node {\n",
            "  name: \"report_uninitialized_variables/boolean_mask/Reshape_1/shape\"\n",
            "  op: \"Const\"\n",
            "  device: \"/device:CPU:0\"\n",
            "  attr {\n",
            "    key: \"_output_shapes\"\n",
            "    value {\n",
            "      list {\n",
            "        shape {\n",
            "          dim {\n",
            "            size: 1\n",
            "          }\n",
            "        }\n",
            "      }\n",
            "    }\n",
            "  }\n",
            "  attr {\n",
            "    key: \"dtype\"\n",
            "    value {\n",
            "      type: DT_INT32\n",
            "    }\n",
            "  }\n",
            "  attr {\n",
            "    key: \"value\"\n",
            "    value {\n",
            "      tensor {\n",
            "        dtype: DT_INT32\n",
            "        tensor_shape {\n",
            "          dim {\n",
            "            size: 1\n",
            "          }\n",
            "        }\n",
            "        int_val: -1\n",
            "      }\n",
            "    }\n",
            "  }\n",
            "}\n",
            "node {\n",
            "  name: \"report_uninitialized_variables/boolean_mask/Reshape_1\"\n",
            "  op: \"Reshape\"\n",
            "  input: \"report_uninitialized_variables/LogicalNot\"\n",
            "  input: \"report_uninitialized_variables/boolean_mask/Reshape_1/shape\"\n",
            "  device: \"/device:CPU:0\"\n",
            "  attr {\n",
            "    key: \"T\"\n",
            "    value {\n",
            "      type: DT_BOOL\n",
            "    }\n",
            "  }\n",
            "  attr {\n",
            "    key: \"Tshape\"\n",
            "    value {\n",
            "      type: DT_INT32\n",
            "    }\n",
            "  }\n",
            "  attr {\n",
            "    key: \"_output_shapes\"\n",
            "    value {\n",
            "      list {\n",
            "        shape {\n",
            "          dim {\n",
            "            size: 21\n",
            "          }\n",
            "        }\n",
            "      }\n",
            "    }\n",
            "  }\n",
            "}\n",
            "node {\n",
            "  name: \"report_uninitialized_variables/boolean_mask/Where\"\n",
            "  op: \"Where\"\n",
            "  input: \"report_uninitialized_variables/boolean_mask/Reshape_1\"\n",
            "  device: \"/device:CPU:0\"\n",
            "  attr {\n",
            "    key: \"T\"\n",
            "    value {\n",
            "      type: DT_BOOL\n",
            "    }\n",
            "  }\n",
            "  attr {\n",
            "    key: \"_output_shapes\"\n",
            "    value {\n",
            "      list {\n",
            "        shape {\n",
            "          dim {\n",
            "            size: -1\n",
            "          }\n",
            "          dim {\n",
            "            size: 1\n",
            "          }\n",
            "        }\n",
            "      }\n",
            "    }\n",
            "  }\n",
            "}\n",
            "node {\n",
            "  name: \"report_uninitialized_variables/boolean_mask/Squeeze\"\n",
            "  op: \"Squeeze\"\n",
            "  input: \"report_uninitialized_variables/boolean_mask/Where\"\n",
            "  device: \"/device:CPU:0\"\n",
            "  attr {\n",
            "    key: \"T\"\n",
            "    value {\n",
            "      type: DT_INT64\n",
            "    }\n",
            "  }\n",
            "  attr {\n",
            "    key: \"_output_shapes\"\n",
            "    value {\n",
            "      list {\n",
            "        shape {\n",
            "          dim {\n",
            "            size: -1\n",
            "          }\n",
            "        }\n",
            "      }\n",
            "    }\n",
            "  }\n",
            "  attr {\n",
            "    key: \"squeeze_dims\"\n",
            "    value {\n",
            "      list {\n",
            "        i: 1\n",
            "      }\n",
            "    }\n",
            "  }\n",
            "}\n",
            "node {\n",
            "  name: \"report_uninitialized_variables/boolean_mask/GatherV2/axis\"\n",
            "  op: \"Const\"\n",
            "  device: \"/device:CPU:0\"\n",
            "  attr {\n",
            "    key: \"_output_shapes\"\n",
            "    value {\n",
            "      list {\n",
            "        shape {\n",
            "        }\n",
            "      }\n",
            "    }\n",
            "  }\n",
            "  attr {\n",
            "    key: \"dtype\"\n",
            "    value {\n",
            "      type: DT_INT32\n",
            "    }\n",
            "  }\n",
            "  attr {\n",
            "    key: \"value\"\n",
            "    value {\n",
            "      tensor {\n",
            "        dtype: DT_INT32\n",
            "        tensor_shape {\n",
            "        }\n",
            "        int_val: 0\n",
            "      }\n",
            "    }\n",
            "  }\n",
            "}\n",
            "node {\n",
            "  name: \"report_uninitialized_variables/boolean_mask/GatherV2\"\n",
            "  op: \"GatherV2\"\n",
            "  input: \"report_uninitialized_variables/boolean_mask/Reshape\"\n",
            "  input: \"report_uninitialized_variables/boolean_mask/Squeeze\"\n",
            "  input: \"report_uninitialized_variables/boolean_mask/GatherV2/axis\"\n",
            "  device: \"/device:CPU:0\"\n",
            "  attr {\n",
            "    key: \"Taxis\"\n",
            "    value {\n",
            "      type: DT_INT32\n",
            "    }\n",
            "  }\n",
            "  attr {\n",
            "    key: \"Tindices\"\n",
            "    value {\n",
            "      type: DT_INT64\n",
            "    }\n",
            "  }\n",
            "  attr {\n",
            "    key: \"Tparams\"\n",
            "    value {\n",
            "      type: DT_STRING\n",
            "    }\n",
            "  }\n",
            "  attr {\n",
            "    key: \"_output_shapes\"\n",
            "    value {\n",
            "      list {\n",
            "        shape {\n",
            "          dim {\n",
            "            size: -1\n",
            "          }\n",
            "        }\n",
            "      }\n",
            "    }\n",
            "  }\n",
            "  attr {\n",
            "    key: \"batch_dims\"\n",
            "    value {\n",
            "      i: 0\n",
            "    }\n",
            "  }\n",
            "}\n",
            "node {\n",
            "  name: \"report_uninitialized_resources/Const\"\n",
            "  op: \"Const\"\n",
            "  device: \"/device:CPU:0\"\n",
            "  attr {\n",
            "    key: \"_output_shapes\"\n",
            "    value {\n",
            "      list {\n",
            "        shape {\n",
            "          dim {\n",
            "          }\n",
            "        }\n",
            "      }\n",
            "    }\n",
            "  }\n",
            "  attr {\n",
            "    key: \"dtype\"\n",
            "    value {\n",
            "      type: DT_STRING\n",
            "    }\n",
            "  }\n",
            "  attr {\n",
            "    key: \"value\"\n",
            "    value {\n",
            "      tensor {\n",
            "        dtype: DT_STRING\n",
            "        tensor_shape {\n",
            "          dim {\n",
            "          }\n",
            "        }\n",
            "      }\n",
            "    }\n",
            "  }\n",
            "}\n",
            "node {\n",
            "  name: \"concat/axis\"\n",
            "  op: \"Const\"\n",
            "  attr {\n",
            "    key: \"_output_shapes\"\n",
            "    value {\n",
            "      list {\n",
            "        shape {\n",
            "        }\n",
            "      }\n",
            "    }\n",
            "  }\n",
            "  attr {\n",
            "    key: \"dtype\"\n",
            "    value {\n",
            "      type: DT_INT32\n",
            "    }\n",
            "  }\n",
            "  attr {\n",
            "    key: \"value\"\n",
            "    value {\n",
            "      tensor {\n",
            "        dtype: DT_INT32\n",
            "        tensor_shape {\n",
            "        }\n",
            "        int_val: 0\n",
            "      }\n",
            "    }\n",
            "  }\n",
            "}\n",
            "node {\n",
            "  name: \"concat\"\n",
            "  op: \"ConcatV2\"\n",
            "  input: \"report_uninitialized_variables/boolean_mask/GatherV2\"\n",
            "  input: \"report_uninitialized_resources/Const\"\n",
            "  input: \"concat/axis\"\n",
            "  attr {\n",
            "    key: \"N\"\n",
            "    value {\n",
            "      i: 2\n",
            "    }\n",
            "  }\n",
            "  attr {\n",
            "    key: \"T\"\n",
            "    value {\n",
            "      type: DT_STRING\n",
            "    }\n",
            "  }\n",
            "  attr {\n",
            "    key: \"Tidx\"\n",
            "    value {\n",
            "      type: DT_INT32\n",
            "    }\n",
            "  }\n",
            "  attr {\n",
            "    key: \"_output_shapes\"\n",
            "    value {\n",
            "      list {\n",
            "        shape {\n",
            "          dim {\n",
            "            size: -1\n",
            "          }\n",
            "        }\n",
            "      }\n",
            "    }\n",
            "  }\n",
            "}\n",
            "node {\n",
            "  name: \"report_uninitialized_variables_1/VarIsInitializedOp\"\n",
            "  op: \"VarIsInitializedOp\"\n",
            "  input: \"global_step\"\n",
            "  attr {\n",
            "    key: \"_output_shapes\"\n",
            "    value {\n",
            "      list {\n",
            "        shape {\n",
            "        }\n",
            "      }\n",
            "    }\n",
            "  }\n",
            "}\n",
            "node {\n",
            "  name: \"report_uninitialized_variables_1/VarIsInitializedOp_1\"\n",
            "  op: \"VarIsInitializedOp\"\n",
            "  input: \"number_of_towers/prior_generator\"\n",
            "  attr {\n",
            "    key: \"_output_shapes\"\n",
            "    value {\n",
            "      list {\n",
            "        shape {\n",
            "        }\n",
            "      }\n",
            "    }\n",
            "  }\n",
            "}\n",
            "node {\n",
            "  name: \"report_uninitialized_variables_1/VarIsInitializedOp_2\"\n",
            "  op: \"VarIsInitializedOp\"\n",
            "  input: \"number_of_towers/replay_generator\"\n",
            "  attr {\n",
            "    key: \"_output_shapes\"\n",
            "    value {\n",
            "      list {\n",
            "        shape {\n",
            "        }\n",
            "      }\n",
            "    }\n",
            "  }\n",
            "}\n",
            "node {\n",
            "  name: \"report_uninitialized_variables_1/VarIsInitializedOp_3\"\n",
            "  op: \"VarIsInitializedOp\"\n",
            "  input: \"Phoenix/search_generator_0/1_FIXED_OUTPUT_FULLY_CONNECTED_512_24/dense/kernel\"\n",
            "  attr {\n",
            "    key: \"_output_shapes\"\n",
            "    value {\n",
            "      list {\n",
            "        shape {\n",
            "        }\n",
            "      }\n",
            "    }\n",
            "  }\n",
            "}\n",
            "node {\n",
            "  name: \"report_uninitialized_variables_1/VarIsInitializedOp_4\"\n",
            "  op: \"VarIsInitializedOp\"\n",
            "  input: \"Phoenix/search_generator_0/1_FIXED_OUTPUT_FULLY_CONNECTED_512_24/dense/bias\"\n",
            "  attr {\n",
            "    key: \"_output_shapes\"\n",
            "    value {\n",
            "      list {\n",
            "        shape {\n",
            "        }\n",
            "      }\n",
            "    }\n",
            "  }\n",
            "}\n",
            "node {\n",
            "  name: \"report_uninitialized_variables_1/VarIsInitializedOp_5\"\n",
            "  op: \"VarIsInitializedOp\"\n",
            "  input: \"Phoenix/search_generator_0/last_dense_24/dense/kernel\"\n",
            "  attr {\n",
            "    key: \"_output_shapes\"\n",
            "    value {\n",
            "      list {\n",
            "        shape {\n",
            "        }\n",
            "      }\n",
            "    }\n",
            "  }\n",
            "}\n",
            "node {\n",
            "  name: \"report_uninitialized_variables_1/VarIsInitializedOp_6\"\n",
            "  op: \"VarIsInitializedOp\"\n",
            "  input: \"Phoenix/search_generator_0/last_dense_24/dense/bias\"\n",
            "  attr {\n",
            "    key: \"_output_shapes\"\n",
            "    value {\n",
            "      list {\n",
            "        shape {\n",
            "        }\n",
            "      }\n",
            "    }\n",
            "  }\n",
            "}\n",
            "node {\n",
            "  name: \"report_uninitialized_variables_1/VarIsInitializedOp_7\"\n",
            "  op: \"VarIsInitializedOp\"\n",
            "  input: \"architectures/search_generator_0\"\n",
            "  attr {\n",
            "    key: \"_output_shapes\"\n",
            "    value {\n",
            "      list {\n",
            "        shape {\n",
            "        }\n",
            "      }\n",
            "    }\n",
            "  }\n",
            "}\n",
            "node {\n",
            "  name: \"report_uninitialized_variables_1/VarIsInitializedOp_8\"\n",
            "  op: \"VarIsInitializedOp\"\n",
            "  input: \"params/search_generator_0/dropout_rate\"\n",
            "  attr {\n",
            "    key: \"_output_shapes\"\n",
            "    value {\n",
            "      list {\n",
            "        shape {\n",
            "        }\n",
            "      }\n",
            "    }\n",
            "  }\n",
            "}\n",
            "node {\n",
            "  name: \"report_uninitialized_variables_1/VarIsInitializedOp_9\"\n",
            "  op: \"VarIsInitializedOp\"\n",
            "  input: \"params/search_generator_0/is_frozen\"\n",
            "  attr {\n",
            "    key: \"_output_shapes\"\n",
            "    value {\n",
            "      list {\n",
            "        shape {\n",
            "        }\n",
            "      }\n",
            "    }\n",
            "  }\n",
            "}\n",
            "node {\n",
            "  name: \"report_uninitialized_variables_1/VarIsInitializedOp_10\"\n",
            "  op: \"VarIsInitializedOp\"\n",
            "  input: \"number_of_towers/search_generator\"\n",
            "  attr {\n",
            "    key: \"_output_shapes\"\n",
            "    value {\n",
            "      list {\n",
            "        shape {\n",
            "        }\n",
            "      }\n",
            "    }\n",
            "  }\n",
            "}\n",
            "node {\n",
            "  name: \"report_uninitialized_variables_1/stack\"\n",
            "  op: \"Pack\"\n",
            "  input: \"report_uninitialized_variables_1/VarIsInitializedOp\"\n",
            "  input: \"report_uninitialized_variables_1/VarIsInitializedOp_1\"\n",
            "  input: \"report_uninitialized_variables_1/VarIsInitializedOp_2\"\n",
            "  input: \"report_uninitialized_variables_1/VarIsInitializedOp_3\"\n",
            "  input: \"report_uninitialized_variables_1/VarIsInitializedOp_4\"\n",
            "  input: \"report_uninitialized_variables_1/VarIsInitializedOp_5\"\n",
            "  input: \"report_uninitialized_variables_1/VarIsInitializedOp_6\"\n",
            "  input: \"report_uninitialized_variables_1/VarIsInitializedOp_7\"\n",
            "  input: \"report_uninitialized_variables_1/VarIsInitializedOp_8\"\n",
            "  input: \"report_uninitialized_variables_1/VarIsInitializedOp_9\"\n",
            "  input: \"report_uninitialized_variables_1/VarIsInitializedOp_10\"\n",
            "  device: \"/device:CPU:0\"\n",
            "  attr {\n",
            "    key: \"N\"\n",
            "    value {\n",
            "      i: 11\n",
            "    }\n",
            "  }\n",
            "  attr {\n",
            "    key: \"T\"\n",
            "    value {\n",
            "      type: DT_BOOL\n",
            "    }\n",
            "  }\n",
            "  attr {\n",
            "    key: \"_output_shapes\"\n",
            "    value {\n",
            "      list {\n",
            "        shape {\n",
            "          dim {\n",
            "            size: 11\n",
            "          }\n",
            "        }\n",
            "      }\n",
            "    }\n",
            "  }\n",
            "  attr {\n",
            "    key: \"axis\"\n",
            "    value {\n",
            "      i: 0\n",
            "    }\n",
            "  }\n",
            "}\n",
            "node {\n",
            "  name: \"report_uninitialized_variables_1/LogicalNot\"\n",
            "  op: \"LogicalNot\"\n",
            "  input: \"report_uninitialized_variables_1/stack\"\n",
            "  device: \"/device:CPU:0\"\n",
            "  attr {\n",
            "    key: \"_output_shapes\"\n",
            "    value {\n",
            "      list {\n",
            "        shape {\n",
            "          dim {\n",
            "            size: 11\n",
            "          }\n",
            "        }\n",
            "      }\n",
            "    }\n",
            "  }\n",
            "}\n",
            "node {\n",
            "  name: \"report_uninitialized_variables_1/Const\"\n",
            "  op: \"Const\"\n",
            "  device: \"/device:CPU:0\"\n",
            "  attr {\n",
            "    key: \"_output_shapes\"\n",
            "    value {\n",
            "      list {\n",
            "        shape {\n",
            "          dim {\n",
            "            size: 11\n",
            "          }\n",
            "        }\n",
            "      }\n",
            "    }\n",
            "  }\n",
            "  attr {\n",
            "    key: \"dtype\"\n",
            "    value {\n",
            "      type: DT_STRING\n",
            "    }\n",
            "  }\n",
            "  attr {\n",
            "    key: \"value\"\n",
            "    value {\n",
            "      tensor {\n",
            "        dtype: DT_STRING\n",
            "        tensor_shape {\n",
            "          dim {\n",
            "            size: 11\n",
            "          }\n",
            "        }\n",
            "        string_val: \"global_step\"\n",
            "        string_val: \"number_of_towers/prior_generator\"\n",
            "        string_val: \"number_of_towers/replay_generator\"\n",
            "        string_val: \"Phoenix/search_generator_0/1_FIXED_OUTPUT_FULLY_CONNECTED_512_24/dense/kernel\"\n",
            "        string_val: \"Phoenix/search_generator_0/1_FIXED_OUTPUT_FULLY_CONNECTED_512_24/dense/bias\"\n",
            "        string_val: \"Phoenix/search_generator_0/last_dense_24/dense/kernel\"\n",
            "        string_val: \"Phoenix/search_generator_0/last_dense_24/dense/bias\"\n",
            "        string_val: \"architectures/search_generator_0\"\n",
            "        string_val: \"params/search_generator_0/dropout_rate\"\n",
            "        string_val: \"params/search_generator_0/is_frozen\"\n",
            "        string_val: \"number_of_towers/search_generator\"\n",
            "      }\n",
            "    }\n",
            "  }\n",
            "}\n",
            "node {\n",
            "  name: \"report_uninitialized_variables_1/boolean_mask/Shape\"\n",
            "  op: \"Const\"\n",
            "  device: \"/device:CPU:0\"\n",
            "  attr {\n",
            "    key: \"_output_shapes\"\n",
            "    value {\n",
            "      list {\n",
            "        shape {\n",
            "          dim {\n",
            "            size: 1\n",
            "          }\n",
            "        }\n",
            "      }\n",
            "    }\n",
            "  }\n",
            "  attr {\n",
            "    key: \"dtype\"\n",
            "    value {\n",
            "      type: DT_INT32\n",
            "    }\n",
            "  }\n",
            "  attr {\n",
            "    key: \"value\"\n",
            "    value {\n",
            "      tensor {\n",
            "        dtype: DT_INT32\n",
            "        tensor_shape {\n",
            "          dim {\n",
            "            size: 1\n",
            "          }\n",
            "        }\n",
            "        int_val: 11\n",
            "      }\n",
            "    }\n",
            "  }\n",
            "}\n",
            "node {\n",
            "  name: \"report_uninitialized_variables_1/boolean_mask/strided_slice/stack\"\n",
            "  op: \"Const\"\n",
            "  device: \"/device:CPU:0\"\n",
            "  attr {\n",
            "    key: \"_output_shapes\"\n",
            "    value {\n",
            "      list {\n",
            "        shape {\n",
            "          dim {\n",
            "            size: 1\n",
            "          }\n",
            "        }\n",
            "      }\n",
            "    }\n",
            "  }\n",
            "  attr {\n",
            "    key: \"dtype\"\n",
            "    value {\n",
            "      type: DT_INT32\n",
            "    }\n",
            "  }\n",
            "  attr {\n",
            "    key: \"value\"\n",
            "    value {\n",
            "      tensor {\n",
            "        dtype: DT_INT32\n",
            "        tensor_shape {\n",
            "          dim {\n",
            "            size: 1\n",
            "          }\n",
            "        }\n",
            "        int_val: 0\n",
            "      }\n",
            "    }\n",
            "  }\n",
            "}\n",
            "node {\n",
            "  name: \"report_uninitialized_variables_1/boolean_mask/strided_slice/stack_1\"\n",
            "  op: \"Const\"\n",
            "  device: \"/device:CPU:0\"\n",
            "  attr {\n",
            "    key: \"_output_shapes\"\n",
            "    value {\n",
            "      list {\n",
            "        shape {\n",
            "          dim {\n",
            "            size: 1\n",
            "          }\n",
            "        }\n",
            "      }\n",
            "    }\n",
            "  }\n",
            "  attr {\n",
            "    key: \"dtype\"\n",
            "    value {\n",
            "      type: DT_INT32\n",
            "    }\n",
            "  }\n",
            "  attr {\n",
            "    key: \"value\"\n",
            "    value {\n",
            "      tensor {\n",
            "        dtype: DT_INT32\n",
            "        tensor_shape {\n",
            "          dim {\n",
            "            size: 1\n",
            "          }\n",
            "        }\n",
            "        int_val: 1\n",
            "      }\n",
            "    }\n",
            "  }\n",
            "}\n",
            "node {\n",
            "  name: \"report_uninitialized_variables_1/boolean_mask/strided_slice/stack_2\"\n",
            "  op: \"Const\"\n",
            "  device: \"/device:CPU:0\"\n",
            "  attr {\n",
            "    key: \"_output_shapes\"\n",
            "    value {\n",
            "      list {\n",
            "        shape {\n",
            "          dim {\n",
            "            size: 1\n",
            "          }\n",
            "        }\n",
            "      }\n",
            "    }\n",
            "  }\n",
            "  attr {\n",
            "    key: \"dtype\"\n",
            "    value {\n",
            "      type: DT_INT32\n",
            "    }\n",
            "  }\n",
            "  attr {\n",
            "    key: \"value\"\n",
            "    value {\n",
            "      tensor {\n",
            "        dtype: DT_INT32\n",
            "        tensor_shape {\n",
            "          dim {\n",
            "            size: 1\n",
            "          }\n",
            "        }\n",
            "        int_val: 1\n",
            "      }\n",
            "    }\n",
            "  }\n",
            "}\n",
            "node {\n",
            "  name: \"report_uninitialized_variables_1/boolean_mask/strided_slice\"\n",
            "  op: \"StridedSlice\"\n",
            "  input: \"report_uninitialized_variables_1/boolean_mask/Shape\"\n",
            "  input: \"report_uninitialized_variables_1/boolean_mask/strided_slice/stack\"\n",
            "  input: \"report_uninitialized_variables_1/boolean_mask/strided_slice/stack_1\"\n",
            "  input: \"report_uninitialized_variables_1/boolean_mask/strided_slice/stack_2\"\n",
            "  device: \"/device:CPU:0\"\n",
            "  attr {\n",
            "    key: \"Index\"\n",
            "    value {\n",
            "      type: DT_INT32\n",
            "    }\n",
            "  }\n",
            "  attr {\n",
            "    key: \"T\"\n",
            "    value {\n",
            "      type: DT_INT32\n",
            "    }\n",
            "  }\n",
            "  attr {\n",
            "    key: \"_output_shapes\"\n",
            "    value {\n",
            "      list {\n",
            "        shape {\n",
            "          dim {\n",
            "            size: 1\n",
            "          }\n",
            "        }\n",
            "      }\n",
            "    }\n",
            "  }\n",
            "  attr {\n",
            "    key: \"begin_mask\"\n",
            "    value {\n",
            "      i: 0\n",
            "    }\n",
            "  }\n",
            "  attr {\n",
            "    key: \"ellipsis_mask\"\n",
            "    value {\n",
            "      i: 0\n",
            "    }\n",
            "  }\n",
            "  attr {\n",
            "    key: \"end_mask\"\n",
            "    value {\n",
            "      i: 0\n",
            "    }\n",
            "  }\n",
            "  attr {\n",
            "    key: \"new_axis_mask\"\n",
            "    value {\n",
            "      i: 0\n",
            "    }\n",
            "  }\n",
            "  attr {\n",
            "    key: \"shrink_axis_mask\"\n",
            "    value {\n",
            "      i: 0\n",
            "    }\n",
            "  }\n",
            "}\n",
            "node {\n",
            "  name: \"report_uninitialized_variables_1/boolean_mask/Prod/reduction_indices\"\n",
            "  op: \"Const\"\n",
            "  device: \"/device:CPU:0\"\n",
            "  attr {\n",
            "    key: \"_output_shapes\"\n",
            "    value {\n",
            "      list {\n",
            "        shape {\n",
            "          dim {\n",
            "            size: 1\n",
            "          }\n",
            "        }\n",
            "      }\n",
            "    }\n",
            "  }\n",
            "  attr {\n",
            "    key: \"dtype\"\n",
            "    value {\n",
            "      type: DT_INT32\n",
            "    }\n",
            "  }\n",
            "  attr {\n",
            "    key: \"value\"\n",
            "    value {\n",
            "      tensor {\n",
            "        dtype: DT_INT32\n",
            "        tensor_shape {\n",
            "          dim {\n",
            "            size: 1\n",
            "          }\n",
            "        }\n",
            "        int_val: 0\n",
            "      }\n",
            "    }\n",
            "  }\n",
            "}\n",
            "node {\n",
            "  name: \"report_uninitialized_variables_1/boolean_mask/Prod\"\n",
            "  op: \"Prod\"\n",
            "  input: \"report_uninitialized_variables_1/boolean_mask/strided_slice\"\n",
            "  input: \"report_uninitialized_variables_1/boolean_mask/Prod/reduction_indices\"\n",
            "  device: \"/device:CPU:0\"\n",
            "  attr {\n",
            "    key: \"T\"\n",
            "    value {\n",
            "      type: DT_INT32\n",
            "    }\n",
            "  }\n",
            "  attr {\n",
            "    key: \"Tidx\"\n",
            "    value {\n",
            "      type: DT_INT32\n",
            "    }\n",
            "  }\n",
            "  attr {\n",
            "    key: \"_output_shapes\"\n",
            "    value {\n",
            "      list {\n",
            "        shape {\n",
            "        }\n",
            "      }\n",
            "    }\n",
            "  }\n",
            "  attr {\n",
            "    key: \"keep_dims\"\n",
            "    value {\n",
            "      b: false\n",
            "    }\n",
            "  }\n",
            "}\n",
            "node {\n",
            "  name: \"report_uninitialized_variables_1/boolean_mask/Shape_1\"\n",
            "  op: \"Const\"\n",
            "  device: \"/device:CPU:0\"\n",
            "  attr {\n",
            "    key: \"_output_shapes\"\n",
            "    value {\n",
            "      list {\n",
            "        shape {\n",
            "          dim {\n",
            "            size: 1\n",
            "          }\n",
            "        }\n",
            "      }\n",
            "    }\n",
            "  }\n",
            "  attr {\n",
            "    key: \"dtype\"\n",
            "    value {\n",
            "      type: DT_INT32\n",
            "    }\n",
            "  }\n",
            "  attr {\n",
            "    key: \"value\"\n",
            "    value {\n",
            "      tensor {\n",
            "        dtype: DT_INT32\n",
            "        tensor_shape {\n",
            "          dim {\n",
            "            size: 1\n",
            "          }\n",
            "        }\n",
            "        int_val: 11\n",
            "      }\n",
            "    }\n",
            "  }\n",
            "}\n",
            "node {\n",
            "  name: \"report_uninitialized_variables_1/boolean_mask/strided_slice_1/stack\"\n",
            "  op: \"Const\"\n",
            "  device: \"/device:CPU:0\"\n",
            "  attr {\n",
            "    key: \"_output_shapes\"\n",
            "    value {\n",
            "      list {\n",
            "        shape {\n",
            "          dim {\n",
            "            size: 1\n",
            "          }\n",
            "        }\n",
            "      }\n",
            "    }\n",
            "  }\n",
            "  attr {\n",
            "    key: \"dtype\"\n",
            "    value {\n",
            "      type: DT_INT32\n",
            "    }\n",
            "  }\n",
            "  attr {\n",
            "    key: \"value\"\n",
            "    value {\n",
            "      tensor {\n",
            "        dtype: DT_INT32\n",
            "        tensor_shape {\n",
            "          dim {\n",
            "            size: 1\n",
            "          }\n",
            "        }\n",
            "        int_val: 0\n",
            "      }\n",
            "    }\n",
            "  }\n",
            "}\n",
            "node {\n",
            "  name: \"report_uninitialized_variables_1/boolean_mask/strided_slice_1/stack_1\"\n",
            "  op: \"Const\"\n",
            "  device: \"/device:CPU:0\"\n",
            "  attr {\n",
            "    key: \"_output_shapes\"\n",
            "    value {\n",
            "      list {\n",
            "        shape {\n",
            "          dim {\n",
            "            size: 1\n",
            "          }\n",
            "        }\n",
            "      }\n",
            "    }\n",
            "  }\n",
            "  attr {\n",
            "    key: \"dtype\"\n",
            "    value {\n",
            "      type: DT_INT32\n",
            "    }\n",
            "  }\n",
            "  attr {\n",
            "    key: \"value\"\n",
            "    value {\n",
            "      tensor {\n",
            "        dtype: DT_INT32\n",
            "        tensor_shape {\n",
            "          dim {\n",
            "            size: 1\n",
            "          }\n",
            "        }\n",
            "        int_val: 0\n",
            "      }\n",
            "    }\n",
            "  }\n",
            "}\n",
            "node {\n",
            "  name: \"report_uninitialized_variables_1/boolean_mask/strided_slice_1/stack_2\"\n",
            "  op: \"Const\"\n",
            "  device: \"/device:CPU:0\"\n",
            "  attr {\n",
            "    key: \"_output_shapes\"\n",
            "    value {\n",
            "      list {\n",
            "        shape {\n",
            "          dim {\n",
            "            size: 1\n",
            "          }\n",
            "        }\n",
            "      }\n",
            "    }\n",
            "  }\n",
            "  attr {\n",
            "    key: \"dtype\"\n",
            "    value {\n",
            "      type: DT_INT32\n",
            "    }\n",
            "  }\n",
            "  attr {\n",
            "    key: \"value\"\n",
            "    value {\n",
            "      tensor {\n",
            "        dtype: DT_INT32\n",
            "        tensor_shape {\n",
            "          dim {\n",
            "            size: 1\n",
            "          }\n",
            "        }\n",
            "        int_val: 1\n",
            "      }\n",
            "    }\n",
            "  }\n",
            "}\n",
            "node {\n",
            "  name: \"report_uninitialized_variables_1/boolean_mask/strided_slice_1\"\n",
            "  op: \"StridedSlice\"\n",
            "  input: \"report_uninitialized_variables_1/boolean_mask/Shape_1\"\n",
            "  input: \"report_uninitialized_variables_1/boolean_mask/strided_slice_1/stack\"\n",
            "  input: \"report_uninitialized_variables_1/boolean_mask/strided_slice_1/stack_1\"\n",
            "  input: \"report_uninitialized_variables_1/boolean_mask/strided_slice_1/stack_2\"\n",
            "  device: \"/device:CPU:0\"\n",
            "  attr {\n",
            "    key: \"Index\"\n",
            "    value {\n",
            "      type: DT_INT32\n",
            "    }\n",
            "  }\n",
            "  attr {\n",
            "    key: \"T\"\n",
            "    value {\n",
            "      type: DT_INT32\n",
            "    }\n",
            "  }\n",
            "  attr {\n",
            "    key: \"_output_shapes\"\n",
            "    value {\n",
            "      list {\n",
            "        shape {\n",
            "          dim {\n",
            "          }\n",
            "        }\n",
            "      }\n",
            "    }\n",
            "  }\n",
            "  attr {\n",
            "    key: \"begin_mask\"\n",
            "    value {\n",
            "      i: 1\n",
            "    }\n",
            "  }\n",
            "  attr {\n",
            "    key: \"ellipsis_mask\"\n",
            "    value {\n",
            "      i: 0\n",
            "    }\n",
            "  }\n",
            "  attr {\n",
            "    key: \"end_mask\"\n",
            "    value {\n",
            "      i: 0\n",
            "    }\n",
            "  }\n",
            "  attr {\n",
            "    key: \"new_axis_mask\"\n",
            "    value {\n",
            "      i: 0\n",
            "    }\n",
            "  }\n",
            "  attr {\n",
            "    key: \"shrink_axis_mask\"\n",
            "    value {\n",
            "      i: 0\n",
            "    }\n",
            "  }\n",
            "}\n",
            "node {\n",
            "  name: \"report_uninitialized_variables_1/boolean_mask/Shape_2\"\n",
            "  op: \"Const\"\n",
            "  device: \"/device:CPU:0\"\n",
            "  attr {\n",
            "    key: \"_output_shapes\"\n",
            "    value {\n",
            "      list {\n",
            "        shape {\n",
            "          dim {\n",
            "            size: 1\n",
            "          }\n",
            "        }\n",
            "      }\n",
            "    }\n",
            "  }\n",
            "  attr {\n",
            "    key: \"dtype\"\n",
            "    value {\n",
            "      type: DT_INT32\n",
            "    }\n",
            "  }\n",
            "  attr {\n",
            "    key: \"value\"\n",
            "    value {\n",
            "      tensor {\n",
            "        dtype: DT_INT32\n",
            "        tensor_shape {\n",
            "          dim {\n",
            "            size: 1\n",
            "          }\n",
            "        }\n",
            "        int_val: 11\n",
            "      }\n",
            "    }\n",
            "  }\n",
            "}\n",
            "node {\n",
            "  name: \"report_uninitialized_variables_1/boolean_mask/strided_slice_2/stack\"\n",
            "  op: \"Const\"\n",
            "  device: \"/device:CPU:0\"\n",
            "  attr {\n",
            "    key: \"_output_shapes\"\n",
            "    value {\n",
            "      list {\n",
            "        shape {\n",
            "          dim {\n",
            "            size: 1\n",
            "          }\n",
            "        }\n",
            "      }\n",
            "    }\n",
            "  }\n",
            "  attr {\n",
            "    key: \"dtype\"\n",
            "    value {\n",
            "      type: DT_INT32\n",
            "    }\n",
            "  }\n",
            "  attr {\n",
            "    key: \"value\"\n",
            "    value {\n",
            "      tensor {\n",
            "        dtype: DT_INT32\n",
            "        tensor_shape {\n",
            "          dim {\n",
            "            size: 1\n",
            "          }\n",
            "        }\n",
            "        int_val: 1\n",
            "      }\n",
            "    }\n",
            "  }\n",
            "}\n",
            "node {\n",
            "  name: \"report_uninitialized_variables_1/boolean_mask/strided_slice_2/stack_1\"\n",
            "  op: \"Const\"\n",
            "  device: \"/device:CPU:0\"\n",
            "  attr {\n",
            "    key: \"_output_shapes\"\n",
            "    value {\n",
            "      list {\n",
            "        shape {\n",
            "          dim {\n",
            "            size: 1\n",
            "          }\n",
            "        }\n",
            "      }\n",
            "    }\n",
            "  }\n",
            "  attr {\n",
            "    key: \"dtype\"\n",
            "    value {\n",
            "      type: DT_INT32\n",
            "    }\n",
            "  }\n",
            "  attr {\n",
            "    key: \"value\"\n",
            "    value {\n",
            "      tensor {\n",
            "        dtype: DT_INT32\n",
            "        tensor_shape {\n",
            "          dim {\n",
            "            size: 1\n",
            "          }\n",
            "        }\n",
            "        int_val: 0\n",
            "      }\n",
            "    }\n",
            "  }\n",
            "}\n",
            "node {\n",
            "  name: \"report_uninitialized_variables_1/boolean_mask/strided_slice_2/stack_2\"\n",
            "  op: \"Const\"\n",
            "  device: \"/device:CPU:0\"\n",
            "  attr {\n",
            "    key: \"_output_shapes\"\n",
            "    value {\n",
            "      list {\n",
            "        shape {\n",
            "          dim {\n",
            "            size: 1\n",
            "          }\n",
            "        }\n",
            "      }\n",
            "    }\n",
            "  }\n",
            "  attr {\n",
            "    key: \"dtype\"\n",
            "    value {\n",
            "      type: DT_INT32\n",
            "    }\n",
            "  }\n",
            "  attr {\n",
            "    key: \"value\"\n",
            "    value {\n",
            "      tensor {\n",
            "        dtype: DT_INT32\n",
            "        tensor_shape {\n",
            "          dim {\n",
            "            size: 1\n",
            "          }\n",
            "        }\n",
            "        int_val: 1\n",
            "      }\n",
            "    }\n",
            "  }\n",
            "}\n",
            "node {\n",
            "  name: \"report_uninitialized_variables_1/boolean_mask/strided_slice_2\"\n",
            "  op: \"StridedSlice\"\n",
            "  input: \"report_uninitialized_variables_1/boolean_mask/Shape_2\"\n",
            "  input: \"report_uninitialized_variables_1/boolean_mask/strided_slice_2/stack\"\n",
            "  input: \"report_uninitialized_variables_1/boolean_mask/strided_slice_2/stack_1\"\n",
            "  input: \"report_uninitialized_variables_1/boolean_mask/strided_slice_2/stack_2\"\n",
            "  device: \"/device:CPU:0\"\n",
            "  attr {\n",
            "    key: \"Index\"\n",
            "    value {\n",
            "      type: DT_INT32\n",
            "    }\n",
            "  }\n",
            "  attr {\n",
            "    key: \"T\"\n",
            "    value {\n",
            "      type: DT_INT32\n",
            "    }\n",
            "  }\n",
            "  attr {\n",
            "    key: \"_output_shapes\"\n",
            "    value {\n",
            "      list {\n",
            "        shape {\n",
            "          dim {\n",
            "          }\n",
            "        }\n",
            "      }\n",
            "    }\n",
            "  }\n",
            "  attr {\n",
            "    key: \"begin_mask\"\n",
            "    value {\n",
            "      i: 0\n",
            "    }\n",
            "  }\n",
            "  attr {\n",
            "    key: \"ellipsis_mask\"\n",
            "    value {\n",
            "      i: 0\n",
            "    }\n",
            "  }\n",
            "  attr {\n",
            "    key: \"end_mask\"\n",
            "    value {\n",
            "      i: 1\n",
            "    }\n",
            "  }\n",
            "  attr {\n",
            "    key: \"new_axis_mask\"\n",
            "    value {\n",
            "      i: 0\n",
            "    }\n",
            "  }\n",
            "  attr {\n",
            "    key: \"shrink_axis_mask\"\n",
            "    value {\n",
            "      i: 0\n",
            "    }\n",
            "  }\n",
            "}\n",
            "node {\n",
            "  name: \"report_uninitialized_variables_1/boolean_mask/concat/values_1\"\n",
            "  op: \"Pack\"\n",
            "  input: \"report_uninitialized_variables_1/boolean_mask/Prod\"\n",
            "  device: \"/device:CPU:0\"\n",
            "  attr {\n",
            "    key: \"N\"\n",
            "    value {\n",
            "      i: 1\n",
            "    }\n",
            "  }\n",
            "  attr {\n",
            "    key: \"T\"\n",
            "    value {\n",
            "      type: DT_INT32\n",
            "    }\n",
            "  }\n",
            "  attr {\n",
            "    key: \"_output_shapes\"\n",
            "    value {\n",
            "      list {\n",
            "        shape {\n",
            "          dim {\n",
            "            size: 1\n",
            "          }\n",
            "        }\n",
            "      }\n",
            "    }\n",
            "  }\n",
            "  attr {\n",
            "    key: \"axis\"\n",
            "    value {\n",
            "      i: 0\n",
            "    }\n",
            "  }\n",
            "}\n",
            "node {\n",
            "  name: \"report_uninitialized_variables_1/boolean_mask/concat/axis\"\n",
            "  op: \"Const\"\n",
            "  device: \"/device:CPU:0\"\n",
            "  attr {\n",
            "    key: \"_output_shapes\"\n",
            "    value {\n",
            "      list {\n",
            "        shape {\n",
            "        }\n",
            "      }\n",
            "    }\n",
            "  }\n",
            "  attr {\n",
            "    key: \"dtype\"\n",
            "    value {\n",
            "      type: DT_INT32\n",
            "    }\n",
            "  }\n",
            "  attr {\n",
            "    key: \"value\"\n",
            "    value {\n",
            "      tensor {\n",
            "        dtype: DT_INT32\n",
            "        tensor_shape {\n",
            "        }\n",
            "        int_val: 0\n",
            "      }\n",
            "    }\n",
            "  }\n",
            "}\n",
            "node {\n",
            "  name: \"report_uninitialized_variables_1/boolean_mask/concat\"\n",
            "  op: \"ConcatV2\"\n",
            "  input: \"report_uninitialized_variables_1/boolean_mask/strided_slice_1\"\n",
            "  input: \"report_uninitialized_variables_1/boolean_mask/concat/values_1\"\n",
            "  input: \"report_uninitialized_variables_1/boolean_mask/strided_slice_2\"\n",
            "  input: \"report_uninitialized_variables_1/boolean_mask/concat/axis\"\n",
            "  device: \"/device:CPU:0\"\n",
            "  attr {\n",
            "    key: \"N\"\n",
            "    value {\n",
            "      i: 3\n",
            "    }\n",
            "  }\n",
            "  attr {\n",
            "    key: \"T\"\n",
            "    value {\n",
            "      type: DT_INT32\n",
            "    }\n",
            "  }\n",
            "  attr {\n",
            "    key: \"Tidx\"\n",
            "    value {\n",
            "      type: DT_INT32\n",
            "    }\n",
            "  }\n",
            "  attr {\n",
            "    key: \"_output_shapes\"\n",
            "    value {\n",
            "      list {\n",
            "        shape {\n",
            "          dim {\n",
            "            size: 1\n",
            "          }\n",
            "        }\n",
            "      }\n",
            "    }\n",
            "  }\n",
            "}\n",
            "node {\n",
            "  name: \"report_uninitialized_variables_1/boolean_mask/Reshape\"\n",
            "  op: \"Reshape\"\n",
            "  input: \"report_uninitialized_variables_1/Const\"\n",
            "  input: \"report_uninitialized_variables_1/boolean_mask/concat\"\n",
            "  device: \"/device:CPU:0\"\n",
            "  attr {\n",
            "    key: \"T\"\n",
            "    value {\n",
            "      type: DT_STRING\n",
            "    }\n",
            "  }\n",
            "  attr {\n",
            "    key: \"Tshape\"\n",
            "    value {\n",
            "      type: DT_INT32\n",
            "    }\n",
            "  }\n",
            "  attr {\n",
            "    key: \"_output_shapes\"\n",
            "    value {\n",
            "      list {\n",
            "        shape {\n",
            "          dim {\n",
            "            size: 11\n",
            "          }\n",
            "        }\n",
            "      }\n",
            "    }\n",
            "  }\n",
            "}\n",
            "node {\n",
            "  name: \"report_uninitialized_variables_1/boolean_mask/Reshape_1/shape\"\n",
            "  op: \"Const\"\n",
            "  device: \"/device:CPU:0\"\n",
            "  attr {\n",
            "    key: \"_output_shapes\"\n",
            "    value {\n",
            "      list {\n",
            "        shape {\n",
            "          dim {\n",
            "            size: 1\n",
            "          }\n",
            "        }\n",
            "      }\n",
            "    }\n",
            "  }\n",
            "  attr {\n",
            "    key: \"dtype\"\n",
            "    value {\n",
            "      type: DT_INT32\n",
            "    }\n",
            "  }\n",
            "  attr {\n",
            "    key: \"value\"\n",
            "    value {\n",
            "      tensor {\n",
            "        dtype: DT_INT32\n",
            "        tensor_shape {\n",
            "          dim {\n",
            "            size: 1\n",
            "          }\n",
            "        }\n",
            "        int_val: -1\n",
            "      }\n",
            "    }\n",
            "  }\n",
            "}\n",
            "node {\n",
            "  name: \"report_uninitialized_variables_1/boolean_mask/Reshape_1\"\n",
            "  op: \"Reshape\"\n",
            "  input: \"report_uninitialized_variables_1/LogicalNot\"\n",
            "  input: \"report_uninitialized_variables_1/boolean_mask/Reshape_1/shape\"\n",
            "  device: \"/device:CPU:0\"\n",
            "  attr {\n",
            "    key: \"T\"\n",
            "    value {\n",
            "      type: DT_BOOL\n",
            "    }\n",
            "  }\n",
            "  attr {\n",
            "    key: \"Tshape\"\n",
            "    value {\n",
            "      type: DT_INT32\n",
            "    }\n",
            "  }\n",
            "  attr {\n",
            "    key: \"_output_shapes\"\n",
            "    value {\n",
            "      list {\n",
            "        shape {\n",
            "          dim {\n",
            "            size: 11\n",
            "          }\n",
            "        }\n",
            "      }\n",
            "    }\n",
            "  }\n",
            "}\n",
            "node {\n",
            "  name: \"report_uninitialized_variables_1/boolean_mask/Where\"\n",
            "  op: \"Where\"\n",
            "  input: \"report_uninitialized_variables_1/boolean_mask/Reshape_1\"\n",
            "  device: \"/device:CPU:0\"\n",
            "  attr {\n",
            "    key: \"T\"\n",
            "    value {\n",
            "      type: DT_BOOL\n",
            "    }\n",
            "  }\n",
            "  attr {\n",
            "    key: \"_output_shapes\"\n",
            "    value {\n",
            "      list {\n",
            "        shape {\n",
            "          dim {\n",
            "            size: -1\n",
            "          }\n",
            "          dim {\n",
            "            size: 1\n",
            "          }\n",
            "        }\n",
            "      }\n",
            "    }\n",
            "  }\n",
            "}\n",
            "node {\n",
            "  name: \"report_uninitialized_variables_1/boolean_mask/Squeeze\"\n",
            "  op: \"Squeeze\"\n",
            "  input: \"report_uninitialized_variables_1/boolean_mask/Where\"\n",
            "  device: \"/device:CPU:0\"\n",
            "  attr {\n",
            "    key: \"T\"\n",
            "    value {\n",
            "      type: DT_INT64\n",
            "    }\n",
            "  }\n",
            "  attr {\n",
            "    key: \"_output_shapes\"\n",
            "    value {\n",
            "      list {\n",
            "        shape {\n",
            "          dim {\n",
            "            size: -1\n",
            "          }\n",
            "        }\n",
            "      }\n",
            "    }\n",
            "  }\n",
            "  attr {\n",
            "    key: \"squeeze_dims\"\n",
            "    value {\n",
            "      list {\n",
            "        i: 1\n",
            "      }\n",
            "    }\n",
            "  }\n",
            "}\n",
            "node {\n",
            "  name: \"report_uninitialized_variables_1/boolean_mask/GatherV2/axis\"\n",
            "  op: \"Const\"\n",
            "  device: \"/device:CPU:0\"\n",
            "  attr {\n",
            "    key: \"_output_shapes\"\n",
            "    value {\n",
            "      list {\n",
            "        shape {\n",
            "        }\n",
            "      }\n",
            "    }\n",
            "  }\n",
            "  attr {\n",
            "    key: \"dtype\"\n",
            "    value {\n",
            "      type: DT_INT32\n",
            "    }\n",
            "  }\n",
            "  attr {\n",
            "    key: \"value\"\n",
            "    value {\n",
            "      tensor {\n",
            "        dtype: DT_INT32\n",
            "        tensor_shape {\n",
            "        }\n",
            "        int_val: 0\n",
            "      }\n",
            "    }\n",
            "  }\n",
            "}\n",
            "node {\n",
            "  name: \"report_uninitialized_variables_1/boolean_mask/GatherV2\"\n",
            "  op: \"GatherV2\"\n",
            "  input: \"report_uninitialized_variables_1/boolean_mask/Reshape\"\n",
            "  input: \"report_uninitialized_variables_1/boolean_mask/Squeeze\"\n",
            "  input: \"report_uninitialized_variables_1/boolean_mask/GatherV2/axis\"\n",
            "  device: \"/device:CPU:0\"\n",
            "  attr {\n",
            "    key: \"Taxis\"\n",
            "    value {\n",
            "      type: DT_INT32\n",
            "    }\n",
            "  }\n",
            "  attr {\n",
            "    key: \"Tindices\"\n",
            "    value {\n",
            "      type: DT_INT64\n",
            "    }\n",
            "  }\n",
            "  attr {\n",
            "    key: \"Tparams\"\n",
            "    value {\n",
            "      type: DT_STRING\n",
            "    }\n",
            "  }\n",
            "  attr {\n",
            "    key: \"_output_shapes\"\n",
            "    value {\n",
            "      list {\n",
            "        shape {\n",
            "          dim {\n",
            "            size: -1\n",
            "          }\n",
            "        }\n",
            "      }\n",
            "    }\n",
            "  }\n",
            "  attr {\n",
            "    key: \"batch_dims\"\n",
            "    value {\n",
            "      i: 0\n",
            "    }\n",
            "  }\n",
            "}\n",
            "node {\n",
            "  name: \"report_uninitialized_resources_1/Const\"\n",
            "  op: \"Const\"\n",
            "  device: \"/device:CPU:0\"\n",
            "  attr {\n",
            "    key: \"_output_shapes\"\n",
            "    value {\n",
            "      list {\n",
            "        shape {\n",
            "          dim {\n",
            "          }\n",
            "        }\n",
            "      }\n",
            "    }\n",
            "  }\n",
            "  attr {\n",
            "    key: \"dtype\"\n",
            "    value {\n",
            "      type: DT_STRING\n",
            "    }\n",
            "  }\n",
            "  attr {\n",
            "    key: \"value\"\n",
            "    value {\n",
            "      tensor {\n",
            "        dtype: DT_STRING\n",
            "        tensor_shape {\n",
            "          dim {\n",
            "          }\n",
            "        }\n",
            "      }\n",
            "    }\n",
            "  }\n",
            "}\n",
            "node {\n",
            "  name: \"concat_1/axis\"\n",
            "  op: \"Const\"\n",
            "  attr {\n",
            "    key: \"_output_shapes\"\n",
            "    value {\n",
            "      list {\n",
            "        shape {\n",
            "        }\n",
            "      }\n",
            "    }\n",
            "  }\n",
            "  attr {\n",
            "    key: \"dtype\"\n",
            "    value {\n",
            "      type: DT_INT32\n",
            "    }\n",
            "  }\n",
            "  attr {\n",
            "    key: \"value\"\n",
            "    value {\n",
            "      tensor {\n",
            "        dtype: DT_INT32\n",
            "        tensor_shape {\n",
            "        }\n",
            "        int_val: 0\n",
            "      }\n",
            "    }\n",
            "  }\n",
            "}\n",
            "node {\n",
            "  name: \"concat_1\"\n",
            "  op: \"ConcatV2\"\n",
            "  input: \"report_uninitialized_variables_1/boolean_mask/GatherV2\"\n",
            "  input: \"report_uninitialized_resources_1/Const\"\n",
            "  input: \"concat_1/axis\"\n",
            "  attr {\n",
            "    key: \"N\"\n",
            "    value {\n",
            "      i: 2\n",
            "    }\n",
            "  }\n",
            "  attr {\n",
            "    key: \"T\"\n",
            "    value {\n",
            "      type: DT_STRING\n",
            "    }\n",
            "  }\n",
            "  attr {\n",
            "    key: \"Tidx\"\n",
            "    value {\n",
            "      type: DT_INT32\n",
            "    }\n",
            "  }\n",
            "  attr {\n",
            "    key: \"_output_shapes\"\n",
            "    value {\n",
            "      list {\n",
            "        shape {\n",
            "          dim {\n",
            "            size: -1\n",
            "          }\n",
            "        }\n",
            "      }\n",
            "    }\n",
            "  }\n",
            "}\n",
            "node {\n",
            "  name: \"init_2\"\n",
            "  op: \"NoOp\"\n",
            "  input: \"^accuracy/count/Assign\"\n",
            "  input: \"^accuracy/total/Assign\"\n",
            "  input: \"^auc/false_negatives/Assign\"\n",
            "  input: \"^auc/false_positives/Assign\"\n",
            "  input: \"^auc/true_negatives/Assign\"\n",
            "  input: \"^auc/true_positives/Assign\"\n",
            "  input: \"^auc_1/false_negatives/Assign\"\n",
            "  input: \"^auc_1/false_positives/Assign\"\n",
            "  input: \"^auc_1/true_negatives/Assign\"\n",
            "  input: \"^auc_1/true_positives/Assign\"\n",
            "}\n",
            "node {\n",
            "  name: \"init_all_tables\"\n",
            "  op: \"NoOp\"\n",
            "}\n",
            "node {\n",
            "  name: \"init_3\"\n",
            "  op: \"NoOp\"\n",
            "}\n",
            "node {\n",
            "  name: \"group_deps_1\"\n",
            "  op: \"NoOp\"\n",
            "  input: \"^init_2\"\n",
            "  input: \"^init_3\"\n",
            "  input: \"^init_all_tables\"\n",
            "}\n",
            "node {\n",
            "  name: \"Merge/MergeSummary\"\n",
            "  op: \"MergeSummary\"\n",
            "  input: \"loss\"\n",
            "  attr {\n",
            "    key: \"N\"\n",
            "    value {\n",
            "      i: 1\n",
            "    }\n",
            "  }\n",
            "  attr {\n",
            "    key: \"_output_shapes\"\n",
            "    value {\n",
            "      list {\n",
            "        shape {\n",
            "        }\n",
            "      }\n",
            "    }\n",
            "  }\n",
            "}\n",
            "node {\n",
            "  name: \"save/filename/input\"\n",
            "  op: \"Const\"\n",
            "  attr {\n",
            "    key: \"_output_shapes\"\n",
            "    value {\n",
            "      list {\n",
            "        shape {\n",
            "        }\n",
            "      }\n",
            "    }\n",
            "  }\n",
            "  attr {\n",
            "    key: \"dtype\"\n",
            "    value {\n",
            "      type: DT_STRING\n",
            "    }\n",
            "  }\n",
            "  attr {\n",
            "    key: \"value\"\n",
            "    value {\n",
            "      tensor {\n",
            "        dtype: DT_STRING\n",
            "        tensor_shape {\n",
            "        }\n",
            "        string_val: \"model\"\n",
            "      }\n",
            "    }\n",
            "  }\n",
            "}\n",
            "node {\n",
            "  name: \"save/filename\"\n",
            "  op: \"PlaceholderWithDefault\"\n",
            "  input: \"save/filename/input\"\n",
            "  attr {\n",
            "    key: \"_output_shapes\"\n",
            "    value {\n",
            "      list {\n",
            "        shape {\n",
            "        }\n",
            "      }\n",
            "    }\n",
            "  }\n",
            "  attr {\n",
            "    key: \"dtype\"\n",
            "    value {\n",
            "      type: DT_STRING\n",
            "    }\n",
            "  }\n",
            "  attr {\n",
            "    key: \"shape\"\n",
            "    value {\n",
            "      shape {\n",
            "      }\n",
            "    }\n",
            "  }\n",
            "}\n",
            "node {\n",
            "  name: \"save/Const\"\n",
            "  op: \"PlaceholderWithDefault\"\n",
            "  input: \"save/filename\"\n",
            "  attr {\n",
            "    key: \"_output_shapes\"\n",
            "    value {\n",
            "      list {\n",
            "        shape {\n",
            "        }\n",
            "      }\n",
            "    }\n",
            "  }\n",
            "  attr {\n",
            "    key: \"dtype\"\n",
            "    value {\n",
            "      type: DT_STRING\n",
            "    }\n",
            "  }\n",
            "  attr {\n",
            "    key: \"shape\"\n",
            "    value {\n",
            "      shape {\n",
            "      }\n",
            "    }\n",
            "  }\n",
            "}\n",
            "node {\n",
            "  name: \"save/StaticRegexFullMatch\"\n",
            "  op: \"StaticRegexFullMatch\"\n",
            "  input: \"save/Const\"\n",
            "  device: \"/device:CPU:*\"\n",
            "  attr {\n",
            "    key: \"_output_shapes\"\n",
            "    value {\n",
            "      list {\n",
            "        shape {\n",
            "        }\n",
            "      }\n",
            "    }\n",
            "  }\n",
            "  attr {\n",
            "    key: \"pattern\"\n",
            "    value {\n",
            "      s: \"^s3://.*\"\n",
            "    }\n",
            "  }\n",
            "}\n",
            "node {\n",
            "  name: \"save/Const_1\"\n",
            "  op: \"Const\"\n",
            "  device: \"/device:CPU:*\"\n",
            "  attr {\n",
            "    key: \"_output_shapes\"\n",
            "    value {\n",
            "      list {\n",
            "        shape {\n",
            "        }\n",
            "      }\n",
            "    }\n",
            "  }\n",
            "  attr {\n",
            "    key: \"dtype\"\n",
            "    value {\n",
            "      type: DT_STRING\n",
            "    }\n",
            "  }\n",
            "  attr {\n",
            "    key: \"value\"\n",
            "    value {\n",
            "      tensor {\n",
            "        dtype: DT_STRING\n",
            "        tensor_shape {\n",
            "        }\n",
            "        string_val: \".part\"\n",
            "      }\n",
            "    }\n",
            "  }\n",
            "}\n",
            "node {\n",
            "  name: \"save/Const_2\"\n",
            "  op: \"Const\"\n",
            "  device: \"/device:CPU:*\"\n",
            "  attr {\n",
            "    key: \"_output_shapes\"\n",
            "    value {\n",
            "      list {\n",
            "        shape {\n",
            "        }\n",
            "      }\n",
            "    }\n",
            "  }\n",
            "  attr {\n",
            "    key: \"dtype\"\n",
            "    value {\n",
            "      type: DT_STRING\n",
            "    }\n",
            "  }\n",
            "  attr {\n",
            "    key: \"value\"\n",
            "    value {\n",
            "      tensor {\n",
            "        dtype: DT_STRING\n",
            "        tensor_shape {\n",
            "        }\n",
            "        string_val: \"_temp_a24b7e44fc2242c8aa25062f9ad5f971/part\"\n",
            "      }\n",
            "    }\n",
            "  }\n",
            "}\n",
            "node {\n",
            "  name: \"save/Select\"\n",
            "  op: \"Select\"\n",
            "  input: \"save/StaticRegexFullMatch\"\n",
            "  input: \"save/Const_1\"\n",
            "  input: \"save/Const_2\"\n",
            "  device: \"/device:CPU:*\"\n",
            "  attr {\n",
            "    key: \"T\"\n",
            "    value {\n",
            "      type: DT_STRING\n",
            "    }\n",
            "  }\n",
            "  attr {\n",
            "    key: \"_output_shapes\"\n",
            "    value {\n",
            "      list {\n",
            "        shape {\n",
            "        }\n",
            "      }\n",
            "    }\n",
            "  }\n",
            "}\n",
            "node {\n",
            "  name: \"save/StringJoin\"\n",
            "  op: \"StringJoin\"\n",
            "  input: \"save/Const\"\n",
            "  input: \"save/Select\"\n",
            "  device: \"/device:CPU:*\"\n",
            "  attr {\n",
            "    key: \"N\"\n",
            "    value {\n",
            "      i: 2\n",
            "    }\n",
            "  }\n",
            "  attr {\n",
            "    key: \"_output_shapes\"\n",
            "    value {\n",
            "      list {\n",
            "        shape {\n",
            "        }\n",
            "      }\n",
            "    }\n",
            "  }\n",
            "  attr {\n",
            "    key: \"separator\"\n",
            "    value {\n",
            "      s: \"\"\n",
            "    }\n",
            "  }\n",
            "}\n",
            "node {\n",
            "  name: \"save/num_shards\"\n",
            "  op: \"Const\"\n",
            "  attr {\n",
            "    key: \"_output_shapes\"\n",
            "    value {\n",
            "      list {\n",
            "        shape {\n",
            "        }\n",
            "      }\n",
            "    }\n",
            "  }\n",
            "  attr {\n",
            "    key: \"dtype\"\n",
            "    value {\n",
            "      type: DT_INT32\n",
            "    }\n",
            "  }\n",
            "  attr {\n",
            "    key: \"value\"\n",
            "    value {\n",
            "      tensor {\n",
            "        dtype: DT_INT32\n",
            "        tensor_shape {\n",
            "        }\n",
            "        int_val: 1\n",
            "      }\n",
            "    }\n",
            "  }\n",
            "}\n",
            "node {\n",
            "  name: \"save/ShardedFilename/shard\"\n",
            "  op: \"Const\"\n",
            "  device: \"/device:CPU:0\"\n",
            "  attr {\n",
            "    key: \"_output_shapes\"\n",
            "    value {\n",
            "      list {\n",
            "        shape {\n",
            "        }\n",
            "      }\n",
            "    }\n",
            "  }\n",
            "  attr {\n",
            "    key: \"dtype\"\n",
            "    value {\n",
            "      type: DT_INT32\n",
            "    }\n",
            "  }\n",
            "  attr {\n",
            "    key: \"value\"\n",
            "    value {\n",
            "      tensor {\n",
            "        dtype: DT_INT32\n",
            "        tensor_shape {\n",
            "        }\n",
            "        int_val: 0\n",
            "      }\n",
            "    }\n",
            "  }\n",
            "}\n",
            "node {\n",
            "  name: \"save/ShardedFilename\"\n",
            "  op: \"ShardedFilename\"\n",
            "  input: \"save/StringJoin\"\n",
            "  input: \"save/ShardedFilename/shard\"\n",
            "  input: \"save/num_shards\"\n",
            "  device: \"/device:CPU:0\"\n",
            "  attr {\n",
            "    key: \"_output_shapes\"\n",
            "    value {\n",
            "      list {\n",
            "        shape {\n",
            "        }\n",
            "      }\n",
            "    }\n",
            "  }\n",
            "}\n",
            "node {\n",
            "  name: \"save/SaveV2/tensor_names\"\n",
            "  op: \"Const\"\n",
            "  device: \"/device:CPU:0\"\n",
            "  attr {\n",
            "    key: \"_output_shapes\"\n",
            "    value {\n",
            "      list {\n",
            "        shape {\n",
            "          dim {\n",
            "            size: 11\n",
            "          }\n",
            "        }\n",
            "      }\n",
            "    }\n",
            "  }\n",
            "  attr {\n",
            "    key: \"dtype\"\n",
            "    value {\n",
            "      type: DT_STRING\n",
            "    }\n",
            "  }\n",
            "  attr {\n",
            "    key: \"value\"\n",
            "    value {\n",
            "      tensor {\n",
            "        dtype: DT_STRING\n",
            "        tensor_shape {\n",
            "          dim {\n",
            "            size: 11\n",
            "          }\n",
            "        }\n",
            "        string_val: \"Phoenix/search_generator_0/1_FIXED_OUTPUT_FULLY_CONNECTED_512_24/dense/bias\"\n",
            "        string_val: \"Phoenix/search_generator_0/1_FIXED_OUTPUT_FULLY_CONNECTED_512_24/dense/kernel\"\n",
            "        string_val: \"Phoenix/search_generator_0/last_dense_24/dense/bias\"\n",
            "        string_val: \"Phoenix/search_generator_0/last_dense_24/dense/kernel\"\n",
            "        string_val: \"architectures/search_generator_0\"\n",
            "        string_val: \"global_step\"\n",
            "        string_val: \"number_of_towers/prior_generator\"\n",
            "        string_val: \"number_of_towers/replay_generator\"\n",
            "        string_val: \"number_of_towers/search_generator\"\n",
            "        string_val: \"params/search_generator_0/dropout_rate\"\n",
            "        string_val: \"params/search_generator_0/is_frozen\"\n",
            "      }\n",
            "    }\n",
            "  }\n",
            "}\n",
            "node {\n",
            "  name: \"save/SaveV2/shape_and_slices\"\n",
            "  op: \"Const\"\n",
            "  device: \"/device:CPU:0\"\n",
            "  attr {\n",
            "    key: \"_output_shapes\"\n",
            "    value {\n",
            "      list {\n",
            "        shape {\n",
            "          dim {\n",
            "            size: 11\n",
            "          }\n",
            "        }\n",
            "      }\n",
            "    }\n",
            "  }\n",
            "  attr {\n",
            "    key: \"dtype\"\n",
            "    value {\n",
            "      type: DT_STRING\n",
            "    }\n",
            "  }\n",
            "  attr {\n",
            "    key: \"value\"\n",
            "    value {\n",
            "      tensor {\n",
            "        dtype: DT_STRING\n",
            "        tensor_shape {\n",
            "          dim {\n",
            "            size: 11\n",
            "          }\n",
            "        }\n",
            "        string_val: \"\"\n",
            "        string_val: \"\"\n",
            "        string_val: \"\"\n",
            "        string_val: \"\"\n",
            "        string_val: \"\"\n",
            "        string_val: \"\"\n",
            "        string_val: \"\"\n",
            "        string_val: \"\"\n",
            "        string_val: \"\"\n",
            "        string_val: \"\"\n",
            "        string_val: \"\"\n",
            "      }\n",
            "    }\n",
            "  }\n",
            "}\n",
            "node {\n",
            "  name: \"save/SaveV2\"\n",
            "  op: \"SaveV2\"\n",
            "  input: \"save/ShardedFilename\"\n",
            "  input: \"save/SaveV2/tensor_names\"\n",
            "  input: \"save/SaveV2/shape_and_slices\"\n",
            "  input: \"Phoenix/search_generator_0/1_FIXED_OUTPUT_FULLY_CONNECTED_512_24/dense/bias/Read/ReadVariableOp\"\n",
            "  input: \"Phoenix/search_generator_0/1_FIXED_OUTPUT_FULLY_CONNECTED_512_24/dense/kernel/Read/ReadVariableOp\"\n",
            "  input: \"Phoenix/search_generator_0/last_dense_24/dense/bias/Read/ReadVariableOp\"\n",
            "  input: \"Phoenix/search_generator_0/last_dense_24/dense/kernel/Read/ReadVariableOp\"\n",
            "  input: \"architectures/search_generator_0/Read/ReadVariableOp\"\n",
            "  input: \"global_step/Read/ReadVariableOp\"\n",
            "  input: \"number_of_towers/prior_generator/Read/ReadVariableOp\"\n",
            "  input: \"number_of_towers/replay_generator/Read/ReadVariableOp\"\n",
            "  input: \"number_of_towers/search_generator/Read/ReadVariableOp\"\n",
            "  input: \"params/search_generator_0/dropout_rate/Read/ReadVariableOp\"\n",
            "  input: \"params/search_generator_0/is_frozen/Read/ReadVariableOp\"\n",
            "  device: \"/device:CPU:0\"\n",
            "  attr {\n",
            "    key: \"dtypes\"\n",
            "    value {\n",
            "      list {\n",
            "        type: DT_FLOAT\n",
            "        type: DT_FLOAT\n",
            "        type: DT_FLOAT\n",
            "        type: DT_FLOAT\n",
            "        type: DT_INT32\n",
            "        type: DT_INT64\n",
            "        type: DT_INT32\n",
            "        type: DT_INT32\n",
            "        type: DT_INT32\n",
            "        type: DT_FLOAT\n",
            "        type: DT_INT32\n",
            "      }\n",
            "    }\n",
            "  }\n",
            "}\n",
            "node {\n",
            "  name: \"save/control_dependency\"\n",
            "  op: \"Identity\"\n",
            "  input: \"save/ShardedFilename\"\n",
            "  input: \"^save/SaveV2\"\n",
            "  device: \"/device:CPU:0\"\n",
            "  attr {\n",
            "    key: \"T\"\n",
            "    value {\n",
            "      type: DT_STRING\n",
            "    }\n",
            "  }\n",
            "  attr {\n",
            "    key: \"_class\"\n",
            "    value {\n",
            "      list {\n",
            "        s: \"loc:@save/ShardedFilename\"\n",
            "      }\n",
            "    }\n",
            "  }\n",
            "  attr {\n",
            "    key: \"_output_shapes\"\n",
            "    value {\n",
            "      list {\n",
            "        shape {\n",
            "        }\n",
            "      }\n",
            "    }\n",
            "  }\n",
            "}\n",
            "node {\n",
            "  name: \"save/MergeV2Checkpoints/checkpoint_prefixes\"\n",
            "  op: \"Pack\"\n",
            "  input: \"save/ShardedFilename\"\n",
            "  input: \"^save/control_dependency\"\n",
            "  device: \"/device:CPU:0\"\n",
            "  attr {\n",
            "    key: \"N\"\n",
            "    value {\n",
            "      i: 1\n",
            "    }\n",
            "  }\n",
            "  attr {\n",
            "    key: \"T\"\n",
            "    value {\n",
            "      type: DT_STRING\n",
            "    }\n",
            "  }\n",
            "  attr {\n",
            "    key: \"_output_shapes\"\n",
            "    value {\n",
            "      list {\n",
            "        shape {\n",
            "          dim {\n",
            "            size: 1\n",
            "          }\n",
            "        }\n",
            "      }\n",
            "    }\n",
            "  }\n",
            "  attr {\n",
            "    key: \"axis\"\n",
            "    value {\n",
            "      i: 0\n",
            "    }\n",
            "  }\n",
            "}\n",
            "node {\n",
            "  name: \"save/MergeV2Checkpoints\"\n",
            "  op: \"MergeV2Checkpoints\"\n",
            "  input: \"save/MergeV2Checkpoints/checkpoint_prefixes\"\n",
            "  input: \"save/Const\"\n",
            "  device: \"/device:CPU:0\"\n",
            "  attr {\n",
            "    key: \"delete_old_dirs\"\n",
            "    value {\n",
            "      b: true\n",
            "    }\n",
            "  }\n",
            "}\n",
            "node {\n",
            "  name: \"save/Identity\"\n",
            "  op: \"Identity\"\n",
            "  input: \"save/Const\"\n",
            "  input: \"^save/MergeV2Checkpoints\"\n",
            "  input: \"^save/control_dependency\"\n",
            "  device: \"/device:CPU:0\"\n",
            "  attr {\n",
            "    key: \"T\"\n",
            "    value {\n",
            "      type: DT_STRING\n",
            "    }\n",
            "  }\n",
            "  attr {\n",
            "    key: \"_output_shapes\"\n",
            "    value {\n",
            "      list {\n",
            "        shape {\n",
            "        }\n",
            "      }\n",
            "    }\n",
            "  }\n",
            "}\n",
            "node {\n",
            "  name: \"save/RestoreV2/tensor_names\"\n",
            "  op: \"Const\"\n",
            "  device: \"/device:CPU:0\"\n",
            "  attr {\n",
            "    key: \"_output_shapes\"\n",
            "    value {\n",
            "      list {\n",
            "        shape {\n",
            "          dim {\n",
            "            size: 11\n",
            "          }\n",
            "        }\n",
            "      }\n",
            "    }\n",
            "  }\n",
            "  attr {\n",
            "    key: \"dtype\"\n",
            "    value {\n",
            "      type: DT_STRING\n",
            "    }\n",
            "  }\n",
            "  attr {\n",
            "    key: \"value\"\n",
            "    value {\n",
            "      tensor {\n",
            "        dtype: DT_STRING\n",
            "        tensor_shape {\n",
            "          dim {\n",
            "            size: 11\n",
            "          }\n",
            "        }\n",
            "        string_val: \"Phoenix/search_generator_0/1_FIXED_OUTPUT_FULLY_CONNECTED_512_24/dense/bias\"\n",
            "        string_val: \"Phoenix/search_generator_0/1_FIXED_OUTPUT_FULLY_CONNECTED_512_24/dense/kernel\"\n",
            "        string_val: \"Phoenix/search_generator_0/last_dense_24/dense/bias\"\n",
            "        string_val: \"Phoenix/search_generator_0/last_dense_24/dense/kernel\"\n",
            "        string_val: \"architectures/search_generator_0\"\n",
            "        string_val: \"global_step\"\n",
            "        string_val: \"number_of_towers/prior_generator\"\n",
            "        string_val: \"number_of_towers/replay_generator\"\n",
            "        string_val: \"number_of_towers/search_generator\"\n",
            "        string_val: \"params/search_generator_0/dropout_rate\"\n",
            "        string_val: \"params/search_generator_0/is_frozen\"\n",
            "      }\n",
            "    }\n",
            "  }\n",
            "}\n",
            "node {\n",
            "  name: \"save/RestoreV2/shape_and_slices\"\n",
            "  op: \"Const\"\n",
            "  device: \"/device:CPU:0\"\n",
            "  attr {\n",
            "    key: \"_output_shapes\"\n",
            "    value {\n",
            "      list {\n",
            "        shape {\n",
            "          dim {\n",
            "            size: 11\n",
            "          }\n",
            "        }\n",
            "      }\n",
            "    }\n",
            "  }\n",
            "  attr {\n",
            "    key: \"dtype\"\n",
            "    value {\n",
            "      type: DT_STRING\n",
            "    }\n",
            "  }\n",
            "  attr {\n",
            "    key: \"value\"\n",
            "    value {\n",
            "      tensor {\n",
            "        dtype: DT_STRING\n",
            "        tensor_shape {\n",
            "          dim {\n",
            "            size: 11\n",
            "          }\n",
            "        }\n",
            "        string_val: \"\"\n",
            "        string_val: \"\"\n",
            "        string_val: \"\"\n",
            "        string_val: \"\"\n",
            "        string_val: \"\"\n",
            "        string_val: \"\"\n",
            "        string_val: \"\"\n",
            "        string_val: \"\"\n",
            "        string_val: \"\"\n",
            "        string_val: \"\"\n",
            "        string_val: \"\"\n",
            "      }\n",
            "    }\n",
            "  }\n",
            "}\n",
            "node {\n",
            "  name: \"save/RestoreV2\"\n",
            "  op: \"RestoreV2\"\n",
            "  input: \"save/Const\"\n",
            "  input: \"save/RestoreV2/tensor_names\"\n",
            "  input: \"save/RestoreV2/shape_and_slices\"\n",
            "  device: \"/device:CPU:0\"\n",
            "  attr {\n",
            "    key: \"_output_shapes\"\n",
            "    value {\n",
            "      list {\n",
            "        shape {\n",
            "          unknown_rank: true\n",
            "        }\n",
            "        shape {\n",
            "          unknown_rank: true\n",
            "        }\n",
            "        shape {\n",
            "          unknown_rank: true\n",
            "        }\n",
            "        shape {\n",
            "          unknown_rank: true\n",
            "        }\n",
            "        shape {\n",
            "          unknown_rank: true\n",
            "        }\n",
            "        shape {\n",
            "          unknown_rank: true\n",
            "        }\n",
            "        shape {\n",
            "          unknown_rank: true\n",
            "        }\n",
            "        shape {\n",
            "          unknown_rank: true\n",
            "        }\n",
            "        shape {\n",
            "          unknown_rank: true\n",
            "        }\n",
            "        shape {\n",
            "          unknown_rank: true\n",
            "        }\n",
            "        shape {\n",
            "          unknown_rank: true\n",
            "        }\n",
            "      }\n",
            "    }\n",
            "  }\n",
            "  attr {\n",
            "    key: \"dtypes\"\n",
            "    value {\n",
            "      list {\n",
            "        type: DT_FLOAT\n",
            "        type: DT_FLOAT\n",
            "        type: DT_FLOAT\n",
            "        type: DT_FLOAT\n",
            "        type: DT_INT32\n",
            "        type: DT_INT64\n",
            "        type: DT_INT32\n",
            "        type: DT_INT32\n",
            "        type: DT_INT32\n",
            "        type: DT_FLOAT\n",
            "        type: DT_INT32\n",
            "      }\n",
            "    }\n",
            "  }\n",
            "}\n",
            "node {\n",
            "  name: \"save/Identity_1\"\n",
            "  op: \"Identity\"\n",
            "  input: \"save/RestoreV2\"\n",
            "  attr {\n",
            "    key: \"T\"\n",
            "    value {\n",
            "      type: DT_FLOAT\n",
            "    }\n",
            "  }\n",
            "  attr {\n",
            "    key: \"_output_shapes\"\n",
            "    value {\n",
            "      list {\n",
            "        shape {\n",
            "          unknown_rank: true\n",
            "        }\n",
            "      }\n",
            "    }\n",
            "  }\n",
            "}\n",
            "node {\n",
            "  name: \"save/AssignVariableOp\"\n",
            "  op: \"AssignVariableOp\"\n",
            "  input: \"Phoenix/search_generator_0/1_FIXED_OUTPUT_FULLY_CONNECTED_512_24/dense/bias\"\n",
            "  input: \"save/Identity_1\"\n",
            "  attr {\n",
            "    key: \"dtype\"\n",
            "    value {\n",
            "      type: DT_FLOAT\n",
            "    }\n",
            "  }\n",
            "}\n",
            "node {\n",
            "  name: \"save/Identity_2\"\n",
            "  op: \"Identity\"\n",
            "  input: \"save/RestoreV2:1\"\n",
            "  attr {\n",
            "    key: \"T\"\n",
            "    value {\n",
            "      type: DT_FLOAT\n",
            "    }\n",
            "  }\n",
            "  attr {\n",
            "    key: \"_output_shapes\"\n",
            "    value {\n",
            "      list {\n",
            "        shape {\n",
            "          unknown_rank: true\n",
            "        }\n",
            "      }\n",
            "    }\n",
            "  }\n",
            "}\n",
            "node {\n",
            "  name: \"save/AssignVariableOp_1\"\n",
            "  op: \"AssignVariableOp\"\n",
            "  input: \"Phoenix/search_generator_0/1_FIXED_OUTPUT_FULLY_CONNECTED_512_24/dense/kernel\"\n",
            "  input: \"save/Identity_2\"\n",
            "  attr {\n",
            "    key: \"dtype\"\n",
            "    value {\n",
            "      type: DT_FLOAT\n",
            "    }\n",
            "  }\n",
            "}\n",
            "node {\n",
            "  name: \"save/Identity_3\"\n",
            "  op: \"Identity\"\n",
            "  input: \"save/RestoreV2:2\"\n",
            "  attr {\n",
            "    key: \"T\"\n",
            "    value {\n",
            "      type: DT_FLOAT\n",
            "    }\n",
            "  }\n",
            "  attr {\n",
            "    key: \"_output_shapes\"\n",
            "    value {\n",
            "      list {\n",
            "        shape {\n",
            "          unknown_rank: true\n",
            "        }\n",
            "      }\n",
            "    }\n",
            "  }\n",
            "}\n",
            "node {\n",
            "  name: \"save/AssignVariableOp_2\"\n",
            "  op: \"AssignVariableOp\"\n",
            "  input: \"Phoenix/search_generator_0/last_dense_24/dense/bias\"\n",
            "  input: \"save/Identity_3\"\n",
            "  attr {\n",
            "    key: \"dtype\"\n",
            "    value {\n",
            "      type: DT_FLOAT\n",
            "    }\n",
            "  }\n",
            "}\n",
            "node {\n",
            "  name: \"save/Identity_4\"\n",
            "  op: \"Identity\"\n",
            "  input: \"save/RestoreV2:3\"\n",
            "  attr {\n",
            "    key: \"T\"\n",
            "    value {\n",
            "      type: DT_FLOAT\n",
            "    }\n",
            "  }\n",
            "  attr {\n",
            "    key: \"_output_shapes\"\n",
            "    value {\n",
            "      list {\n",
            "        shape {\n",
            "          unknown_rank: true\n",
            "        }\n",
            "      }\n",
            "    }\n",
            "  }\n",
            "}\n",
            "node {\n",
            "  name: \"save/AssignVariableOp_3\"\n",
            "  op: \"AssignVariableOp\"\n",
            "  input: \"Phoenix/search_generator_0/last_dense_24/dense/kernel\"\n",
            "  input: \"save/Identity_4\"\n",
            "  attr {\n",
            "    key: \"dtype\"\n",
            "    value {\n",
            "      type: DT_FLOAT\n",
            "    }\n",
            "  }\n",
            "}\n",
            "node {\n",
            "  name: \"save/Identity_5\"\n",
            "  op: \"Identity\"\n",
            "  input: \"save/RestoreV2:4\"\n",
            "  attr {\n",
            "    key: \"T\"\n",
            "    value {\n",
            "      type: DT_INT32\n",
            "    }\n",
            "  }\n",
            "  attr {\n",
            "    key: \"_output_shapes\"\n",
            "    value {\n",
            "      list {\n",
            "        shape {\n",
            "          unknown_rank: true\n",
            "        }\n",
            "      }\n",
            "    }\n",
            "  }\n",
            "}\n",
            "node {\n",
            "  name: \"save/AssignVariableOp_4\"\n",
            "  op: \"AssignVariableOp\"\n",
            "  input: \"architectures/search_generator_0\"\n",
            "  input: \"save/Identity_5\"\n",
            "  attr {\n",
            "    key: \"dtype\"\n",
            "    value {\n",
            "      type: DT_INT32\n",
            "    }\n",
            "  }\n",
            "}\n",
            "node {\n",
            "  name: \"save/Identity_6\"\n",
            "  op: \"Identity\"\n",
            "  input: \"save/RestoreV2:5\"\n",
            "  attr {\n",
            "    key: \"T\"\n",
            "    value {\n",
            "      type: DT_INT64\n",
            "    }\n",
            "  }\n",
            "  attr {\n",
            "    key: \"_output_shapes\"\n",
            "    value {\n",
            "      list {\n",
            "        shape {\n",
            "          unknown_rank: true\n",
            "        }\n",
            "      }\n",
            "    }\n",
            "  }\n",
            "}\n",
            "node {\n",
            "  name: \"save/AssignVariableOp_5\"\n",
            "  op: \"AssignVariableOp\"\n",
            "  input: \"global_step\"\n",
            "  input: \"save/Identity_6\"\n",
            "  attr {\n",
            "    key: \"dtype\"\n",
            "    value {\n",
            "      type: DT_INT64\n",
            "    }\n",
            "  }\n",
            "}\n",
            "node {\n",
            "  name: \"save/Identity_7\"\n",
            "  op: \"Identity\"\n",
            "  input: \"save/RestoreV2:6\"\n",
            "  attr {\n",
            "    key: \"T\"\n",
            "    value {\n",
            "      type: DT_INT32\n",
            "    }\n",
            "  }\n",
            "  attr {\n",
            "    key: \"_output_shapes\"\n",
            "    value {\n",
            "      list {\n",
            "        shape {\n",
            "          unknown_rank: true\n",
            "        }\n",
            "      }\n",
            "    }\n",
            "  }\n",
            "}\n",
            "node {\n",
            "  name: \"save/AssignVariableOp_6\"\n",
            "  op: \"AssignVariableOp\"\n",
            "  input: \"number_of_towers/prior_generator\"\n",
            "  input: \"save/Identity_7\"\n",
            "  attr {\n",
            "    key: \"dtype\"\n",
            "    value {\n",
            "      type: DT_INT32\n",
            "    }\n",
            "  }\n",
            "}\n",
            "node {\n",
            "  name: \"save/Identity_8\"\n",
            "  op: \"Identity\"\n",
            "  input: \"save/RestoreV2:7\"\n",
            "  attr {\n",
            "    key: \"T\"\n",
            "    value {\n",
            "      type: DT_INT32\n",
            "    }\n",
            "  }\n",
            "  attr {\n",
            "    key: \"_output_shapes\"\n",
            "    value {\n",
            "      list {\n",
            "        shape {\n",
            "          unknown_rank: true\n",
            "        }\n",
            "      }\n",
            "    }\n",
            "  }\n",
            "}\n",
            "node {\n",
            "  name: \"save/AssignVariableOp_7\"\n",
            "  op: \"AssignVariableOp\"\n",
            "  input: \"number_of_towers/replay_generator\"\n",
            "  input: \"save/Identity_8\"\n",
            "  attr {\n",
            "    key: \"dtype\"\n",
            "    value {\n",
            "      type: DT_INT32\n",
            "    }\n",
            "  }\n",
            "}\n",
            "node {\n",
            "  name: \"save/Identity_9\"\n",
            "  op: \"Identity\"\n",
            "  input: \"save/RestoreV2:8\"\n",
            "  attr {\n",
            "    key: \"T\"\n",
            "    value {\n",
            "      type: DT_INT32\n",
            "    }\n",
            "  }\n",
            "  attr {\n",
            "    key: \"_output_shapes\"\n",
            "    value {\n",
            "      list {\n",
            "        shape {\n",
            "          unknown_rank: true\n",
            "        }\n",
            "      }\n",
            "    }\n",
            "  }\n",
            "}\n",
            "node {\n",
            "  name: \"save/AssignVariableOp_8\"\n",
            "  op: \"AssignVariableOp\"\n",
            "  input: \"number_of_towers/search_generator\"\n",
            "  input: \"save/Identity_9\"\n",
            "  attr {\n",
            "    key: \"dtype\"\n",
            "    value {\n",
            "      type: DT_INT32\n",
            "    }\n",
            "  }\n",
            "}\n",
            "node {\n",
            "  name: \"save/Identity_10\"\n",
            "  op: \"Identity\"\n",
            "  input: \"save/RestoreV2:9\"\n",
            "  attr {\n",
            "    key: \"T\"\n",
            "    value {\n",
            "      type: DT_FLOAT\n",
            "    }\n",
            "  }\n",
            "  attr {\n",
            "    key: \"_output_shapes\"\n",
            "    value {\n",
            "      list {\n",
            "        shape {\n",
            "          unknown_rank: true\n",
            "        }\n",
            "      }\n",
            "    }\n",
            "  }\n",
            "}\n",
            "node {\n",
            "  name: \"save/AssignVariableOp_9\"\n",
            "  op: \"AssignVariableOp\"\n",
            "  input: \"params/search_generator_0/dropout_rate\"\n",
            "  input: \"save/Identity_10\"\n",
            "  attr {\n",
            "    key: \"dtype\"\n",
            "    value {\n",
            "      type: DT_FLOAT\n",
            "    }\n",
            "  }\n",
            "}\n",
            "node {\n",
            "  name: \"save/Identity_11\"\n",
            "  op: \"Identity\"\n",
            "  input: \"save/RestoreV2:10\"\n",
            "  attr {\n",
            "    key: \"T\"\n",
            "    value {\n",
            "      type: DT_INT32\n",
            "    }\n",
            "  }\n",
            "  attr {\n",
            "    key: \"_output_shapes\"\n",
            "    value {\n",
            "      list {\n",
            "        shape {\n",
            "          unknown_rank: true\n",
            "        }\n",
            "      }\n",
            "    }\n",
            "  }\n",
            "}\n",
            "node {\n",
            "  name: \"save/AssignVariableOp_10\"\n",
            "  op: \"AssignVariableOp\"\n",
            "  input: \"params/search_generator_0/is_frozen\"\n",
            "  input: \"save/Identity_11\"\n",
            "  attr {\n",
            "    key: \"dtype\"\n",
            "    value {\n",
            "      type: DT_INT32\n",
            "    }\n",
            "  }\n",
            "}\n",
            "node {\n",
            "  name: \"save/restore_shard\"\n",
            "  op: \"NoOp\"\n",
            "  input: \"^save/AssignVariableOp\"\n",
            "  input: \"^save/AssignVariableOp_1\"\n",
            "  input: \"^save/AssignVariableOp_10\"\n",
            "  input: \"^save/AssignVariableOp_2\"\n",
            "  input: \"^save/AssignVariableOp_3\"\n",
            "  input: \"^save/AssignVariableOp_4\"\n",
            "  input: \"^save/AssignVariableOp_5\"\n",
            "  input: \"^save/AssignVariableOp_6\"\n",
            "  input: \"^save/AssignVariableOp_7\"\n",
            "  input: \"^save/AssignVariableOp_8\"\n",
            "  input: \"^save/AssignVariableOp_9\"\n",
            "}\n",
            "node {\n",
            "  name: \"save/restore_all\"\n",
            "  op: \"NoOp\"\n",
            "  input: \"^save/restore_shard\"\n",
            "}\n",
            "library {\n",
            "  function {\n",
            "    signature {\n",
            "      name: \"__inference_Dataset_map__map_fn_29536\"\n",
            "      input_arg {\n",
            "        name: \"args_0\"\n",
            "        type: DT_INT32\n",
            "      }\n",
            "      input_arg {\n",
            "        name: \"args_1\"\n",
            "        type: DT_INT32\n",
            "      }\n",
            "      input_arg {\n",
            "        name: \"args_2\"\n",
            "        type: DT_INT32\n",
            "      }\n",
            "      input_arg {\n",
            "        name: \"args_3\"\n",
            "        type: DT_INT32\n",
            "      }\n",
            "      input_arg {\n",
            "        name: \"args_4\"\n",
            "        type: DT_INT32\n",
            "      }\n",
            "      input_arg {\n",
            "        name: \"args_5\"\n",
            "        type: DT_INT32\n",
            "      }\n",
            "      output_arg {\n",
            "        name: \"identity\"\n",
            "        type: DT_INT32\n",
            "      }\n",
            "      output_arg {\n",
            "        name: \"identity_1\"\n",
            "        type: DT_INT32\n",
            "      }\n",
            "      output_arg {\n",
            "        name: \"identity_2\"\n",
            "        type: DT_INT32\n",
            "      }\n",
            "      output_arg {\n",
            "        name: \"identity_3\"\n",
            "        type: DT_INT32\n",
            "      }\n",
            "      output_arg {\n",
            "        name: \"identity_4\"\n",
            "        type: DT_INT32\n",
            "      }\n",
            "      output_arg {\n",
            "        name: \"identity_5\"\n",
            "        type: DT_INT32\n",
            "      }\n",
            "    }\n",
            "    node_def {\n",
            "      name: \"Identity\"\n",
            "      op: \"Identity\"\n",
            "      input: \"args_1\"\n",
            "      attr {\n",
            "        key: \"T\"\n",
            "        value {\n",
            "          type: DT_INT32\n",
            "        }\n",
            "      }\n",
            "      attr {\n",
            "        key: \"_output_shapes\"\n",
            "        value {\n",
            "          list {\n",
            "            shape {\n",
            "            }\n",
            "          }\n",
            "        }\n",
            "      }\n",
            "      experimental_debug_info {\n",
            "        original_node_names: \"Identity\"\n",
            "      }\n",
            "    }\n",
            "    node_def {\n",
            "      name: \"Identity_1\"\n",
            "      op: \"Identity\"\n",
            "      input: \"args_2\"\n",
            "      attr {\n",
            "        key: \"T\"\n",
            "        value {\n",
            "          type: DT_INT32\n",
            "        }\n",
            "      }\n",
            "      attr {\n",
            "        key: \"_output_shapes\"\n",
            "        value {\n",
            "          list {\n",
            "            shape {\n",
            "            }\n",
            "          }\n",
            "        }\n",
            "      }\n",
            "      experimental_debug_info {\n",
            "        original_node_names: \"Identity_1\"\n",
            "      }\n",
            "    }\n",
            "    node_def {\n",
            "      name: \"Identity_2\"\n",
            "      op: \"Identity\"\n",
            "      input: \"args_3\"\n",
            "      attr {\n",
            "        key: \"T\"\n",
            "        value {\n",
            "          type: DT_INT32\n",
            "        }\n",
            "      }\n",
            "      attr {\n",
            "        key: \"_output_shapes\"\n",
            "        value {\n",
            "          list {\n",
            "            shape {\n",
            "            }\n",
            "          }\n",
            "        }\n",
            "      }\n",
            "      experimental_debug_info {\n",
            "        original_node_names: \"Identity_2\"\n",
            "      }\n",
            "    }\n",
            "    node_def {\n",
            "      name: \"Identity_3\"\n",
            "      op: \"Identity\"\n",
            "      input: \"args_4\"\n",
            "      attr {\n",
            "        key: \"T\"\n",
            "        value {\n",
            "          type: DT_INT32\n",
            "        }\n",
            "      }\n",
            "      attr {\n",
            "        key: \"_output_shapes\"\n",
            "        value {\n",
            "          list {\n",
            "            shape {\n",
            "            }\n",
            "          }\n",
            "        }\n",
            "      }\n",
            "      experimental_debug_info {\n",
            "        original_node_names: \"Identity_3\"\n",
            "      }\n",
            "    }\n",
            "    node_def {\n",
            "      name: \"Identity_4\"\n",
            "      op: \"Identity\"\n",
            "      input: \"args_5\"\n",
            "      attr {\n",
            "        key: \"T\"\n",
            "        value {\n",
            "          type: DT_INT32\n",
            "        }\n",
            "      }\n",
            "      attr {\n",
            "        key: \"_output_shapes\"\n",
            "        value {\n",
            "          list {\n",
            "            shape {\n",
            "            }\n",
            "          }\n",
            "        }\n",
            "      }\n",
            "      experimental_debug_info {\n",
            "        original_node_names: \"Identity_4\"\n",
            "      }\n",
            "    }\n",
            "    node_def {\n",
            "      name: \"Identity_5\"\n",
            "      op: \"Identity\"\n",
            "      input: \"args_0\"\n",
            "      attr {\n",
            "        key: \"T\"\n",
            "        value {\n",
            "          type: DT_INT32\n",
            "        }\n",
            "      }\n",
            "      attr {\n",
            "        key: \"_output_shapes\"\n",
            "        value {\n",
            "          list {\n",
            "            shape {\n",
            "            }\n",
            "          }\n",
            "        }\n",
            "      }\n",
            "      experimental_debug_info {\n",
            "        original_node_names: \"Identity_5\"\n",
            "      }\n",
            "    }\n",
            "    ret {\n",
            "      key: \"identity\"\n",
            "      value: \"Identity:output:0\"\n",
            "    }\n",
            "    ret {\n",
            "      key: \"identity_1\"\n",
            "      value: \"Identity_1:output:0\"\n",
            "    }\n",
            "    ret {\n",
            "      key: \"identity_2\"\n",
            "      value: \"Identity_2:output:0\"\n",
            "    }\n",
            "    ret {\n",
            "      key: \"identity_3\"\n",
            "      value: \"Identity_3:output:0\"\n",
            "    }\n",
            "    ret {\n",
            "      key: \"identity_4\"\n",
            "      value: \"Identity_4:output:0\"\n",
            "    }\n",
            "    ret {\n",
            "      key: \"identity_5\"\n",
            "      value: \"Identity_5:output:0\"\n",
            "    }\n",
            "    attr {\n",
            "      key: \"_input_shapes\"\n",
            "      value {\n",
            "        list {\n",
            "          shape {\n",
            "          }\n",
            "          shape {\n",
            "          }\n",
            "          shape {\n",
            "          }\n",
            "          shape {\n",
            "          }\n",
            "          shape {\n",
            "          }\n",
            "          shape {\n",
            "          }\n",
            "        }\n",
            "      }\n",
            "    }\n",
            "    arg_attr {\n",
            "      value {\n",
            "        attr {\n",
            "          key: \"_output_shapes\"\n",
            "          value {\n",
            "            list {\n",
            "              shape {\n",
            "              }\n",
            "            }\n",
            "          }\n",
            "        }\n",
            "        attr {\n",
            "          key: \"_user_specified_name\"\n",
            "          value {\n",
            "            s: \"args_0\"\n",
            "          }\n",
            "        }\n",
            "      }\n",
            "    }\n",
            "    arg_attr {\n",
            "      key: 1\n",
            "      value {\n",
            "        attr {\n",
            "          key: \"_output_shapes\"\n",
            "          value {\n",
            "            list {\n",
            "              shape {\n",
            "              }\n",
            "            }\n",
            "          }\n",
            "        }\n",
            "        attr {\n",
            "          key: \"_user_specified_name\"\n",
            "          value {\n",
            "            s: \"args_1\"\n",
            "          }\n",
            "        }\n",
            "      }\n",
            "    }\n",
            "    arg_attr {\n",
            "      key: 2\n",
            "      value {\n",
            "        attr {\n",
            "          key: \"_output_shapes\"\n",
            "          value {\n",
            "            list {\n",
            "              shape {\n",
            "              }\n",
            "            }\n",
            "          }\n",
            "        }\n",
            "        attr {\n",
            "          key: \"_user_specified_name\"\n",
            "          value {\n",
            "            s: \"args_2\"\n",
            "          }\n",
            "        }\n",
            "      }\n",
            "    }\n",
            "    arg_attr {\n",
            "      key: 3\n",
            "      value {\n",
            "        attr {\n",
            "          key: \"_output_shapes\"\n",
            "          value {\n",
            "            list {\n",
            "              shape {\n",
            "              }\n",
            "            }\n",
            "          }\n",
            "        }\n",
            "        attr {\n",
            "          key: \"_user_specified_name\"\n",
            "          value {\n",
            "            s: \"args_3\"\n",
            "          }\n",
            "        }\n",
            "      }\n",
            "    }\n",
            "    arg_attr {\n",
            "      key: 4\n",
            "      value {\n",
            "        attr {\n",
            "          key: \"_output_shapes\"\n",
            "          value {\n",
            "            list {\n",
            "              shape {\n",
            "              }\n",
            "            }\n",
            "          }\n",
            "        }\n",
            "        attr {\n",
            "          key: \"_user_specified_name\"\n",
            "          value {\n",
            "            s: \"args_4\"\n",
            "          }\n",
            "        }\n",
            "      }\n",
            "    }\n",
            "    arg_attr {\n",
            "      key: 5\n",
            "      value {\n",
            "        attr {\n",
            "          key: \"_output_shapes\"\n",
            "          value {\n",
            "            list {\n",
            "              shape {\n",
            "              }\n",
            "            }\n",
            "          }\n",
            "        }\n",
            "        attr {\n",
            "          key: \"_user_specified_name\"\n",
            "          value {\n",
            "            s: \"args_5\"\n",
            "          }\n",
            "        }\n",
            "      }\n",
            "    }\n",
            "  }\n",
            "  function {\n",
            "    signature {\n",
            "      name: \"auc_1_assert_greater_equal_Assert_AssertGuard_true_30137\"\n",
            "      input_arg {\n",
            "        name: \"identity_auc_1_assert_greater_equal_all\"\n",
            "        type: DT_BOOL\n",
            "      }\n",
            "      input_arg {\n",
            "        name: \"placeholder\"\n",
            "        type: DT_FLOAT\n",
            "      }\n",
            "      input_arg {\n",
            "        name: \"placeholder_1\"\n",
            "        type: DT_FLOAT\n",
            "      }\n",
            "      output_arg {\n",
            "        name: \"identity\"\n",
            "        type: DT_BOOL\n",
            "      }\n",
            "    }\n",
            "    node_def {\n",
            "      name: \"NoOp\"\n",
            "      op: \"NoOp\"\n",
            "      attr {\n",
            "        key: \"_output_shapes\"\n",
            "        value {\n",
            "          list {\n",
            "          }\n",
            "        }\n",
            "      }\n",
            "      experimental_debug_info {\n",
            "        original_node_names: \"NoOp\"\n",
            "      }\n",
            "    }\n",
            "    node_def {\n",
            "      name: \"Identity\"\n",
            "      op: \"Identity\"\n",
            "      input: \"identity_auc_1_assert_greater_equal_all\"\n",
            "      input: \"^NoOp\"\n",
            "      attr {\n",
            "        key: \"T\"\n",
            "        value {\n",
            "          type: DT_BOOL\n",
            "        }\n",
            "      }\n",
            "      attr {\n",
            "        key: \"_output_shapes\"\n",
            "        value {\n",
            "          list {\n",
            "            shape {\n",
            "            }\n",
            "          }\n",
            "        }\n",
            "      }\n",
            "      experimental_debug_info {\n",
            "        original_node_names: \"Identity\"\n",
            "      }\n",
            "    }\n",
            "    ret {\n",
            "      key: \"identity\"\n",
            "      value: \"Identity:output:0\"\n",
            "    }\n",
            "    attr {\n",
            "      key: \"_input_shapes\"\n",
            "      value {\n",
            "        list {\n",
            "          shape {\n",
            "          }\n",
            "          shape {\n",
            "            dim {\n",
            "              size: -1\n",
            "            }\n",
            "          }\n",
            "          shape {\n",
            "          }\n",
            "        }\n",
            "      }\n",
            "    }\n",
            "    arg_attr {\n",
            "      value {\n",
            "        attr {\n",
            "          key: \"_output_shapes\"\n",
            "          value {\n",
            "            list {\n",
            "              shape {\n",
            "              }\n",
            "            }\n",
            "          }\n",
            "        }\n",
            "      }\n",
            "    }\n",
            "    arg_attr {\n",
            "      key: 1\n",
            "      value {\n",
            "        attr {\n",
            "          key: \"_output_shapes\"\n",
            "          value {\n",
            "            list {\n",
            "              shape {\n",
            "                dim {\n",
            "                  size: -1\n",
            "                }\n",
            "              }\n",
            "            }\n",
            "          }\n",
            "        }\n",
            "      }\n",
            "    }\n",
            "    arg_attr {\n",
            "      key: 2\n",
            "      value {\n",
            "        attr {\n",
            "          key: \"_output_shapes\"\n",
            "          value {\n",
            "            list {\n",
            "              shape {\n",
            "              }\n",
            "            }\n",
            "          }\n",
            "        }\n",
            "      }\n",
            "    }\n",
            "  }\n",
            "  function {\n",
            "    signature {\n",
            "      name: \"auc_1_assert_greater_equal_Assert_AssertGuard_false_30138\"\n",
            "      input_arg {\n",
            "        name: \"assert_auc_1_assert_greater_equal_all\"\n",
            "        type: DT_BOOL\n",
            "      }\n",
            "      input_arg {\n",
            "        name: \"assert_unstack_1\"\n",
            "        type: DT_FLOAT\n",
            "      }\n",
            "      input_arg {\n",
            "        name: \"assert_auc_1_cast_x\"\n",
            "        type: DT_FLOAT\n",
            "      }\n",
            "      output_arg {\n",
            "        name: \"identity\"\n",
            "        type: DT_BOOL\n",
            "      }\n",
            "      is_stateful: true\n",
            "    }\n",
            "    node_def {\n",
            "      name: \"Assert/data_0\"\n",
            "      op: \"Const\"\n",
            "      attr {\n",
            "        key: \"_output_shapes\"\n",
            "        value {\n",
            "          list {\n",
            "            shape {\n",
            "            }\n",
            "          }\n",
            "        }\n",
            "      }\n",
            "      attr {\n",
            "        key: \"dtype\"\n",
            "        value {\n",
            "          type: DT_STRING\n",
            "        }\n",
            "      }\n",
            "      attr {\n",
            "        key: \"value\"\n",
            "        value {\n",
            "          tensor {\n",
            "            dtype: DT_STRING\n",
            "            tensor_shape {\n",
            "            }\n",
            "            string_val: \"predictions must be in [0, 1]\"\n",
            "          }\n",
            "        }\n",
            "      }\n",
            "      experimental_debug_info {\n",
            "        original_node_names: \"Assert/data_0\"\n",
            "      }\n",
            "    }\n",
            "    node_def {\n",
            "      name: \"Assert/data_1\"\n",
            "      op: \"Const\"\n",
            "      attr {\n",
            "        key: \"_output_shapes\"\n",
            "        value {\n",
            "          list {\n",
            "            shape {\n",
            "            }\n",
            "          }\n",
            "        }\n",
            "      }\n",
            "      attr {\n",
            "        key: \"dtype\"\n",
            "        value {\n",
            "          type: DT_STRING\n",
            "        }\n",
            "      }\n",
            "      attr {\n",
            "        key: \"value\"\n",
            "        value {\n",
            "          tensor {\n",
            "            dtype: DT_STRING\n",
            "            tensor_shape {\n",
            "            }\n",
            "            string_val: \"Condition x >= y did not hold element-wise:\"\n",
            "          }\n",
            "        }\n",
            "      }\n",
            "      experimental_debug_info {\n",
            "        original_node_names: \"Assert/data_1\"\n",
            "      }\n",
            "    }\n",
            "    node_def {\n",
            "      name: \"Assert/data_2\"\n",
            "      op: \"Const\"\n",
            "      attr {\n",
            "        key: \"_output_shapes\"\n",
            "        value {\n",
            "          list {\n",
            "            shape {\n",
            "            }\n",
            "          }\n",
            "        }\n",
            "      }\n",
            "      attr {\n",
            "        key: \"dtype\"\n",
            "        value {\n",
            "          type: DT_STRING\n",
            "        }\n",
            "      }\n",
            "      attr {\n",
            "        key: \"value\"\n",
            "        value {\n",
            "          tensor {\n",
            "            dtype: DT_STRING\n",
            "            tensor_shape {\n",
            "            }\n",
            "            string_val: \"x (unstack_1:1) = \"\n",
            "          }\n",
            "        }\n",
            "      }\n",
            "      experimental_debug_info {\n",
            "        original_node_names: \"Assert/data_2\"\n",
            "      }\n",
            "    }\n",
            "    node_def {\n",
            "      name: \"Assert/data_4\"\n",
            "      op: \"Const\"\n",
            "      attr {\n",
            "        key: \"_output_shapes\"\n",
            "        value {\n",
            "          list {\n",
            "            shape {\n",
            "            }\n",
            "          }\n",
            "        }\n",
            "      }\n",
            "      attr {\n",
            "        key: \"dtype\"\n",
            "        value {\n",
            "          type: DT_STRING\n",
            "        }\n",
            "      }\n",
            "      attr {\n",
            "        key: \"value\"\n",
            "        value {\n",
            "          tensor {\n",
            "            dtype: DT_STRING\n",
            "            tensor_shape {\n",
            "            }\n",
            "            string_val: \"y (auc_1/Cast/x:0) = \"\n",
            "          }\n",
            "        }\n",
            "      }\n",
            "      experimental_debug_info {\n",
            "        original_node_names: \"Assert/data_4\"\n",
            "      }\n",
            "    }\n",
            "    node_def {\n",
            "      name: \"Assert\"\n",
            "      op: \"Assert\"\n",
            "      input: \"assert_auc_1_assert_greater_equal_all\"\n",
            "      input: \"Assert/data_0:output:0\"\n",
            "      input: \"Assert/data_1:output:0\"\n",
            "      input: \"Assert/data_2:output:0\"\n",
            "      input: \"assert_unstack_1\"\n",
            "      input: \"Assert/data_4:output:0\"\n",
            "      input: \"assert_auc_1_cast_x\"\n",
            "      attr {\n",
            "        key: \"T\"\n",
            "        value {\n",
            "          list {\n",
            "            type: DT_STRING\n",
            "            type: DT_STRING\n",
            "            type: DT_STRING\n",
            "            type: DT_FLOAT\n",
            "            type: DT_STRING\n",
            "            type: DT_FLOAT\n",
            "          }\n",
            "        }\n",
            "      }\n",
            "      attr {\n",
            "        key: \"_output_shapes\"\n",
            "        value {\n",
            "          list {\n",
            "          }\n",
            "        }\n",
            "      }\n",
            "      attr {\n",
            "        key: \"summarize\"\n",
            "        value {\n",
            "          i: 3\n",
            "        }\n",
            "      }\n",
            "      experimental_debug_info {\n",
            "        original_node_names: \"Assert\"\n",
            "      }\n",
            "    }\n",
            "    node_def {\n",
            "      name: \"Identity\"\n",
            "      op: \"Identity\"\n",
            "      input: \"assert_auc_1_assert_greater_equal_all\"\n",
            "      input: \"^Assert\"\n",
            "      attr {\n",
            "        key: \"T\"\n",
            "        value {\n",
            "          type: DT_BOOL\n",
            "        }\n",
            "      }\n",
            "      attr {\n",
            "        key: \"_output_shapes\"\n",
            "        value {\n",
            "          list {\n",
            "            shape {\n",
            "            }\n",
            "          }\n",
            "        }\n",
            "      }\n",
            "      experimental_debug_info {\n",
            "        original_node_names: \"Identity\"\n",
            "      }\n",
            "    }\n",
            "    ret {\n",
            "      key: \"identity\"\n",
            "      value: \"Identity:output:0\"\n",
            "    }\n",
            "    attr {\n",
            "      key: \"_input_shapes\"\n",
            "      value {\n",
            "        list {\n",
            "          shape {\n",
            "          }\n",
            "          shape {\n",
            "            dim {\n",
            "              size: -1\n",
            "            }\n",
            "          }\n",
            "          shape {\n",
            "          }\n",
            "        }\n",
            "      }\n",
            "    }\n",
            "    arg_attr {\n",
            "      value {\n",
            "        attr {\n",
            "          key: \"_output_shapes\"\n",
            "          value {\n",
            "            list {\n",
            "              shape {\n",
            "              }\n",
            "            }\n",
            "          }\n",
            "        }\n",
            "      }\n",
            "    }\n",
            "    arg_attr {\n",
            "      key: 1\n",
            "      value {\n",
            "        attr {\n",
            "          key: \"_output_shapes\"\n",
            "          value {\n",
            "            list {\n",
            "              shape {\n",
            "                dim {\n",
            "                  size: -1\n",
            "                }\n",
            "              }\n",
            "            }\n",
            "          }\n",
            "        }\n",
            "      }\n",
            "    }\n",
            "    arg_attr {\n",
            "      key: 2\n",
            "      value {\n",
            "        attr {\n",
            "          key: \"_output_shapes\"\n",
            "          value {\n",
            "            list {\n",
            "              shape {\n",
            "              }\n",
            "            }\n",
            "          }\n",
            "        }\n",
            "      }\n",
            "    }\n",
            "  }\n",
            "  function {\n",
            "    signature {\n",
            "      name: \"auc_assert_less_equal_Assert_AssertGuard_true_29970\"\n",
            "      input_arg {\n",
            "        name: \"identity_auc_assert_less_equal_all\"\n",
            "        type: DT_BOOL\n",
            "      }\n",
            "      input_arg {\n",
            "        name: \"placeholder\"\n",
            "        type: DT_FLOAT\n",
            "      }\n",
            "      input_arg {\n",
            "        name: \"placeholder_1\"\n",
            "        type: DT_FLOAT\n",
            "      }\n",
            "      output_arg {\n",
            "        name: \"identity\"\n",
            "        type: DT_BOOL\n",
            "      }\n",
            "    }\n",
            "    node_def {\n",
            "      name: \"NoOp\"\n",
            "      op: \"NoOp\"\n",
            "      attr {\n",
            "        key: \"_output_shapes\"\n",
            "        value {\n",
            "          list {\n",
            "          }\n",
            "        }\n",
            "      }\n",
            "      experimental_debug_info {\n",
            "        original_node_names: \"NoOp\"\n",
            "      }\n",
            "    }\n",
            "    node_def {\n",
            "      name: \"Identity\"\n",
            "      op: \"Identity\"\n",
            "      input: \"identity_auc_assert_less_equal_all\"\n",
            "      input: \"^NoOp\"\n",
            "      attr {\n",
            "        key: \"T\"\n",
            "        value {\n",
            "          type: DT_BOOL\n",
            "        }\n",
            "      }\n",
            "      attr {\n",
            "        key: \"_output_shapes\"\n",
            "        value {\n",
            "          list {\n",
            "            shape {\n",
            "            }\n",
            "          }\n",
            "        }\n",
            "      }\n",
            "      experimental_debug_info {\n",
            "        original_node_names: \"Identity\"\n",
            "      }\n",
            "    }\n",
            "    ret {\n",
            "      key: \"identity\"\n",
            "      value: \"Identity:output:0\"\n",
            "    }\n",
            "    attr {\n",
            "      key: \"_input_shapes\"\n",
            "      value {\n",
            "        list {\n",
            "          shape {\n",
            "          }\n",
            "          shape {\n",
            "            dim {\n",
            "              size: -1\n",
            "            }\n",
            "          }\n",
            "          shape {\n",
            "          }\n",
            "        }\n",
            "      }\n",
            "    }\n",
            "    arg_attr {\n",
            "      value {\n",
            "        attr {\n",
            "          key: \"_output_shapes\"\n",
            "          value {\n",
            "            list {\n",
            "              shape {\n",
            "              }\n",
            "            }\n",
            "          }\n",
            "        }\n",
            "      }\n",
            "    }\n",
            "    arg_attr {\n",
            "      key: 1\n",
            "      value {\n",
            "        attr {\n",
            "          key: \"_output_shapes\"\n",
            "          value {\n",
            "            list {\n",
            "              shape {\n",
            "                dim {\n",
            "                  size: -1\n",
            "                }\n",
            "              }\n",
            "            }\n",
            "          }\n",
            "        }\n",
            "      }\n",
            "    }\n",
            "    arg_attr {\n",
            "      key: 2\n",
            "      value {\n",
            "        attr {\n",
            "          key: \"_output_shapes\"\n",
            "          value {\n",
            "            list {\n",
            "              shape {\n",
            "              }\n",
            "            }\n",
            "          }\n",
            "        }\n",
            "      }\n",
            "    }\n",
            "  }\n",
            "  function {\n",
            "    signature {\n",
            "      name: \"auc_1_assert_less_equal_Assert_AssertGuard_false_30164\"\n",
            "      input_arg {\n",
            "        name: \"assert_auc_1_assert_less_equal_all\"\n",
            "        type: DT_BOOL\n",
            "      }\n",
            "      input_arg {\n",
            "        name: \"assert_unstack_1\"\n",
            "        type: DT_FLOAT\n",
            "      }\n",
            "      input_arg {\n",
            "        name: \"assert_auc_1_cast_1_x\"\n",
            "        type: DT_FLOAT\n",
            "      }\n",
            "      output_arg {\n",
            "        name: \"identity\"\n",
            "        type: DT_BOOL\n",
            "      }\n",
            "      is_stateful: true\n",
            "    }\n",
            "    node_def {\n",
            "      name: \"Assert/data_0\"\n",
            "      op: \"Const\"\n",
            "      attr {\n",
            "        key: \"_output_shapes\"\n",
            "        value {\n",
            "          list {\n",
            "            shape {\n",
            "            }\n",
            "          }\n",
            "        }\n",
            "      }\n",
            "      attr {\n",
            "        key: \"dtype\"\n",
            "        value {\n",
            "          type: DT_STRING\n",
            "        }\n",
            "      }\n",
            "      attr {\n",
            "        key: \"value\"\n",
            "        value {\n",
            "          tensor {\n",
            "            dtype: DT_STRING\n",
            "            tensor_shape {\n",
            "            }\n",
            "            string_val: \"predictions must be in [0, 1]\"\n",
            "          }\n",
            "        }\n",
            "      }\n",
            "      experimental_debug_info {\n",
            "        original_node_names: \"Assert/data_0\"\n",
            "      }\n",
            "    }\n",
            "    node_def {\n",
            "      name: \"Assert/data_1\"\n",
            "      op: \"Const\"\n",
            "      attr {\n",
            "        key: \"_output_shapes\"\n",
            "        value {\n",
            "          list {\n",
            "            shape {\n",
            "            }\n",
            "          }\n",
            "        }\n",
            "      }\n",
            "      attr {\n",
            "        key: \"dtype\"\n",
            "        value {\n",
            "          type: DT_STRING\n",
            "        }\n",
            "      }\n",
            "      attr {\n",
            "        key: \"value\"\n",
            "        value {\n",
            "          tensor {\n",
            "            dtype: DT_STRING\n",
            "            tensor_shape {\n",
            "            }\n",
            "            string_val: \"Condition x <= y did not hold element-wise:\"\n",
            "          }\n",
            "        }\n",
            "      }\n",
            "      experimental_debug_info {\n",
            "        original_node_names: \"Assert/data_1\"\n",
            "      }\n",
            "    }\n",
            "    node_def {\n",
            "      name: \"Assert/data_2\"\n",
            "      op: \"Const\"\n",
            "      attr {\n",
            "        key: \"_output_shapes\"\n",
            "        value {\n",
            "          list {\n",
            "            shape {\n",
            "            }\n",
            "          }\n",
            "        }\n",
            "      }\n",
            "      attr {\n",
            "        key: \"dtype\"\n",
            "        value {\n",
            "          type: DT_STRING\n",
            "        }\n",
            "      }\n",
            "      attr {\n",
            "        key: \"value\"\n",
            "        value {\n",
            "          tensor {\n",
            "            dtype: DT_STRING\n",
            "            tensor_shape {\n",
            "            }\n",
            "            string_val: \"x (unstack_1:1) = \"\n",
            "          }\n",
            "        }\n",
            "      }\n",
            "      experimental_debug_info {\n",
            "        original_node_names: \"Assert/data_2\"\n",
            "      }\n",
            "    }\n",
            "    node_def {\n",
            "      name: \"Assert/data_4\"\n",
            "      op: \"Const\"\n",
            "      attr {\n",
            "        key: \"_output_shapes\"\n",
            "        value {\n",
            "          list {\n",
            "            shape {\n",
            "            }\n",
            "          }\n",
            "        }\n",
            "      }\n",
            "      attr {\n",
            "        key: \"dtype\"\n",
            "        value {\n",
            "          type: DT_STRING\n",
            "        }\n",
            "      }\n",
            "      attr {\n",
            "        key: \"value\"\n",
            "        value {\n",
            "          tensor {\n",
            "            dtype: DT_STRING\n",
            "            tensor_shape {\n",
            "            }\n",
            "            string_val: \"y (auc_1/Cast_1/x:0) = \"\n",
            "          }\n",
            "        }\n",
            "      }\n",
            "      experimental_debug_info {\n",
            "        original_node_names: \"Assert/data_4\"\n",
            "      }\n",
            "    }\n",
            "    node_def {\n",
            "      name: \"Assert\"\n",
            "      op: \"Assert\"\n",
            "      input: \"assert_auc_1_assert_less_equal_all\"\n",
            "      input: \"Assert/data_0:output:0\"\n",
            "      input: \"Assert/data_1:output:0\"\n",
            "      input: \"Assert/data_2:output:0\"\n",
            "      input: \"assert_unstack_1\"\n",
            "      input: \"Assert/data_4:output:0\"\n",
            "      input: \"assert_auc_1_cast_1_x\"\n",
            "      attr {\n",
            "        key: \"T\"\n",
            "        value {\n",
            "          list {\n",
            "            type: DT_STRING\n",
            "            type: DT_STRING\n",
            "            type: DT_STRING\n",
            "            type: DT_FLOAT\n",
            "            type: DT_STRING\n",
            "            type: DT_FLOAT\n",
            "          }\n",
            "        }\n",
            "      }\n",
            "      attr {\n",
            "        key: \"_output_shapes\"\n",
            "        value {\n",
            "          list {\n",
            "          }\n",
            "        }\n",
            "      }\n",
            "      attr {\n",
            "        key: \"summarize\"\n",
            "        value {\n",
            "          i: 3\n",
            "        }\n",
            "      }\n",
            "      experimental_debug_info {\n",
            "        original_node_names: \"Assert\"\n",
            "      }\n",
            "    }\n",
            "    node_def {\n",
            "      name: \"Identity\"\n",
            "      op: \"Identity\"\n",
            "      input: \"assert_auc_1_assert_less_equal_all\"\n",
            "      input: \"^Assert\"\n",
            "      attr {\n",
            "        key: \"T\"\n",
            "        value {\n",
            "          type: DT_BOOL\n",
            "        }\n",
            "      }\n",
            "      attr {\n",
            "        key: \"_output_shapes\"\n",
            "        value {\n",
            "          list {\n",
            "            shape {\n",
            "            }\n",
            "          }\n",
            "        }\n",
            "      }\n",
            "      experimental_debug_info {\n",
            "        original_node_names: \"Identity\"\n",
            "      }\n",
            "    }\n",
            "    ret {\n",
            "      key: \"identity\"\n",
            "      value: \"Identity:output:0\"\n",
            "    }\n",
            "    attr {\n",
            "      key: \"_input_shapes\"\n",
            "      value {\n",
            "        list {\n",
            "          shape {\n",
            "          }\n",
            "          shape {\n",
            "            dim {\n",
            "              size: -1\n",
            "            }\n",
            "          }\n",
            "          shape {\n",
            "          }\n",
            "        }\n",
            "      }\n",
            "    }\n",
            "    arg_attr {\n",
            "      value {\n",
            "        attr {\n",
            "          key: \"_output_shapes\"\n",
            "          value {\n",
            "            list {\n",
            "              shape {\n",
            "              }\n",
            "            }\n",
            "          }\n",
            "        }\n",
            "      }\n",
            "    }\n",
            "    arg_attr {\n",
            "      key: 1\n",
            "      value {\n",
            "        attr {\n",
            "          key: \"_output_shapes\"\n",
            "          value {\n",
            "            list {\n",
            "              shape {\n",
            "                dim {\n",
            "                  size: -1\n",
            "                }\n",
            "              }\n",
            "            }\n",
            "          }\n",
            "        }\n",
            "      }\n",
            "    }\n",
            "    arg_attr {\n",
            "      key: 2\n",
            "      value {\n",
            "        attr {\n",
            "          key: \"_output_shapes\"\n",
            "          value {\n",
            "            list {\n",
            "              shape {\n",
            "              }\n",
            "            }\n",
            "          }\n",
            "        }\n",
            "      }\n",
            "    }\n",
            "  }\n",
            "  function {\n",
            "    signature {\n",
            "      name: \"global_step_cond_true_29494\"\n",
            "      input_arg {\n",
            "        name: \"read_readvariableop_global_step\"\n",
            "        type: DT_RESOURCE\n",
            "      }\n",
            "      input_arg {\n",
            "        name: \"placeholder\"\n",
            "        type: DT_INT64\n",
            "      }\n",
            "      output_arg {\n",
            "        name: \"identity\"\n",
            "        type: DT_INT64\n",
            "      }\n",
            "      is_stateful: true\n",
            "    }\n",
            "    node_def {\n",
            "      name: \"Read/ReadVariableOp\"\n",
            "      op: \"ReadVariableOp\"\n",
            "      input: \"read_readvariableop_global_step\"\n",
            "      attr {\n",
            "        key: \"_output_shapes\"\n",
            "        value {\n",
            "          list {\n",
            "            shape {\n",
            "            }\n",
            "          }\n",
            "        }\n",
            "      }\n",
            "      attr {\n",
            "        key: \"dtype\"\n",
            "        value {\n",
            "          type: DT_INT64\n",
            "        }\n",
            "      }\n",
            "      experimental_debug_info {\n",
            "        original_node_names: \"Read/ReadVariableOp\"\n",
            "      }\n",
            "    }\n",
            "    node_def {\n",
            "      name: \"Identity\"\n",
            "      op: \"Identity\"\n",
            "      input: \"Read/ReadVariableOp:value:0\"\n",
            "      attr {\n",
            "        key: \"T\"\n",
            "        value {\n",
            "          type: DT_INT64\n",
            "        }\n",
            "      }\n",
            "      attr {\n",
            "        key: \"_output_shapes\"\n",
            "        value {\n",
            "          list {\n",
            "            shape {\n",
            "            }\n",
            "          }\n",
            "        }\n",
            "      }\n",
            "      experimental_debug_info {\n",
            "        original_node_names: \"Identity\"\n",
            "      }\n",
            "    }\n",
            "    ret {\n",
            "      key: \"identity\"\n",
            "      value: \"Identity:output:0\"\n",
            "    }\n",
            "    attr {\n",
            "      key: \"_input_shapes\"\n",
            "      value {\n",
            "        list {\n",
            "          shape {\n",
            "            unknown_rank: true\n",
            "          }\n",
            "          shape {\n",
            "          }\n",
            "        }\n",
            "      }\n",
            "    }\n",
            "    arg_attr {\n",
            "      value {\n",
            "        attr {\n",
            "          key: \"_output_shapes\"\n",
            "          value {\n",
            "            list {\n",
            "              shape {\n",
            "              }\n",
            "            }\n",
            "          }\n",
            "        }\n",
            "      }\n",
            "    }\n",
            "    arg_attr {\n",
            "      key: 1\n",
            "      value {\n",
            "        attr {\n",
            "          key: \"_output_shapes\"\n",
            "          value {\n",
            "            list {\n",
            "              shape {\n",
            "              }\n",
            "            }\n",
            "          }\n",
            "        }\n",
            "      }\n",
            "    }\n",
            "  }\n",
            "  function {\n",
            "    signature {\n",
            "      name: \"auc_assert_less_equal_Assert_AssertGuard_false_29971\"\n",
            "      input_arg {\n",
            "        name: \"assert_auc_assert_less_equal_all\"\n",
            "        type: DT_BOOL\n",
            "      }\n",
            "      input_arg {\n",
            "        name: \"assert_unstack\"\n",
            "        type: DT_FLOAT\n",
            "      }\n",
            "      input_arg {\n",
            "        name: \"assert_auc_cast_1_x\"\n",
            "        type: DT_FLOAT\n",
            "      }\n",
            "      output_arg {\n",
            "        name: \"identity\"\n",
            "        type: DT_BOOL\n",
            "      }\n",
            "      is_stateful: true\n",
            "    }\n",
            "    node_def {\n",
            "      name: \"Assert/data_0\"\n",
            "      op: \"Const\"\n",
            "      attr {\n",
            "        key: \"_output_shapes\"\n",
            "        value {\n",
            "          list {\n",
            "            shape {\n",
            "            }\n",
            "          }\n",
            "        }\n",
            "      }\n",
            "      attr {\n",
            "        key: \"dtype\"\n",
            "        value {\n",
            "          type: DT_STRING\n",
            "        }\n",
            "      }\n",
            "      attr {\n",
            "        key: \"value\"\n",
            "        value {\n",
            "          tensor {\n",
            "            dtype: DT_STRING\n",
            "            tensor_shape {\n",
            "            }\n",
            "            string_val: \"predictions must be in [0, 1]\"\n",
            "          }\n",
            "        }\n",
            "      }\n",
            "      experimental_debug_info {\n",
            "        original_node_names: \"Assert/data_0\"\n",
            "      }\n",
            "    }\n",
            "    node_def {\n",
            "      name: \"Assert/data_1\"\n",
            "      op: \"Const\"\n",
            "      attr {\n",
            "        key: \"_output_shapes\"\n",
            "        value {\n",
            "          list {\n",
            "            shape {\n",
            "            }\n",
            "          }\n",
            "        }\n",
            "      }\n",
            "      attr {\n",
            "        key: \"dtype\"\n",
            "        value {\n",
            "          type: DT_STRING\n",
            "        }\n",
            "      }\n",
            "      attr {\n",
            "        key: \"value\"\n",
            "        value {\n",
            "          tensor {\n",
            "            dtype: DT_STRING\n",
            "            tensor_shape {\n",
            "            }\n",
            "            string_val: \"Condition x <= y did not hold element-wise:\"\n",
            "          }\n",
            "        }\n",
            "      }\n",
            "      experimental_debug_info {\n",
            "        original_node_names: \"Assert/data_1\"\n",
            "      }\n",
            "    }\n",
            "    node_def {\n",
            "      name: \"Assert/data_2\"\n",
            "      op: \"Const\"\n",
            "      attr {\n",
            "        key: \"_output_shapes\"\n",
            "        value {\n",
            "          list {\n",
            "            shape {\n",
            "            }\n",
            "          }\n",
            "        }\n",
            "      }\n",
            "      attr {\n",
            "        key: \"dtype\"\n",
            "        value {\n",
            "          type: DT_STRING\n",
            "        }\n",
            "      }\n",
            "      attr {\n",
            "        key: \"value\"\n",
            "        value {\n",
            "          tensor {\n",
            "            dtype: DT_STRING\n",
            "            tensor_shape {\n",
            "            }\n",
            "            string_val: \"x (unstack:1) = \"\n",
            "          }\n",
            "        }\n",
            "      }\n",
            "      experimental_debug_info {\n",
            "        original_node_names: \"Assert/data_2\"\n",
            "      }\n",
            "    }\n",
            "    node_def {\n",
            "      name: \"Assert/data_4\"\n",
            "      op: \"Const\"\n",
            "      attr {\n",
            "        key: \"_output_shapes\"\n",
            "        value {\n",
            "          list {\n",
            "            shape {\n",
            "            }\n",
            "          }\n",
            "        }\n",
            "      }\n",
            "      attr {\n",
            "        key: \"dtype\"\n",
            "        value {\n",
            "          type: DT_STRING\n",
            "        }\n",
            "      }\n",
            "      attr {\n",
            "        key: \"value\"\n",
            "        value {\n",
            "          tensor {\n",
            "            dtype: DT_STRING\n",
            "            tensor_shape {\n",
            "            }\n",
            "            string_val: \"y (auc/Cast_1/x:0) = \"\n",
            "          }\n",
            "        }\n",
            "      }\n",
            "      experimental_debug_info {\n",
            "        original_node_names: \"Assert/data_4\"\n",
            "      }\n",
            "    }\n",
            "    node_def {\n",
            "      name: \"Assert\"\n",
            "      op: \"Assert\"\n",
            "      input: \"assert_auc_assert_less_equal_all\"\n",
            "      input: \"Assert/data_0:output:0\"\n",
            "      input: \"Assert/data_1:output:0\"\n",
            "      input: \"Assert/data_2:output:0\"\n",
            "      input: \"assert_unstack\"\n",
            "      input: \"Assert/data_4:output:0\"\n",
            "      input: \"assert_auc_cast_1_x\"\n",
            "      attr {\n",
            "        key: \"T\"\n",
            "        value {\n",
            "          list {\n",
            "            type: DT_STRING\n",
            "            type: DT_STRING\n",
            "            type: DT_STRING\n",
            "            type: DT_FLOAT\n",
            "            type: DT_STRING\n",
            "            type: DT_FLOAT\n",
            "          }\n",
            "        }\n",
            "      }\n",
            "      attr {\n",
            "        key: \"_output_shapes\"\n",
            "        value {\n",
            "          list {\n",
            "          }\n",
            "        }\n",
            "      }\n",
            "      attr {\n",
            "        key: \"summarize\"\n",
            "        value {\n",
            "          i: 3\n",
            "        }\n",
            "      }\n",
            "      experimental_debug_info {\n",
            "        original_node_names: \"Assert\"\n",
            "      }\n",
            "    }\n",
            "    node_def {\n",
            "      name: \"Identity\"\n",
            "      op: \"Identity\"\n",
            "      input: \"assert_auc_assert_less_equal_all\"\n",
            "      input: \"^Assert\"\n",
            "      attr {\n",
            "        key: \"T\"\n",
            "        value {\n",
            "          type: DT_BOOL\n",
            "        }\n",
            "      }\n",
            "      attr {\n",
            "        key: \"_output_shapes\"\n",
            "        value {\n",
            "          list {\n",
            "            shape {\n",
            "            }\n",
            "          }\n",
            "        }\n",
            "      }\n",
            "      experimental_debug_info {\n",
            "        original_node_names: \"Identity\"\n",
            "      }\n",
            "    }\n",
            "    ret {\n",
            "      key: \"identity\"\n",
            "      value: \"Identity:output:0\"\n",
            "    }\n",
            "    attr {\n",
            "      key: \"_input_shapes\"\n",
            "      value {\n",
            "        list {\n",
            "          shape {\n",
            "          }\n",
            "          shape {\n",
            "            dim {\n",
            "              size: -1\n",
            "            }\n",
            "          }\n",
            "          shape {\n",
            "          }\n",
            "        }\n",
            "      }\n",
            "    }\n",
            "    arg_attr {\n",
            "      value {\n",
            "        attr {\n",
            "          key: \"_output_shapes\"\n",
            "          value {\n",
            "            list {\n",
            "              shape {\n",
            "              }\n",
            "            }\n",
            "          }\n",
            "        }\n",
            "      }\n",
            "    }\n",
            "    arg_attr {\n",
            "      key: 1\n",
            "      value {\n",
            "        attr {\n",
            "          key: \"_output_shapes\"\n",
            "          value {\n",
            "            list {\n",
            "              shape {\n",
            "                dim {\n",
            "                  size: -1\n",
            "                }\n",
            "              }\n",
            "            }\n",
            "          }\n",
            "        }\n",
            "      }\n",
            "    }\n",
            "    arg_attr {\n",
            "      key: 2\n",
            "      value {\n",
            "        attr {\n",
            "          key: \"_output_shapes\"\n",
            "          value {\n",
            "            list {\n",
            "              shape {\n",
            "              }\n",
            "            }\n",
            "          }\n",
            "        }\n",
            "      }\n",
            "    }\n",
            "  }\n",
            "  function {\n",
            "    signature {\n",
            "      name: \"global_step_cond_false_29495\"\n",
            "      input_arg {\n",
            "        name: \"placeholder\"\n",
            "        type: DT_RESOURCE\n",
            "      }\n",
            "      input_arg {\n",
            "        name: \"global_step_initializer_zeros_0\"\n",
            "        type: DT_INT64\n",
            "      }\n",
            "      output_arg {\n",
            "        name: \"global_step_initializer_zeros\"\n",
            "        type: DT_INT64\n",
            "      }\n",
            "    }\n",
            "    ret {\n",
            "      key: \"global_step_initializer_zeros\"\n",
            "      value: \"global_step_initializer_zeros_0\"\n",
            "    }\n",
            "    attr {\n",
            "      key: \"_input_shapes\"\n",
            "      value {\n",
            "        list {\n",
            "          shape {\n",
            "            unknown_rank: true\n",
            "          }\n",
            "          shape {\n",
            "          }\n",
            "        }\n",
            "      }\n",
            "    }\n",
            "    arg_attr {\n",
            "      value {\n",
            "        attr {\n",
            "          key: \"_output_shapes\"\n",
            "          value {\n",
            "            list {\n",
            "              shape {\n",
            "              }\n",
            "            }\n",
            "          }\n",
            "        }\n",
            "      }\n",
            "    }\n",
            "    arg_attr {\n",
            "      key: 1\n",
            "      value {\n",
            "        attr {\n",
            "          key: \"_output_shapes\"\n",
            "          value {\n",
            "            list {\n",
            "              shape {\n",
            "              }\n",
            "            }\n",
            "          }\n",
            "        }\n",
            "      }\n",
            "    }\n",
            "  }\n",
            "  function {\n",
            "    signature {\n",
            "      name: \"auc_assert_greater_equal_Assert_AssertGuard_true_29944\"\n",
            "      input_arg {\n",
            "        name: \"identity_auc_assert_greater_equal_all\"\n",
            "        type: DT_BOOL\n",
            "      }\n",
            "      input_arg {\n",
            "        name: \"placeholder\"\n",
            "        type: DT_FLOAT\n",
            "      }\n",
            "      input_arg {\n",
            "        name: \"placeholder_1\"\n",
            "        type: DT_FLOAT\n",
            "      }\n",
            "      output_arg {\n",
            "        name: \"identity\"\n",
            "        type: DT_BOOL\n",
            "      }\n",
            "    }\n",
            "    node_def {\n",
            "      name: \"NoOp\"\n",
            "      op: \"NoOp\"\n",
            "      attr {\n",
            "        key: \"_output_shapes\"\n",
            "        value {\n",
            "          list {\n",
            "          }\n",
            "        }\n",
            "      }\n",
            "      experimental_debug_info {\n",
            "        original_node_names: \"NoOp\"\n",
            "      }\n",
            "    }\n",
            "    node_def {\n",
            "      name: \"Identity\"\n",
            "      op: \"Identity\"\n",
            "      input: \"identity_auc_assert_greater_equal_all\"\n",
            "      input: \"^NoOp\"\n",
            "      attr {\n",
            "        key: \"T\"\n",
            "        value {\n",
            "          type: DT_BOOL\n",
            "        }\n",
            "      }\n",
            "      attr {\n",
            "        key: \"_output_shapes\"\n",
            "        value {\n",
            "          list {\n",
            "            shape {\n",
            "            }\n",
            "          }\n",
            "        }\n",
            "      }\n",
            "      experimental_debug_info {\n",
            "        original_node_names: \"Identity\"\n",
            "      }\n",
            "    }\n",
            "    ret {\n",
            "      key: \"identity\"\n",
            "      value: \"Identity:output:0\"\n",
            "    }\n",
            "    attr {\n",
            "      key: \"_input_shapes\"\n",
            "      value {\n",
            "        list {\n",
            "          shape {\n",
            "          }\n",
            "          shape {\n",
            "            dim {\n",
            "              size: -1\n",
            "            }\n",
            "          }\n",
            "          shape {\n",
            "          }\n",
            "        }\n",
            "      }\n",
            "    }\n",
            "    arg_attr {\n",
            "      value {\n",
            "        attr {\n",
            "          key: \"_output_shapes\"\n",
            "          value {\n",
            "            list {\n",
            "              shape {\n",
            "              }\n",
            "            }\n",
            "          }\n",
            "        }\n",
            "      }\n",
            "    }\n",
            "    arg_attr {\n",
            "      key: 1\n",
            "      value {\n",
            "        attr {\n",
            "          key: \"_output_shapes\"\n",
            "          value {\n",
            "            list {\n",
            "              shape {\n",
            "                dim {\n",
            "                  size: -1\n",
            "                }\n",
            "              }\n",
            "            }\n",
            "          }\n",
            "        }\n",
            "      }\n",
            "    }\n",
            "    arg_attr {\n",
            "      key: 2\n",
            "      value {\n",
            "        attr {\n",
            "          key: \"_output_shapes\"\n",
            "          value {\n",
            "            list {\n",
            "              shape {\n",
            "              }\n",
            "            }\n",
            "          }\n",
            "        }\n",
            "      }\n",
            "    }\n",
            "  }\n",
            "  function {\n",
            "    signature {\n",
            "      name: \"auc_assert_greater_equal_Assert_AssertGuard_false_29945\"\n",
            "      input_arg {\n",
            "        name: \"assert_auc_assert_greater_equal_all\"\n",
            "        type: DT_BOOL\n",
            "      }\n",
            "      input_arg {\n",
            "        name: \"assert_unstack\"\n",
            "        type: DT_FLOAT\n",
            "      }\n",
            "      input_arg {\n",
            "        name: \"assert_auc_cast_x\"\n",
            "        type: DT_FLOAT\n",
            "      }\n",
            "      output_arg {\n",
            "        name: \"identity\"\n",
            "        type: DT_BOOL\n",
            "      }\n",
            "      is_stateful: true\n",
            "    }\n",
            "    node_def {\n",
            "      name: \"Assert/data_0\"\n",
            "      op: \"Const\"\n",
            "      attr {\n",
            "        key: \"_output_shapes\"\n",
            "        value {\n",
            "          list {\n",
            "            shape {\n",
            "            }\n",
            "          }\n",
            "        }\n",
            "      }\n",
            "      attr {\n",
            "        key: \"dtype\"\n",
            "        value {\n",
            "          type: DT_STRING\n",
            "        }\n",
            "      }\n",
            "      attr {\n",
            "        key: \"value\"\n",
            "        value {\n",
            "          tensor {\n",
            "            dtype: DT_STRING\n",
            "            tensor_shape {\n",
            "            }\n",
            "            string_val: \"predictions must be in [0, 1]\"\n",
            "          }\n",
            "        }\n",
            "      }\n",
            "      experimental_debug_info {\n",
            "        original_node_names: \"Assert/data_0\"\n",
            "      }\n",
            "    }\n",
            "    node_def {\n",
            "      name: \"Assert/data_1\"\n",
            "      op: \"Const\"\n",
            "      attr {\n",
            "        key: \"_output_shapes\"\n",
            "        value {\n",
            "          list {\n",
            "            shape {\n",
            "            }\n",
            "          }\n",
            "        }\n",
            "      }\n",
            "      attr {\n",
            "        key: \"dtype\"\n",
            "        value {\n",
            "          type: DT_STRING\n",
            "        }\n",
            "      }\n",
            "      attr {\n",
            "        key: \"value\"\n",
            "        value {\n",
            "          tensor {\n",
            "            dtype: DT_STRING\n",
            "            tensor_shape {\n",
            "            }\n",
            "            string_val: \"Condition x >= y did not hold element-wise:\"\n",
            "          }\n",
            "        }\n",
            "      }\n",
            "      experimental_debug_info {\n",
            "        original_node_names: \"Assert/data_1\"\n",
            "      }\n",
            "    }\n",
            "    node_def {\n",
            "      name: \"Assert/data_2\"\n",
            "      op: \"Const\"\n",
            "      attr {\n",
            "        key: \"_output_shapes\"\n",
            "        value {\n",
            "          list {\n",
            "            shape {\n",
            "            }\n",
            "          }\n",
            "        }\n",
            "      }\n",
            "      attr {\n",
            "        key: \"dtype\"\n",
            "        value {\n",
            "          type: DT_STRING\n",
            "        }\n",
            "      }\n",
            "      attr {\n",
            "        key: \"value\"\n",
            "        value {\n",
            "          tensor {\n",
            "            dtype: DT_STRING\n",
            "            tensor_shape {\n",
            "            }\n",
            "            string_val: \"x (unstack:1) = \"\n",
            "          }\n",
            "        }\n",
            "      }\n",
            "      experimental_debug_info {\n",
            "        original_node_names: \"Assert/data_2\"\n",
            "      }\n",
            "    }\n",
            "    node_def {\n",
            "      name: \"Assert/data_4\"\n",
            "      op: \"Const\"\n",
            "      attr {\n",
            "        key: \"_output_shapes\"\n",
            "        value {\n",
            "          list {\n",
            "            shape {\n",
            "            }\n",
            "          }\n",
            "        }\n",
            "      }\n",
            "      attr {\n",
            "        key: \"dtype\"\n",
            "        value {\n",
            "          type: DT_STRING\n",
            "        }\n",
            "      }\n",
            "      attr {\n",
            "        key: \"value\"\n",
            "        value {\n",
            "          tensor {\n",
            "            dtype: DT_STRING\n",
            "            tensor_shape {\n",
            "            }\n",
            "            string_val: \"y (auc/Cast/x:0) = \"\n",
            "          }\n",
            "        }\n",
            "      }\n",
            "      experimental_debug_info {\n",
            "        original_node_names: \"Assert/data_4\"\n",
            "      }\n",
            "    }\n",
            "    node_def {\n",
            "      name: \"Assert\"\n",
            "      op: \"Assert\"\n",
            "      input: \"assert_auc_assert_greater_equal_all\"\n",
            "      input: \"Assert/data_0:output:0\"\n",
            "      input: \"Assert/data_1:output:0\"\n",
            "      input: \"Assert/data_2:output:0\"\n",
            "      input: \"assert_unstack\"\n",
            "      input: \"Assert/data_4:output:0\"\n",
            "      input: \"assert_auc_cast_x\"\n",
            "      attr {\n",
            "        key: \"T\"\n",
            "        value {\n",
            "          list {\n",
            "            type: DT_STRING\n",
            "            type: DT_STRING\n",
            "            type: DT_STRING\n",
            "            type: DT_FLOAT\n",
            "            type: DT_STRING\n",
            "            type: DT_FLOAT\n",
            "          }\n",
            "        }\n",
            "      }\n",
            "      attr {\n",
            "        key: \"_output_shapes\"\n",
            "        value {\n",
            "          list {\n",
            "          }\n",
            "        }\n",
            "      }\n",
            "      attr {\n",
            "        key: \"summarize\"\n",
            "        value {\n",
            "          i: 3\n",
            "        }\n",
            "      }\n",
            "      experimental_debug_info {\n",
            "        original_node_names: \"Assert\"\n",
            "      }\n",
            "    }\n",
            "    node_def {\n",
            "      name: \"Identity\"\n",
            "      op: \"Identity\"\n",
            "      input: \"assert_auc_assert_greater_equal_all\"\n",
            "      input: \"^Assert\"\n",
            "      attr {\n",
            "        key: \"T\"\n",
            "        value {\n",
            "          type: DT_BOOL\n",
            "        }\n",
            "      }\n",
            "      attr {\n",
            "        key: \"_output_shapes\"\n",
            "        value {\n",
            "          list {\n",
            "            shape {\n",
            "            }\n",
            "          }\n",
            "        }\n",
            "      }\n",
            "      experimental_debug_info {\n",
            "        original_node_names: \"Identity\"\n",
            "      }\n",
            "    }\n",
            "    ret {\n",
            "      key: \"identity\"\n",
            "      value: \"Identity:output:0\"\n",
            "    }\n",
            "    attr {\n",
            "      key: \"_input_shapes\"\n",
            "      value {\n",
            "        list {\n",
            "          shape {\n",
            "          }\n",
            "          shape {\n",
            "            dim {\n",
            "              size: -1\n",
            "            }\n",
            "          }\n",
            "          shape {\n",
            "          }\n",
            "        }\n",
            "      }\n",
            "    }\n",
            "    arg_attr {\n",
            "      value {\n",
            "        attr {\n",
            "          key: \"_output_shapes\"\n",
            "          value {\n",
            "            list {\n",
            "              shape {\n",
            "              }\n",
            "            }\n",
            "          }\n",
            "        }\n",
            "      }\n",
            "    }\n",
            "    arg_attr {\n",
            "      key: 1\n",
            "      value {\n",
            "        attr {\n",
            "          key: \"_output_shapes\"\n",
            "          value {\n",
            "            list {\n",
            "              shape {\n",
            "                dim {\n",
            "                  size: -1\n",
            "                }\n",
            "              }\n",
            "            }\n",
            "          }\n",
            "        }\n",
            "      }\n",
            "    }\n",
            "    arg_attr {\n",
            "      key: 2\n",
            "      value {\n",
            "        attr {\n",
            "          key: \"_output_shapes\"\n",
            "          value {\n",
            "            list {\n",
            "              shape {\n",
            "              }\n",
            "            }\n",
            "          }\n",
            "        }\n",
            "      }\n",
            "    }\n",
            "  }\n",
            "  function {\n",
            "    signature {\n",
            "      name: \"auc_1_assert_less_equal_Assert_AssertGuard_true_30163\"\n",
            "      input_arg {\n",
            "        name: \"identity_auc_1_assert_less_equal_all\"\n",
            "        type: DT_BOOL\n",
            "      }\n",
            "      input_arg {\n",
            "        name: \"placeholder\"\n",
            "        type: DT_FLOAT\n",
            "      }\n",
            "      input_arg {\n",
            "        name: \"placeholder_1\"\n",
            "        type: DT_FLOAT\n",
            "      }\n",
            "      output_arg {\n",
            "        name: \"identity\"\n",
            "        type: DT_BOOL\n",
            "      }\n",
            "    }\n",
            "    node_def {\n",
            "      name: \"NoOp\"\n",
            "      op: \"NoOp\"\n",
            "      attr {\n",
            "        key: \"_output_shapes\"\n",
            "        value {\n",
            "          list {\n",
            "          }\n",
            "        }\n",
            "      }\n",
            "      experimental_debug_info {\n",
            "        original_node_names: \"NoOp\"\n",
            "      }\n",
            "    }\n",
            "    node_def {\n",
            "      name: \"Identity\"\n",
            "      op: \"Identity\"\n",
            "      input: \"identity_auc_1_assert_less_equal_all\"\n",
            "      input: \"^NoOp\"\n",
            "      attr {\n",
            "        key: \"T\"\n",
            "        value {\n",
            "          type: DT_BOOL\n",
            "        }\n",
            "      }\n",
            "      attr {\n",
            "        key: \"_output_shapes\"\n",
            "        value {\n",
            "          list {\n",
            "            shape {\n",
            "            }\n",
            "          }\n",
            "        }\n",
            "      }\n",
            "      experimental_debug_info {\n",
            "        original_node_names: \"Identity\"\n",
            "      }\n",
            "    }\n",
            "    ret {\n",
            "      key: \"identity\"\n",
            "      value: \"Identity:output:0\"\n",
            "    }\n",
            "    attr {\n",
            "      key: \"_input_shapes\"\n",
            "      value {\n",
            "        list {\n",
            "          shape {\n",
            "          }\n",
            "          shape {\n",
            "            dim {\n",
            "              size: -1\n",
            "            }\n",
            "          }\n",
            "          shape {\n",
            "          }\n",
            "        }\n",
            "      }\n",
            "    }\n",
            "    arg_attr {\n",
            "      value {\n",
            "        attr {\n",
            "          key: \"_output_shapes\"\n",
            "          value {\n",
            "            list {\n",
            "              shape {\n",
            "              }\n",
            "            }\n",
            "          }\n",
            "        }\n",
            "      }\n",
            "    }\n",
            "    arg_attr {\n",
            "      key: 1\n",
            "      value {\n",
            "        attr {\n",
            "          key: \"_output_shapes\"\n",
            "          value {\n",
            "            list {\n",
            "              shape {\n",
            "                dim {\n",
            "                  size: -1\n",
            "                }\n",
            "              }\n",
            "            }\n",
            "          }\n",
            "        }\n",
            "      }\n",
            "    }\n",
            "    arg_attr {\n",
            "      key: 2\n",
            "      value {\n",
            "        attr {\n",
            "          key: \"_output_shapes\"\n",
            "          value {\n",
            "            list {\n",
            "              shape {\n",
            "              }\n",
            "            }\n",
            "          }\n",
            "        }\n",
            "      }\n",
            "    }\n",
            "  }\n",
            "}\n",
            "versions {\n",
            "  producer: 175\n",
            "  min_consumer: 12\n",
            "}\n"
          ],
          "name": "stdout"
        }
      ]
    },
    {
      "cell_type": "code",
      "metadata": {
        "id": "RJ8Xe3mJQ6ib"
      },
      "source": [
        ""
      ],
      "execution_count": 57,
      "outputs": []
    }
  ]
}